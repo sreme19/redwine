{
  "cells": [
    {
      "cell_type": "markdown",
      "metadata": {
        "id": "DbZpWJ-z_41l"
      },
      "source": [
        "<h1>Red Wine Quality Dataset</h1>\n",
        "<h2>Context</h2>\n",
        "The two datasets are related to red and white variants of the Portuguese \"Vinho Verde\" wine. For more details, consult the reference [Cortez et al., 2009]. Due to privacy and logistic issues, only physicochemical (inputs) and sensory (the output) variables are available (e.g. there is no data about grape types, wine brand, wine selling price, etc.).\n",
        "\n",
        "These datasets can be viewed as classification or regression tasks. The classes are ordered and not balanced (e.g. there are much more normal wines than excellent or poor ones).\n",
        "\n",
        "Link to dataset : https://www.kaggle.com/datasets/uciml/red-wine-quality-cortez-et-al-2009"
      ]
    },
    {
      "cell_type": "markdown",
      "metadata": {
        "id": "5NuC9LTbApl8"
      },
      "source": [
        "<h1>What to do</h1>\n",
        "Given the data of Red Wine, we will find the equation / correlation between the variable of the Red Wine such as alcohol, density, etc. to the target variable (quality) using the baseline Machine Learning Model (simple one)"
      ]
    },
    {
      "cell_type": "markdown",
      "metadata": {
        "id": "ivppv0hDBYad"
      },
      "source": [
        "# Preparation and Importing Library"
      ]
    },
    {
      "cell_type": "code",
      "execution_count": 1,
      "metadata": {
        "colab": {
          "base_uri": "https://localhost:8080/"
        },
        "id": "KCwVzbW6UGDu",
        "outputId": "ecf116ac-d245-4435-91de-79964974ae22"
      },
      "outputs": [
        {
          "output_type": "stream",
          "name": "stdout",
          "text": [
            "Looking in indexes: https://pypi.org/simple, https://us-python.pkg.dev/colab-wheels/public/simple/\n",
            "Collecting eli5\n",
            "  Downloading eli5-0.13.0.tar.gz (216 kB)\n",
            "\u001b[2K     \u001b[90m━━━━━━━━━━━━━━━━━━━━━━━━━━━━━━━━━━━━━━━\u001b[0m \u001b[32m216.2/216.2 KB\u001b[0m \u001b[31m3.9 MB/s\u001b[0m eta \u001b[36m0:00:00\u001b[0m\n",
            "\u001b[?25h  Preparing metadata (setup.py) ... \u001b[?25l\u001b[?25hdone\n",
            "Requirement already satisfied: attrs>17.1.0 in /usr/local/lib/python3.8/dist-packages (from eli5) (22.2.0)\n",
            "Collecting jinja2>=3.0.0\n",
            "  Downloading Jinja2-3.1.2-py3-none-any.whl (133 kB)\n",
            "\u001b[2K     \u001b[90m━━━━━━━━━━━━━━━━━━━━━━━━━━━━━━━━━━━━━━━\u001b[0m \u001b[32m133.1/133.1 KB\u001b[0m \u001b[31m6.4 MB/s\u001b[0m eta \u001b[36m0:00:00\u001b[0m\n",
            "\u001b[?25hRequirement already satisfied: numpy>=1.9.0 in /usr/local/lib/python3.8/dist-packages (from eli5) (1.21.6)\n",
            "Requirement already satisfied: scipy in /usr/local/lib/python3.8/dist-packages (from eli5) (1.7.3)\n",
            "Requirement already satisfied: six in /usr/local/lib/python3.8/dist-packages (from eli5) (1.15.0)\n",
            "Requirement already satisfied: scikit-learn>=0.20 in /usr/local/lib/python3.8/dist-packages (from eli5) (1.0.2)\n",
            "Requirement already satisfied: graphviz in /usr/local/lib/python3.8/dist-packages (from eli5) (0.10.1)\n",
            "Requirement already satisfied: tabulate>=0.7.7 in /usr/local/lib/python3.8/dist-packages (from eli5) (0.8.10)\n",
            "Requirement already satisfied: MarkupSafe>=2.0 in /usr/local/lib/python3.8/dist-packages (from jinja2>=3.0.0->eli5) (2.0.1)\n",
            "Requirement already satisfied: joblib>=0.11 in /usr/local/lib/python3.8/dist-packages (from scikit-learn>=0.20->eli5) (1.2.0)\n",
            "Requirement already satisfied: threadpoolctl>=2.0.0 in /usr/local/lib/python3.8/dist-packages (from scikit-learn>=0.20->eli5) (3.1.0)\n",
            "Building wheels for collected packages: eli5\n",
            "  Building wheel for eli5 (setup.py) ... \u001b[?25l\u001b[?25hdone\n",
            "  Created wheel for eli5: filename=eli5-0.13.0-py2.py3-none-any.whl size=107748 sha256=5c7112924f216f8dc44acd85242af58fb0735c6a6e6c13fffc65d64138dca298\n",
            "  Stored in directory: /root/.cache/pip/wheels/85/ac/25/ffcd87ef8f9b1eec324fdf339359be71f22612459d8c75d89c\n",
            "Successfully built eli5\n",
            "Installing collected packages: jinja2, eli5\n",
            "  Attempting uninstall: jinja2\n",
            "    Found existing installation: Jinja2 2.11.3\n",
            "    Uninstalling Jinja2-2.11.3:\n",
            "      Successfully uninstalled Jinja2-2.11.3\n",
            "\u001b[31mERROR: pip's dependency resolver does not currently take into account all the packages that are installed. This behaviour is the source of the following dependency conflicts.\n",
            "notebook 5.7.16 requires jinja2<=3.0.0, but you have jinja2 3.1.2 which is incompatible.\n",
            "flask 1.1.4 requires Jinja2<3.0,>=2.10.1, but you have jinja2 3.1.2 which is incompatible.\u001b[0m\u001b[31m\n",
            "\u001b[0mSuccessfully installed eli5-0.13.0 jinja2-3.1.2\n",
            "Looking in indexes: https://pypi.org/simple, https://us-python.pkg.dev/colab-wheels/public/simple/\n",
            "Requirement already satisfied: pydot in /usr/local/lib/python3.8/dist-packages (1.3.0)\n",
            "Requirement already satisfied: pyparsing>=2.1.4 in /usr/local/lib/python3.8/dist-packages (from pydot) (3.0.9)\n",
            "Looking in indexes: https://pypi.org/simple, https://us-python.pkg.dev/colab-wheels/public/simple/\n",
            "Requirement already satisfied: pydotplus in /usr/local/lib/python3.8/dist-packages (2.0.2)\n",
            "Requirement already satisfied: pyparsing>=2.0.1 in /usr/local/lib/python3.8/dist-packages (from pydotplus) (3.0.9)\n"
          ]
        }
      ],
      "source": [
        "!pip install eli5\n",
        "!pip install pydot\n",
        "!pip install pydotplus"
      ]
    },
    {
      "cell_type": "markdown",
      "metadata": {
        "id": "QyqSFjeRBjzj"
      },
      "source": [
        "We'll be using simple Decision Tree algorithm from sklearn to see how much can we get by just using those tools."
      ]
    },
    {
      "cell_type": "code",
      "execution_count": 2,
      "metadata": {
        "id": "MnHHLaMfBjVM"
      },
      "outputs": [],
      "source": [
        "import numpy as np\n",
        "import pandas as pd\n",
        "from matplotlib import pyplot as plt\n",
        "plt.rcParams['figure.figsize'] = (17, 11)\n",
        "plt.style.use('fivethirtyeight')\n",
        "import seaborn as sns\n",
        "sns.set_style('darkgrid')\n",
        "\n",
        "from sklearn.feature_selection import mutual_info_classif, mutual_info_regression\n",
        "from sklearn.pipeline import make_pipeline\n",
        "from sklearn.impute import SimpleImputer\n",
        "from sklearn.model_selection import train_test_split, RandomizedSearchCV, GridSearchCV\n",
        "from sklearn.preprocessing import OrdinalEncoder, OneHotEncoder, LabelEncoder\n",
        "from sklearn.tree import DecisionTreeClassifier, DecisionTreeRegressor, ExtraTreeClassifier, ExtraTreeRegressor\n",
        "from sklearn.ensemble import RandomForestClassifier, RandomForestRegressor, ExtraTreesClassifier, ExtraTreesRegressor\n",
        "from sklearn.metrics import mean_absolute_error, accuracy_score, r2_score, mean_squared_error\n",
        "\n",
        "import eli5\n",
        "from eli5.sklearn import PermutationImportance\n",
        "import pydot\n",
        "import os\n",
        "\n",
        "import os"
      ]
    },
    {
      "cell_type": "code",
      "execution_count": 3,
      "metadata": {
        "colab": {
          "base_uri": "https://localhost:8080/"
        },
        "id": "I6ZO4x9Z0hT8",
        "outputId": "59e0d3f2-dadc-45b9-cb59-6a82977bfa53"
      },
      "outputs": [
        {
          "output_type": "stream",
          "name": "stdout",
          "text": [
            "Mounted at /content/drive\n"
          ]
        }
      ],
      "source": [
        "from google.colab import drive\n",
        "drive.mount('/content/drive')"
      ]
    },
    {
      "cell_type": "markdown",
      "metadata": {
        "id": "YisjpGnp9vQT"
      },
      "source": [
        "# Import Data"
      ]
    },
    {
      "cell_type": "code",
      "execution_count": 4,
      "metadata": {
        "id": "5W39nonp1lK6"
      },
      "outputs": [],
      "source": [
        "train = pd.read_csv('/content/drive/MyDrive/ML Project /Red Wine Quality/Data/Red Wine Quality - Train.csv')\n",
        "test = pd.read_csv('/content/drive/MyDrive/ML Project /Red Wine Quality/Data/Red Wine Quality - Test.csv')"
      ]
    },
    {
      "cell_type": "code",
      "execution_count": 5,
      "metadata": {
        "colab": {
          "base_uri": "https://localhost:8080/",
          "height": 963
        },
        "id": "Kl21qAlM7yFT",
        "outputId": "7b859382-69eb-47e0-911d-e7e58799015a"
      },
      "outputs": [
        {
          "output_type": "display_data",
          "data": {
            "text/plain": [
              "      fixed acidity  volatile acidity  citric acid  residual sugar  chlorides  \\\n",
              "0               8.4             0.745         0.11             1.9      0.090   \n",
              "1               7.6             0.430         0.29             2.1      0.075   \n",
              "2               8.4             0.560         0.04             2.0      0.082   \n",
              "3               6.8             0.785         0.00             2.4      0.104   \n",
              "4               7.3             0.450         0.36             5.9      0.074   \n",
              "...             ...               ...          ...             ...        ...   \n",
              "1194            9.3             0.655         0.26             2.0      0.096   \n",
              "1195            7.6             0.665         0.10             1.5      0.066   \n",
              "1196            7.9             0.570         0.31             2.0      0.079   \n",
              "1197           13.0             0.470         0.49             4.3      0.085   \n",
              "1198            9.8             0.980         0.32             2.3      0.078   \n",
              "\n",
              "      free sulfur dioxide  total sulfur dioxide  density    pH  sulphates  \\\n",
              "0                    16.0                  63.0  0.99650  3.19       0.82   \n",
              "1                    19.0                  66.0  0.99718  3.40       0.64   \n",
              "2                    10.0                  22.0  0.99760  3.22       0.44   \n",
              "3                    14.0                  30.0  0.99660  3.52       0.55   \n",
              "4                    12.0                  87.0  0.99780  3.33       0.83   \n",
              "...                   ...                   ...      ...   ...        ...   \n",
              "1194                  5.0                  35.0  0.99738  3.25       0.42   \n",
              "1195                 27.0                  55.0  0.99655  3.39       0.51   \n",
              "1196                 10.0                  79.0  0.99677  3.29       0.69   \n",
              "1197                  6.0                  47.0  1.00210  3.30       0.68   \n",
              "1198                 35.0                 152.0  0.99800  3.25       0.48   \n",
              "\n",
              "      alcohol  quality  \n",
              "0         9.6        5  \n",
              "1         9.5        5  \n",
              "2         9.6        5  \n",
              "3        10.7        6  \n",
              "4        10.5        5  \n",
              "...       ...      ...  \n",
              "1194      9.6        5  \n",
              "1195      9.3        5  \n",
              "1196      9.5        6  \n",
              "1197     12.7        6  \n",
              "1198      9.4        5  \n",
              "\n",
              "[1199 rows x 12 columns]"
            ],
            "text/html": [
              "\n",
              "  <div id=\"df-9ee54235-a502-4f6d-a085-352080c9bf98\">\n",
              "    <div class=\"colab-df-container\">\n",
              "      <div>\n",
              "<style scoped>\n",
              "    .dataframe tbody tr th:only-of-type {\n",
              "        vertical-align: middle;\n",
              "    }\n",
              "\n",
              "    .dataframe tbody tr th {\n",
              "        vertical-align: top;\n",
              "    }\n",
              "\n",
              "    .dataframe thead th {\n",
              "        text-align: right;\n",
              "    }\n",
              "</style>\n",
              "<table border=\"1\" class=\"dataframe\">\n",
              "  <thead>\n",
              "    <tr style=\"text-align: right;\">\n",
              "      <th></th>\n",
              "      <th>fixed acidity</th>\n",
              "      <th>volatile acidity</th>\n",
              "      <th>citric acid</th>\n",
              "      <th>residual sugar</th>\n",
              "      <th>chlorides</th>\n",
              "      <th>free sulfur dioxide</th>\n",
              "      <th>total sulfur dioxide</th>\n",
              "      <th>density</th>\n",
              "      <th>pH</th>\n",
              "      <th>sulphates</th>\n",
              "      <th>alcohol</th>\n",
              "      <th>quality</th>\n",
              "    </tr>\n",
              "  </thead>\n",
              "  <tbody>\n",
              "    <tr>\n",
              "      <th>0</th>\n",
              "      <td>8.4</td>\n",
              "      <td>0.745</td>\n",
              "      <td>0.11</td>\n",
              "      <td>1.9</td>\n",
              "      <td>0.090</td>\n",
              "      <td>16.0</td>\n",
              "      <td>63.0</td>\n",
              "      <td>0.99650</td>\n",
              "      <td>3.19</td>\n",
              "      <td>0.82</td>\n",
              "      <td>9.6</td>\n",
              "      <td>5</td>\n",
              "    </tr>\n",
              "    <tr>\n",
              "      <th>1</th>\n",
              "      <td>7.6</td>\n",
              "      <td>0.430</td>\n",
              "      <td>0.29</td>\n",
              "      <td>2.1</td>\n",
              "      <td>0.075</td>\n",
              "      <td>19.0</td>\n",
              "      <td>66.0</td>\n",
              "      <td>0.99718</td>\n",
              "      <td>3.40</td>\n",
              "      <td>0.64</td>\n",
              "      <td>9.5</td>\n",
              "      <td>5</td>\n",
              "    </tr>\n",
              "    <tr>\n",
              "      <th>2</th>\n",
              "      <td>8.4</td>\n",
              "      <td>0.560</td>\n",
              "      <td>0.04</td>\n",
              "      <td>2.0</td>\n",
              "      <td>0.082</td>\n",
              "      <td>10.0</td>\n",
              "      <td>22.0</td>\n",
              "      <td>0.99760</td>\n",
              "      <td>3.22</td>\n",
              "      <td>0.44</td>\n",
              "      <td>9.6</td>\n",
              "      <td>5</td>\n",
              "    </tr>\n",
              "    <tr>\n",
              "      <th>3</th>\n",
              "      <td>6.8</td>\n",
              "      <td>0.785</td>\n",
              "      <td>0.00</td>\n",
              "      <td>2.4</td>\n",
              "      <td>0.104</td>\n",
              "      <td>14.0</td>\n",
              "      <td>30.0</td>\n",
              "      <td>0.99660</td>\n",
              "      <td>3.52</td>\n",
              "      <td>0.55</td>\n",
              "      <td>10.7</td>\n",
              "      <td>6</td>\n",
              "    </tr>\n",
              "    <tr>\n",
              "      <th>4</th>\n",
              "      <td>7.3</td>\n",
              "      <td>0.450</td>\n",
              "      <td>0.36</td>\n",
              "      <td>5.9</td>\n",
              "      <td>0.074</td>\n",
              "      <td>12.0</td>\n",
              "      <td>87.0</td>\n",
              "      <td>0.99780</td>\n",
              "      <td>3.33</td>\n",
              "      <td>0.83</td>\n",
              "      <td>10.5</td>\n",
              "      <td>5</td>\n",
              "    </tr>\n",
              "    <tr>\n",
              "      <th>...</th>\n",
              "      <td>...</td>\n",
              "      <td>...</td>\n",
              "      <td>...</td>\n",
              "      <td>...</td>\n",
              "      <td>...</td>\n",
              "      <td>...</td>\n",
              "      <td>...</td>\n",
              "      <td>...</td>\n",
              "      <td>...</td>\n",
              "      <td>...</td>\n",
              "      <td>...</td>\n",
              "      <td>...</td>\n",
              "    </tr>\n",
              "    <tr>\n",
              "      <th>1194</th>\n",
              "      <td>9.3</td>\n",
              "      <td>0.655</td>\n",
              "      <td>0.26</td>\n",
              "      <td>2.0</td>\n",
              "      <td>0.096</td>\n",
              "      <td>5.0</td>\n",
              "      <td>35.0</td>\n",
              "      <td>0.99738</td>\n",
              "      <td>3.25</td>\n",
              "      <td>0.42</td>\n",
              "      <td>9.6</td>\n",
              "      <td>5</td>\n",
              "    </tr>\n",
              "    <tr>\n",
              "      <th>1195</th>\n",
              "      <td>7.6</td>\n",
              "      <td>0.665</td>\n",
              "      <td>0.10</td>\n",
              "      <td>1.5</td>\n",
              "      <td>0.066</td>\n",
              "      <td>27.0</td>\n",
              "      <td>55.0</td>\n",
              "      <td>0.99655</td>\n",
              "      <td>3.39</td>\n",
              "      <td>0.51</td>\n",
              "      <td>9.3</td>\n",
              "      <td>5</td>\n",
              "    </tr>\n",
              "    <tr>\n",
              "      <th>1196</th>\n",
              "      <td>7.9</td>\n",
              "      <td>0.570</td>\n",
              "      <td>0.31</td>\n",
              "      <td>2.0</td>\n",
              "      <td>0.079</td>\n",
              "      <td>10.0</td>\n",
              "      <td>79.0</td>\n",
              "      <td>0.99677</td>\n",
              "      <td>3.29</td>\n",
              "      <td>0.69</td>\n",
              "      <td>9.5</td>\n",
              "      <td>6</td>\n",
              "    </tr>\n",
              "    <tr>\n",
              "      <th>1197</th>\n",
              "      <td>13.0</td>\n",
              "      <td>0.470</td>\n",
              "      <td>0.49</td>\n",
              "      <td>4.3</td>\n",
              "      <td>0.085</td>\n",
              "      <td>6.0</td>\n",
              "      <td>47.0</td>\n",
              "      <td>1.00210</td>\n",
              "      <td>3.30</td>\n",
              "      <td>0.68</td>\n",
              "      <td>12.7</td>\n",
              "      <td>6</td>\n",
              "    </tr>\n",
              "    <tr>\n",
              "      <th>1198</th>\n",
              "      <td>9.8</td>\n",
              "      <td>0.980</td>\n",
              "      <td>0.32</td>\n",
              "      <td>2.3</td>\n",
              "      <td>0.078</td>\n",
              "      <td>35.0</td>\n",
              "      <td>152.0</td>\n",
              "      <td>0.99800</td>\n",
              "      <td>3.25</td>\n",
              "      <td>0.48</td>\n",
              "      <td>9.4</td>\n",
              "      <td>5</td>\n",
              "    </tr>\n",
              "  </tbody>\n",
              "</table>\n",
              "<p>1199 rows × 12 columns</p>\n",
              "</div>\n",
              "      <button class=\"colab-df-convert\" onclick=\"convertToInteractive('df-9ee54235-a502-4f6d-a085-352080c9bf98')\"\n",
              "              title=\"Convert this dataframe to an interactive table.\"\n",
              "              style=\"display:none;\">\n",
              "        \n",
              "  <svg xmlns=\"http://www.w3.org/2000/svg\" height=\"24px\"viewBox=\"0 0 24 24\"\n",
              "       width=\"24px\">\n",
              "    <path d=\"M0 0h24v24H0V0z\" fill=\"none\"/>\n",
              "    <path d=\"M18.56 5.44l.94 2.06.94-2.06 2.06-.94-2.06-.94-.94-2.06-.94 2.06-2.06.94zm-11 1L8.5 8.5l.94-2.06 2.06-.94-2.06-.94L8.5 2.5l-.94 2.06-2.06.94zm10 10l.94 2.06.94-2.06 2.06-.94-2.06-.94-.94-2.06-.94 2.06-2.06.94z\"/><path d=\"M17.41 7.96l-1.37-1.37c-.4-.4-.92-.59-1.43-.59-.52 0-1.04.2-1.43.59L10.3 9.45l-7.72 7.72c-.78.78-.78 2.05 0 2.83L4 21.41c.39.39.9.59 1.41.59.51 0 1.02-.2 1.41-.59l7.78-7.78 2.81-2.81c.8-.78.8-2.07 0-2.86zM5.41 20L4 18.59l7.72-7.72 1.47 1.35L5.41 20z\"/>\n",
              "  </svg>\n",
              "      </button>\n",
              "      \n",
              "  <style>\n",
              "    .colab-df-container {\n",
              "      display:flex;\n",
              "      flex-wrap:wrap;\n",
              "      gap: 12px;\n",
              "    }\n",
              "\n",
              "    .colab-df-convert {\n",
              "      background-color: #E8F0FE;\n",
              "      border: none;\n",
              "      border-radius: 50%;\n",
              "      cursor: pointer;\n",
              "      display: none;\n",
              "      fill: #1967D2;\n",
              "      height: 32px;\n",
              "      padding: 0 0 0 0;\n",
              "      width: 32px;\n",
              "    }\n",
              "\n",
              "    .colab-df-convert:hover {\n",
              "      background-color: #E2EBFA;\n",
              "      box-shadow: 0px 1px 2px rgba(60, 64, 67, 0.3), 0px 1px 3px 1px rgba(60, 64, 67, 0.15);\n",
              "      fill: #174EA6;\n",
              "    }\n",
              "\n",
              "    [theme=dark] .colab-df-convert {\n",
              "      background-color: #3B4455;\n",
              "      fill: #D2E3FC;\n",
              "    }\n",
              "\n",
              "    [theme=dark] .colab-df-convert:hover {\n",
              "      background-color: #434B5C;\n",
              "      box-shadow: 0px 1px 3px 1px rgba(0, 0, 0, 0.15);\n",
              "      filter: drop-shadow(0px 1px 2px rgba(0, 0, 0, 0.3));\n",
              "      fill: #FFFFFF;\n",
              "    }\n",
              "  </style>\n",
              "\n",
              "      <script>\n",
              "        const buttonEl =\n",
              "          document.querySelector('#df-9ee54235-a502-4f6d-a085-352080c9bf98 button.colab-df-convert');\n",
              "        buttonEl.style.display =\n",
              "          google.colab.kernel.accessAllowed ? 'block' : 'none';\n",
              "\n",
              "        async function convertToInteractive(key) {\n",
              "          const element = document.querySelector('#df-9ee54235-a502-4f6d-a085-352080c9bf98');\n",
              "          const dataTable =\n",
              "            await google.colab.kernel.invokeFunction('convertToInteractive',\n",
              "                                                     [key], {});\n",
              "          if (!dataTable) return;\n",
              "\n",
              "          const docLinkHtml = 'Like what you see? Visit the ' +\n",
              "            '<a target=\"_blank\" href=https://colab.research.google.com/notebooks/data_table.ipynb>data table notebook</a>'\n",
              "            + ' to learn more about interactive tables.';\n",
              "          element.innerHTML = '';\n",
              "          dataTable['output_type'] = 'display_data';\n",
              "          await google.colab.output.renderOutput(dataTable, element);\n",
              "          const docLink = document.createElement('div');\n",
              "          docLink.innerHTML = docLinkHtml;\n",
              "          element.appendChild(docLink);\n",
              "        }\n",
              "      </script>\n",
              "    </div>\n",
              "  </div>\n",
              "  "
            ]
          },
          "metadata": {}
        },
        {
          "output_type": "display_data",
          "data": {
            "text/plain": [
              "     fixed acidity  volatile acidity  citric acid  residual sugar  chlorides  \\\n",
              "0             10.8             0.470         0.43            2.10      0.171   \n",
              "1              8.1             0.820         0.00            4.10      0.095   \n",
              "2              9.1             0.290         0.33            2.05      0.063   \n",
              "3             10.2             0.645         0.36            1.80      0.053   \n",
              "4             12.2             0.450         0.49            1.40      0.075   \n",
              "..             ...               ...          ...             ...        ...   \n",
              "395            9.3             0.390         0.40            2.60      0.073   \n",
              "396           11.9             0.580         0.66            2.50      0.072   \n",
              "397            7.3             0.365         0.49            2.50      0.088   \n",
              "398           15.6             0.685         0.76            3.70      0.100   \n",
              "399            7.6             0.430         0.29            2.10      0.075   \n",
              "\n",
              "     free sulfur dioxide  total sulfur dioxide  density    pH  sulphates  \\\n",
              "0                   27.0                  66.0  0.99820  3.17       0.76   \n",
              "1                    5.0                  14.0  0.99854  3.36       0.53   \n",
              "2                   13.0                  27.0  0.99516  3.26       0.84   \n",
              "3                    5.0                  14.0  0.99820  3.17       0.42   \n",
              "4                    3.0                   6.0  0.99690  3.13       0.63   \n",
              "..                   ...                   ...      ...   ...        ...   \n",
              "395                 10.0                  26.0  0.99840  3.34       0.75   \n",
              "396                  6.0                  37.0  0.99920  3.05       0.56   \n",
              "397                 39.0                 106.0  0.99660  3.36       0.78   \n",
              "398                  6.0                  43.0  1.00320  2.95       0.68   \n",
              "399                 19.0                  66.0  0.99718  3.40       0.64   \n",
              "\n",
              "     alcohol  quality  \n",
              "0       10.8        6  \n",
              "1        9.6        5  \n",
              "2       11.7        7  \n",
              "3       10.0        6  \n",
              "4       10.4        5  \n",
              "..       ...      ...  \n",
              "395     10.2        6  \n",
              "396     10.0        5  \n",
              "397     11.0        5  \n",
              "398     11.2        7  \n",
              "399      9.5        5  \n",
              "\n",
              "[400 rows x 12 columns]"
            ],
            "text/html": [
              "\n",
              "  <div id=\"df-23a03e5c-4b7d-4144-821e-f453716f7094\">\n",
              "    <div class=\"colab-df-container\">\n",
              "      <div>\n",
              "<style scoped>\n",
              "    .dataframe tbody tr th:only-of-type {\n",
              "        vertical-align: middle;\n",
              "    }\n",
              "\n",
              "    .dataframe tbody tr th {\n",
              "        vertical-align: top;\n",
              "    }\n",
              "\n",
              "    .dataframe thead th {\n",
              "        text-align: right;\n",
              "    }\n",
              "</style>\n",
              "<table border=\"1\" class=\"dataframe\">\n",
              "  <thead>\n",
              "    <tr style=\"text-align: right;\">\n",
              "      <th></th>\n",
              "      <th>fixed acidity</th>\n",
              "      <th>volatile acidity</th>\n",
              "      <th>citric acid</th>\n",
              "      <th>residual sugar</th>\n",
              "      <th>chlorides</th>\n",
              "      <th>free sulfur dioxide</th>\n",
              "      <th>total sulfur dioxide</th>\n",
              "      <th>density</th>\n",
              "      <th>pH</th>\n",
              "      <th>sulphates</th>\n",
              "      <th>alcohol</th>\n",
              "      <th>quality</th>\n",
              "    </tr>\n",
              "  </thead>\n",
              "  <tbody>\n",
              "    <tr>\n",
              "      <th>0</th>\n",
              "      <td>10.8</td>\n",
              "      <td>0.470</td>\n",
              "      <td>0.43</td>\n",
              "      <td>2.10</td>\n",
              "      <td>0.171</td>\n",
              "      <td>27.0</td>\n",
              "      <td>66.0</td>\n",
              "      <td>0.99820</td>\n",
              "      <td>3.17</td>\n",
              "      <td>0.76</td>\n",
              "      <td>10.8</td>\n",
              "      <td>6</td>\n",
              "    </tr>\n",
              "    <tr>\n",
              "      <th>1</th>\n",
              "      <td>8.1</td>\n",
              "      <td>0.820</td>\n",
              "      <td>0.00</td>\n",
              "      <td>4.10</td>\n",
              "      <td>0.095</td>\n",
              "      <td>5.0</td>\n",
              "      <td>14.0</td>\n",
              "      <td>0.99854</td>\n",
              "      <td>3.36</td>\n",
              "      <td>0.53</td>\n",
              "      <td>9.6</td>\n",
              "      <td>5</td>\n",
              "    </tr>\n",
              "    <tr>\n",
              "      <th>2</th>\n",
              "      <td>9.1</td>\n",
              "      <td>0.290</td>\n",
              "      <td>0.33</td>\n",
              "      <td>2.05</td>\n",
              "      <td>0.063</td>\n",
              "      <td>13.0</td>\n",
              "      <td>27.0</td>\n",
              "      <td>0.99516</td>\n",
              "      <td>3.26</td>\n",
              "      <td>0.84</td>\n",
              "      <td>11.7</td>\n",
              "      <td>7</td>\n",
              "    </tr>\n",
              "    <tr>\n",
              "      <th>3</th>\n",
              "      <td>10.2</td>\n",
              "      <td>0.645</td>\n",
              "      <td>0.36</td>\n",
              "      <td>1.80</td>\n",
              "      <td>0.053</td>\n",
              "      <td>5.0</td>\n",
              "      <td>14.0</td>\n",
              "      <td>0.99820</td>\n",
              "      <td>3.17</td>\n",
              "      <td>0.42</td>\n",
              "      <td>10.0</td>\n",
              "      <td>6</td>\n",
              "    </tr>\n",
              "    <tr>\n",
              "      <th>4</th>\n",
              "      <td>12.2</td>\n",
              "      <td>0.450</td>\n",
              "      <td>0.49</td>\n",
              "      <td>1.40</td>\n",
              "      <td>0.075</td>\n",
              "      <td>3.0</td>\n",
              "      <td>6.0</td>\n",
              "      <td>0.99690</td>\n",
              "      <td>3.13</td>\n",
              "      <td>0.63</td>\n",
              "      <td>10.4</td>\n",
              "      <td>5</td>\n",
              "    </tr>\n",
              "    <tr>\n",
              "      <th>...</th>\n",
              "      <td>...</td>\n",
              "      <td>...</td>\n",
              "      <td>...</td>\n",
              "      <td>...</td>\n",
              "      <td>...</td>\n",
              "      <td>...</td>\n",
              "      <td>...</td>\n",
              "      <td>...</td>\n",
              "      <td>...</td>\n",
              "      <td>...</td>\n",
              "      <td>...</td>\n",
              "      <td>...</td>\n",
              "    </tr>\n",
              "    <tr>\n",
              "      <th>395</th>\n",
              "      <td>9.3</td>\n",
              "      <td>0.390</td>\n",
              "      <td>0.40</td>\n",
              "      <td>2.60</td>\n",
              "      <td>0.073</td>\n",
              "      <td>10.0</td>\n",
              "      <td>26.0</td>\n",
              "      <td>0.99840</td>\n",
              "      <td>3.34</td>\n",
              "      <td>0.75</td>\n",
              "      <td>10.2</td>\n",
              "      <td>6</td>\n",
              "    </tr>\n",
              "    <tr>\n",
              "      <th>396</th>\n",
              "      <td>11.9</td>\n",
              "      <td>0.580</td>\n",
              "      <td>0.66</td>\n",
              "      <td>2.50</td>\n",
              "      <td>0.072</td>\n",
              "      <td>6.0</td>\n",
              "      <td>37.0</td>\n",
              "      <td>0.99920</td>\n",
              "      <td>3.05</td>\n",
              "      <td>0.56</td>\n",
              "      <td>10.0</td>\n",
              "      <td>5</td>\n",
              "    </tr>\n",
              "    <tr>\n",
              "      <th>397</th>\n",
              "      <td>7.3</td>\n",
              "      <td>0.365</td>\n",
              "      <td>0.49</td>\n",
              "      <td>2.50</td>\n",
              "      <td>0.088</td>\n",
              "      <td>39.0</td>\n",
              "      <td>106.0</td>\n",
              "      <td>0.99660</td>\n",
              "      <td>3.36</td>\n",
              "      <td>0.78</td>\n",
              "      <td>11.0</td>\n",
              "      <td>5</td>\n",
              "    </tr>\n",
              "    <tr>\n",
              "      <th>398</th>\n",
              "      <td>15.6</td>\n",
              "      <td>0.685</td>\n",
              "      <td>0.76</td>\n",
              "      <td>3.70</td>\n",
              "      <td>0.100</td>\n",
              "      <td>6.0</td>\n",
              "      <td>43.0</td>\n",
              "      <td>1.00320</td>\n",
              "      <td>2.95</td>\n",
              "      <td>0.68</td>\n",
              "      <td>11.2</td>\n",
              "      <td>7</td>\n",
              "    </tr>\n",
              "    <tr>\n",
              "      <th>399</th>\n",
              "      <td>7.6</td>\n",
              "      <td>0.430</td>\n",
              "      <td>0.29</td>\n",
              "      <td>2.10</td>\n",
              "      <td>0.075</td>\n",
              "      <td>19.0</td>\n",
              "      <td>66.0</td>\n",
              "      <td>0.99718</td>\n",
              "      <td>3.40</td>\n",
              "      <td>0.64</td>\n",
              "      <td>9.5</td>\n",
              "      <td>5</td>\n",
              "    </tr>\n",
              "  </tbody>\n",
              "</table>\n",
              "<p>400 rows × 12 columns</p>\n",
              "</div>\n",
              "      <button class=\"colab-df-convert\" onclick=\"convertToInteractive('df-23a03e5c-4b7d-4144-821e-f453716f7094')\"\n",
              "              title=\"Convert this dataframe to an interactive table.\"\n",
              "              style=\"display:none;\">\n",
              "        \n",
              "  <svg xmlns=\"http://www.w3.org/2000/svg\" height=\"24px\"viewBox=\"0 0 24 24\"\n",
              "       width=\"24px\">\n",
              "    <path d=\"M0 0h24v24H0V0z\" fill=\"none\"/>\n",
              "    <path d=\"M18.56 5.44l.94 2.06.94-2.06 2.06-.94-2.06-.94-.94-2.06-.94 2.06-2.06.94zm-11 1L8.5 8.5l.94-2.06 2.06-.94-2.06-.94L8.5 2.5l-.94 2.06-2.06.94zm10 10l.94 2.06.94-2.06 2.06-.94-2.06-.94-.94-2.06-.94 2.06-2.06.94z\"/><path d=\"M17.41 7.96l-1.37-1.37c-.4-.4-.92-.59-1.43-.59-.52 0-1.04.2-1.43.59L10.3 9.45l-7.72 7.72c-.78.78-.78 2.05 0 2.83L4 21.41c.39.39.9.59 1.41.59.51 0 1.02-.2 1.41-.59l7.78-7.78 2.81-2.81c.8-.78.8-2.07 0-2.86zM5.41 20L4 18.59l7.72-7.72 1.47 1.35L5.41 20z\"/>\n",
              "  </svg>\n",
              "      </button>\n",
              "      \n",
              "  <style>\n",
              "    .colab-df-container {\n",
              "      display:flex;\n",
              "      flex-wrap:wrap;\n",
              "      gap: 12px;\n",
              "    }\n",
              "\n",
              "    .colab-df-convert {\n",
              "      background-color: #E8F0FE;\n",
              "      border: none;\n",
              "      border-radius: 50%;\n",
              "      cursor: pointer;\n",
              "      display: none;\n",
              "      fill: #1967D2;\n",
              "      height: 32px;\n",
              "      padding: 0 0 0 0;\n",
              "      width: 32px;\n",
              "    }\n",
              "\n",
              "    .colab-df-convert:hover {\n",
              "      background-color: #E2EBFA;\n",
              "      box-shadow: 0px 1px 2px rgba(60, 64, 67, 0.3), 0px 1px 3px 1px rgba(60, 64, 67, 0.15);\n",
              "      fill: #174EA6;\n",
              "    }\n",
              "\n",
              "    [theme=dark] .colab-df-convert {\n",
              "      background-color: #3B4455;\n",
              "      fill: #D2E3FC;\n",
              "    }\n",
              "\n",
              "    [theme=dark] .colab-df-convert:hover {\n",
              "      background-color: #434B5C;\n",
              "      box-shadow: 0px 1px 3px 1px rgba(0, 0, 0, 0.15);\n",
              "      filter: drop-shadow(0px 1px 2px rgba(0, 0, 0, 0.3));\n",
              "      fill: #FFFFFF;\n",
              "    }\n",
              "  </style>\n",
              "\n",
              "      <script>\n",
              "        const buttonEl =\n",
              "          document.querySelector('#df-23a03e5c-4b7d-4144-821e-f453716f7094 button.colab-df-convert');\n",
              "        buttonEl.style.display =\n",
              "          google.colab.kernel.accessAllowed ? 'block' : 'none';\n",
              "\n",
              "        async function convertToInteractive(key) {\n",
              "          const element = document.querySelector('#df-23a03e5c-4b7d-4144-821e-f453716f7094');\n",
              "          const dataTable =\n",
              "            await google.colab.kernel.invokeFunction('convertToInteractive',\n",
              "                                                     [key], {});\n",
              "          if (!dataTable) return;\n",
              "\n",
              "          const docLinkHtml = 'Like what you see? Visit the ' +\n",
              "            '<a target=\"_blank\" href=https://colab.research.google.com/notebooks/data_table.ipynb>data table notebook</a>'\n",
              "            + ' to learn more about interactive tables.';\n",
              "          element.innerHTML = '';\n",
              "          dataTable['output_type'] = 'display_data';\n",
              "          await google.colab.output.renderOutput(dataTable, element);\n",
              "          const docLink = document.createElement('div');\n",
              "          docLink.innerHTML = docLinkHtml;\n",
              "          element.appendChild(docLink);\n",
              "        }\n",
              "      </script>\n",
              "    </div>\n",
              "  </div>\n",
              "  "
            ]
          },
          "metadata": {}
        }
      ],
      "source": [
        "display(train, test)"
      ]
    },
    {
      "cell_type": "markdown",
      "metadata": {
        "id": "xXWmZp8q90Kt"
      },
      "source": [
        "# Taking Variable"
      ]
    },
    {
      "cell_type": "markdown",
      "metadata": {
        "id": "G9PrVn9F-A1w"
      },
      "source": [
        "ytest variable is popped to be used for verification later"
      ]
    },
    {
      "cell_type": "code",
      "execution_count": 6,
      "metadata": {
        "colab": {
          "base_uri": "https://localhost:8080/"
        },
        "id": "4QuTfnm07357",
        "outputId": "386aa6a7-3731-44a6-a6e0-67a7bb6252f1"
      },
      "outputs": [
        {
          "output_type": "execute_result",
          "data": {
            "text/plain": [
              "0      6\n",
              "1      5\n",
              "2      7\n",
              "3      6\n",
              "4      5\n",
              "      ..\n",
              "395    6\n",
              "396    5\n",
              "397    5\n",
              "398    7\n",
              "399    5\n",
              "Name: quality, Length: 400, dtype: int64"
            ]
          },
          "metadata": {},
          "execution_count": 6
        }
      ],
      "source": [
        "ytest = test.pop('quality')\n",
        "ytest"
      ]
    },
    {
      "cell_type": "code",
      "source": [
        "test.shape"
      ],
      "metadata": {
        "colab": {
          "base_uri": "https://localhost:8080/"
        },
        "id": "WxQK5dG3bNU7",
        "outputId": "7f6dbb21-a0c9-4b09-e787-9d78f7b006af"
      },
      "execution_count": 7,
      "outputs": [
        {
          "output_type": "execute_result",
          "data": {
            "text/plain": [
              "(400, 11)"
            ]
          },
          "metadata": {},
          "execution_count": 7
        }
      ]
    },
    {
      "cell_type": "code",
      "execution_count": 8,
      "metadata": {
        "colab": {
          "base_uri": "https://localhost:8080/",
          "height": 522
        },
        "id": "-34EHRb491bE",
        "outputId": "bf0c781b-e6d5-4b96-b5ac-9aa29420628d"
      },
      "outputs": [
        {
          "output_type": "execute_result",
          "data": {
            "text/plain": [
              "      fixed acidity  volatile acidity  citric acid  residual sugar  chlorides  \\\n",
              "0               8.4             0.745         0.11             1.9      0.090   \n",
              "1               7.6             0.430         0.29             2.1      0.075   \n",
              "2               8.4             0.560         0.04             2.0      0.082   \n",
              "3               6.8             0.785         0.00             2.4      0.104   \n",
              "4               7.3             0.450         0.36             5.9      0.074   \n",
              "...             ...               ...          ...             ...        ...   \n",
              "1194            9.3             0.655         0.26             2.0      0.096   \n",
              "1195            7.6             0.665         0.10             1.5      0.066   \n",
              "1196            7.9             0.570         0.31             2.0      0.079   \n",
              "1197           13.0             0.470         0.49             4.3      0.085   \n",
              "1198            9.8             0.980         0.32             2.3      0.078   \n",
              "\n",
              "      free sulfur dioxide  total sulfur dioxide  density    pH  sulphates  \\\n",
              "0                    16.0                  63.0  0.99650  3.19       0.82   \n",
              "1                    19.0                  66.0  0.99718  3.40       0.64   \n",
              "2                    10.0                  22.0  0.99760  3.22       0.44   \n",
              "3                    14.0                  30.0  0.99660  3.52       0.55   \n",
              "4                    12.0                  87.0  0.99780  3.33       0.83   \n",
              "...                   ...                   ...      ...   ...        ...   \n",
              "1194                  5.0                  35.0  0.99738  3.25       0.42   \n",
              "1195                 27.0                  55.0  0.99655  3.39       0.51   \n",
              "1196                 10.0                  79.0  0.99677  3.29       0.69   \n",
              "1197                  6.0                  47.0  1.00210  3.30       0.68   \n",
              "1198                 35.0                 152.0  0.99800  3.25       0.48   \n",
              "\n",
              "      alcohol  quality  \n",
              "0         9.6        5  \n",
              "1         9.5        5  \n",
              "2         9.6        5  \n",
              "3        10.7        6  \n",
              "4        10.5        5  \n",
              "...       ...      ...  \n",
              "1194      9.6        5  \n",
              "1195      9.3        5  \n",
              "1196      9.5        6  \n",
              "1197     12.7        6  \n",
              "1198      9.4        5  \n",
              "\n",
              "[1199 rows x 12 columns]"
            ],
            "text/html": [
              "\n",
              "  <div id=\"df-041cb861-d5af-49de-bf97-85a931522951\">\n",
              "    <div class=\"colab-df-container\">\n",
              "      <div>\n",
              "<style scoped>\n",
              "    .dataframe tbody tr th:only-of-type {\n",
              "        vertical-align: middle;\n",
              "    }\n",
              "\n",
              "    .dataframe tbody tr th {\n",
              "        vertical-align: top;\n",
              "    }\n",
              "\n",
              "    .dataframe thead th {\n",
              "        text-align: right;\n",
              "    }\n",
              "</style>\n",
              "<table border=\"1\" class=\"dataframe\">\n",
              "  <thead>\n",
              "    <tr style=\"text-align: right;\">\n",
              "      <th></th>\n",
              "      <th>fixed acidity</th>\n",
              "      <th>volatile acidity</th>\n",
              "      <th>citric acid</th>\n",
              "      <th>residual sugar</th>\n",
              "      <th>chlorides</th>\n",
              "      <th>free sulfur dioxide</th>\n",
              "      <th>total sulfur dioxide</th>\n",
              "      <th>density</th>\n",
              "      <th>pH</th>\n",
              "      <th>sulphates</th>\n",
              "      <th>alcohol</th>\n",
              "      <th>quality</th>\n",
              "    </tr>\n",
              "  </thead>\n",
              "  <tbody>\n",
              "    <tr>\n",
              "      <th>0</th>\n",
              "      <td>8.4</td>\n",
              "      <td>0.745</td>\n",
              "      <td>0.11</td>\n",
              "      <td>1.9</td>\n",
              "      <td>0.090</td>\n",
              "      <td>16.0</td>\n",
              "      <td>63.0</td>\n",
              "      <td>0.99650</td>\n",
              "      <td>3.19</td>\n",
              "      <td>0.82</td>\n",
              "      <td>9.6</td>\n",
              "      <td>5</td>\n",
              "    </tr>\n",
              "    <tr>\n",
              "      <th>1</th>\n",
              "      <td>7.6</td>\n",
              "      <td>0.430</td>\n",
              "      <td>0.29</td>\n",
              "      <td>2.1</td>\n",
              "      <td>0.075</td>\n",
              "      <td>19.0</td>\n",
              "      <td>66.0</td>\n",
              "      <td>0.99718</td>\n",
              "      <td>3.40</td>\n",
              "      <td>0.64</td>\n",
              "      <td>9.5</td>\n",
              "      <td>5</td>\n",
              "    </tr>\n",
              "    <tr>\n",
              "      <th>2</th>\n",
              "      <td>8.4</td>\n",
              "      <td>0.560</td>\n",
              "      <td>0.04</td>\n",
              "      <td>2.0</td>\n",
              "      <td>0.082</td>\n",
              "      <td>10.0</td>\n",
              "      <td>22.0</td>\n",
              "      <td>0.99760</td>\n",
              "      <td>3.22</td>\n",
              "      <td>0.44</td>\n",
              "      <td>9.6</td>\n",
              "      <td>5</td>\n",
              "    </tr>\n",
              "    <tr>\n",
              "      <th>3</th>\n",
              "      <td>6.8</td>\n",
              "      <td>0.785</td>\n",
              "      <td>0.00</td>\n",
              "      <td>2.4</td>\n",
              "      <td>0.104</td>\n",
              "      <td>14.0</td>\n",
              "      <td>30.0</td>\n",
              "      <td>0.99660</td>\n",
              "      <td>3.52</td>\n",
              "      <td>0.55</td>\n",
              "      <td>10.7</td>\n",
              "      <td>6</td>\n",
              "    </tr>\n",
              "    <tr>\n",
              "      <th>4</th>\n",
              "      <td>7.3</td>\n",
              "      <td>0.450</td>\n",
              "      <td>0.36</td>\n",
              "      <td>5.9</td>\n",
              "      <td>0.074</td>\n",
              "      <td>12.0</td>\n",
              "      <td>87.0</td>\n",
              "      <td>0.99780</td>\n",
              "      <td>3.33</td>\n",
              "      <td>0.83</td>\n",
              "      <td>10.5</td>\n",
              "      <td>5</td>\n",
              "    </tr>\n",
              "    <tr>\n",
              "      <th>...</th>\n",
              "      <td>...</td>\n",
              "      <td>...</td>\n",
              "      <td>...</td>\n",
              "      <td>...</td>\n",
              "      <td>...</td>\n",
              "      <td>...</td>\n",
              "      <td>...</td>\n",
              "      <td>...</td>\n",
              "      <td>...</td>\n",
              "      <td>...</td>\n",
              "      <td>...</td>\n",
              "      <td>...</td>\n",
              "    </tr>\n",
              "    <tr>\n",
              "      <th>1194</th>\n",
              "      <td>9.3</td>\n",
              "      <td>0.655</td>\n",
              "      <td>0.26</td>\n",
              "      <td>2.0</td>\n",
              "      <td>0.096</td>\n",
              "      <td>5.0</td>\n",
              "      <td>35.0</td>\n",
              "      <td>0.99738</td>\n",
              "      <td>3.25</td>\n",
              "      <td>0.42</td>\n",
              "      <td>9.6</td>\n",
              "      <td>5</td>\n",
              "    </tr>\n",
              "    <tr>\n",
              "      <th>1195</th>\n",
              "      <td>7.6</td>\n",
              "      <td>0.665</td>\n",
              "      <td>0.10</td>\n",
              "      <td>1.5</td>\n",
              "      <td>0.066</td>\n",
              "      <td>27.0</td>\n",
              "      <td>55.0</td>\n",
              "      <td>0.99655</td>\n",
              "      <td>3.39</td>\n",
              "      <td>0.51</td>\n",
              "      <td>9.3</td>\n",
              "      <td>5</td>\n",
              "    </tr>\n",
              "    <tr>\n",
              "      <th>1196</th>\n",
              "      <td>7.9</td>\n",
              "      <td>0.570</td>\n",
              "      <td>0.31</td>\n",
              "      <td>2.0</td>\n",
              "      <td>0.079</td>\n",
              "      <td>10.0</td>\n",
              "      <td>79.0</td>\n",
              "      <td>0.99677</td>\n",
              "      <td>3.29</td>\n",
              "      <td>0.69</td>\n",
              "      <td>9.5</td>\n",
              "      <td>6</td>\n",
              "    </tr>\n",
              "    <tr>\n",
              "      <th>1197</th>\n",
              "      <td>13.0</td>\n",
              "      <td>0.470</td>\n",
              "      <td>0.49</td>\n",
              "      <td>4.3</td>\n",
              "      <td>0.085</td>\n",
              "      <td>6.0</td>\n",
              "      <td>47.0</td>\n",
              "      <td>1.00210</td>\n",
              "      <td>3.30</td>\n",
              "      <td>0.68</td>\n",
              "      <td>12.7</td>\n",
              "      <td>6</td>\n",
              "    </tr>\n",
              "    <tr>\n",
              "      <th>1198</th>\n",
              "      <td>9.8</td>\n",
              "      <td>0.980</td>\n",
              "      <td>0.32</td>\n",
              "      <td>2.3</td>\n",
              "      <td>0.078</td>\n",
              "      <td>35.0</td>\n",
              "      <td>152.0</td>\n",
              "      <td>0.99800</td>\n",
              "      <td>3.25</td>\n",
              "      <td>0.48</td>\n",
              "      <td>9.4</td>\n",
              "      <td>5</td>\n",
              "    </tr>\n",
              "  </tbody>\n",
              "</table>\n",
              "<p>1199 rows × 12 columns</p>\n",
              "</div>\n",
              "      <button class=\"colab-df-convert\" onclick=\"convertToInteractive('df-041cb861-d5af-49de-bf97-85a931522951')\"\n",
              "              title=\"Convert this dataframe to an interactive table.\"\n",
              "              style=\"display:none;\">\n",
              "        \n",
              "  <svg xmlns=\"http://www.w3.org/2000/svg\" height=\"24px\"viewBox=\"0 0 24 24\"\n",
              "       width=\"24px\">\n",
              "    <path d=\"M0 0h24v24H0V0z\" fill=\"none\"/>\n",
              "    <path d=\"M18.56 5.44l.94 2.06.94-2.06 2.06-.94-2.06-.94-.94-2.06-.94 2.06-2.06.94zm-11 1L8.5 8.5l.94-2.06 2.06-.94-2.06-.94L8.5 2.5l-.94 2.06-2.06.94zm10 10l.94 2.06.94-2.06 2.06-.94-2.06-.94-.94-2.06-.94 2.06-2.06.94z\"/><path d=\"M17.41 7.96l-1.37-1.37c-.4-.4-.92-.59-1.43-.59-.52 0-1.04.2-1.43.59L10.3 9.45l-7.72 7.72c-.78.78-.78 2.05 0 2.83L4 21.41c.39.39.9.59 1.41.59.51 0 1.02-.2 1.41-.59l7.78-7.78 2.81-2.81c.8-.78.8-2.07 0-2.86zM5.41 20L4 18.59l7.72-7.72 1.47 1.35L5.41 20z\"/>\n",
              "  </svg>\n",
              "      </button>\n",
              "      \n",
              "  <style>\n",
              "    .colab-df-container {\n",
              "      display:flex;\n",
              "      flex-wrap:wrap;\n",
              "      gap: 12px;\n",
              "    }\n",
              "\n",
              "    .colab-df-convert {\n",
              "      background-color: #E8F0FE;\n",
              "      border: none;\n",
              "      border-radius: 50%;\n",
              "      cursor: pointer;\n",
              "      display: none;\n",
              "      fill: #1967D2;\n",
              "      height: 32px;\n",
              "      padding: 0 0 0 0;\n",
              "      width: 32px;\n",
              "    }\n",
              "\n",
              "    .colab-df-convert:hover {\n",
              "      background-color: #E2EBFA;\n",
              "      box-shadow: 0px 1px 2px rgba(60, 64, 67, 0.3), 0px 1px 3px 1px rgba(60, 64, 67, 0.15);\n",
              "      fill: #174EA6;\n",
              "    }\n",
              "\n",
              "    [theme=dark] .colab-df-convert {\n",
              "      background-color: #3B4455;\n",
              "      fill: #D2E3FC;\n",
              "    }\n",
              "\n",
              "    [theme=dark] .colab-df-convert:hover {\n",
              "      background-color: #434B5C;\n",
              "      box-shadow: 0px 1px 3px 1px rgba(0, 0, 0, 0.15);\n",
              "      filter: drop-shadow(0px 1px 2px rgba(0, 0, 0, 0.3));\n",
              "      fill: #FFFFFF;\n",
              "    }\n",
              "  </style>\n",
              "\n",
              "      <script>\n",
              "        const buttonEl =\n",
              "          document.querySelector('#df-041cb861-d5af-49de-bf97-85a931522951 button.colab-df-convert');\n",
              "        buttonEl.style.display =\n",
              "          google.colab.kernel.accessAllowed ? 'block' : 'none';\n",
              "\n",
              "        async function convertToInteractive(key) {\n",
              "          const element = document.querySelector('#df-041cb861-d5af-49de-bf97-85a931522951');\n",
              "          const dataTable =\n",
              "            await google.colab.kernel.invokeFunction('convertToInteractive',\n",
              "                                                     [key], {});\n",
              "          if (!dataTable) return;\n",
              "\n",
              "          const docLinkHtml = 'Like what you see? Visit the ' +\n",
              "            '<a target=\"_blank\" href=https://colab.research.google.com/notebooks/data_table.ipynb>data table notebook</a>'\n",
              "            + ' to learn more about interactive tables.';\n",
              "          element.innerHTML = '';\n",
              "          dataTable['output_type'] = 'display_data';\n",
              "          await google.colab.output.renderOutput(dataTable, element);\n",
              "          const docLink = document.createElement('div');\n",
              "          docLink.innerHTML = docLinkHtml;\n",
              "          element.appendChild(docLink);\n",
              "        }\n",
              "      </script>\n",
              "    </div>\n",
              "  </div>\n",
              "  "
            ]
          },
          "metadata": {},
          "execution_count": 8
        }
      ],
      "source": [
        "train"
      ]
    },
    {
      "cell_type": "code",
      "source": [
        "train.shape"
      ],
      "metadata": {
        "colab": {
          "base_uri": "https://localhost:8080/"
        },
        "id": "NMTjikATbKA0",
        "outputId": "c3044188-2202-4c22-ac1d-1d4454d06200"
      },
      "execution_count": 9,
      "outputs": [
        {
          "output_type": "execute_result",
          "data": {
            "text/plain": [
              "(1199, 12)"
            ]
          },
          "metadata": {},
          "execution_count": 9
        }
      ]
    },
    {
      "cell_type": "markdown",
      "metadata": {
        "id": "7FENRaDA-rN_"
      },
      "source": [
        "# Exploratory Data Analysis"
      ]
    },
    {
      "cell_type": "markdown",
      "metadata": {
        "id": "8-mprrorY9wM"
      },
      "source": [
        "## NA values checking"
      ]
    },
    {
      "cell_type": "code",
      "execution_count": 10,
      "metadata": {
        "colab": {
          "base_uri": "https://localhost:8080/"
        },
        "id": "16XnFN5RY_2G",
        "outputId": "e2479297-a193-4875-972c-640504227433"
      },
      "outputs": [
        {
          "output_type": "stream",
          "name": "stdout",
          "text": [
            "==================== TRAIN DF NaN ====================\n",
            "fixed acidity           0\n",
            "volatile acidity        0\n",
            "citric acid             0\n",
            "residual sugar          0\n",
            "chlorides               0\n",
            "free sulfur dioxide     0\n",
            "total sulfur dioxide    0\n",
            "density                 0\n",
            "pH                      0\n",
            "sulphates               0\n",
            "alcohol                 0\n",
            "quality                 0\n",
            "dtype: int64\n",
            "==================== TEST DF NaN ====================\n",
            "fixed acidity           0\n",
            "volatile acidity        0\n",
            "citric acid             0\n",
            "residual sugar          0\n",
            "chlorides               0\n",
            "free sulfur dioxide     0\n",
            "total sulfur dioxide    0\n",
            "density                 0\n",
            "pH                      0\n",
            "sulphates               0\n",
            "alcohol                 0\n",
            "dtype: int64\n"
          ]
        }
      ],
      "source": [
        "print('='*20, 'TRAIN DF NaN', '='*20)\n",
        "print(train.isna().sum())\n",
        "print('='*20, 'TEST DF NaN', '='*20)\n",
        "print(test.isna().sum())"
      ]
    },
    {
      "cell_type": "markdown",
      "metadata": {
        "id": "M0puvXMoJsW-"
      },
      "source": [
        "## Train data type\n"
      ]
    },
    {
      "cell_type": "code",
      "execution_count": 11,
      "metadata": {
        "colab": {
          "base_uri": "https://localhost:8080/"
        },
        "id": "Bi5hMJh_-R3w",
        "outputId": "aa4060c2-6614-465a-ccc0-b45133f6bd07"
      },
      "outputs": [
        {
          "output_type": "stream",
          "name": "stdout",
          "text": [
            "<class 'pandas.core.frame.DataFrame'>\n",
            "RangeIndex: 1199 entries, 0 to 1198\n",
            "Data columns (total 12 columns):\n",
            " #   Column                Non-Null Count  Dtype  \n",
            "---  ------                --------------  -----  \n",
            " 0   fixed acidity         1199 non-null   float64\n",
            " 1   volatile acidity      1199 non-null   float64\n",
            " 2   citric acid           1199 non-null   float64\n",
            " 3   residual sugar        1199 non-null   float64\n",
            " 4   chlorides             1199 non-null   float64\n",
            " 5   free sulfur dioxide   1199 non-null   float64\n",
            " 6   total sulfur dioxide  1199 non-null   float64\n",
            " 7   density               1199 non-null   float64\n",
            " 8   pH                    1199 non-null   float64\n",
            " 9   sulphates             1199 non-null   float64\n",
            " 10  alcohol               1199 non-null   float64\n",
            " 11  quality               1199 non-null   int64  \n",
            "dtypes: float64(11), int64(1)\n",
            "memory usage: 112.5 KB\n"
          ]
        }
      ],
      "source": [
        "train.info()"
      ]
    },
    {
      "cell_type": "markdown",
      "metadata": {
        "id": "TZpSHVTPJvXI"
      },
      "source": [
        "## Statistic"
      ]
    },
    {
      "cell_type": "code",
      "execution_count": 12,
      "metadata": {
        "colab": {
          "base_uri": "https://localhost:8080/",
          "height": 399
        },
        "id": "9kcWoILv-WQq",
        "outputId": "ac06b0a6-b51a-44d5-d317-b52319602cdc"
      },
      "outputs": [
        {
          "output_type": "execute_result",
          "data": {
            "text/plain": [
              "       fixed acidity  volatile acidity  citric acid  residual sugar  \\\n",
              "count    1199.000000       1199.000000  1199.000000     1199.000000   \n",
              "mean        8.338032          0.530388     0.271034        2.557882   \n",
              "std         1.736475          0.183484     0.194574        1.477834   \n",
              "min         4.700000          0.120000     0.000000        0.900000   \n",
              "25%         7.100000          0.395000     0.090000        1.900000   \n",
              "50%         7.900000          0.520000     0.260000        2.200000   \n",
              "75%         9.250000          0.640000     0.420000        2.600000   \n",
              "max        15.900000          1.580000     1.000000       15.500000   \n",
              "\n",
              "         chlorides  free sulfur dioxide  total sulfur dioxide      density  \\\n",
              "count  1199.000000          1199.000000           1199.000000  1199.000000   \n",
              "mean      0.087227            16.132611             47.371977     0.996757   \n",
              "std       0.048135            10.616294             33.998178     0.001881   \n",
              "min       0.012000             1.000000              6.000000     0.990070   \n",
              "25%       0.070000             8.000000             22.000000     0.995620   \n",
              "50%       0.079000            14.000000             38.000000     0.996750   \n",
              "75%       0.090000            22.000000             63.500000     0.997845   \n",
              "max       0.611000            72.000000            289.000000     1.003690   \n",
              "\n",
              "                pH    sulphates      alcohol      quality  \n",
              "count  1199.000000  1199.000000  1199.000000  1199.000000  \n",
              "mean      3.308874     0.658757    10.405922     5.642202  \n",
              "std       0.154309     0.176884     1.065632     0.815902  \n",
              "min       2.740000     0.370000     8.400000     3.000000  \n",
              "25%       3.210000     0.550000     9.500000     5.000000  \n",
              "50%       3.310000     0.620000    10.100000     6.000000  \n",
              "75%       3.400000     0.730000    11.000000     6.000000  \n",
              "max       4.010000     2.000000    14.900000     8.000000  "
            ],
            "text/html": [
              "\n",
              "  <div id=\"df-956bb31a-de38-44c3-8648-b71455cd2500\">\n",
              "    <div class=\"colab-df-container\">\n",
              "      <div>\n",
              "<style scoped>\n",
              "    .dataframe tbody tr th:only-of-type {\n",
              "        vertical-align: middle;\n",
              "    }\n",
              "\n",
              "    .dataframe tbody tr th {\n",
              "        vertical-align: top;\n",
              "    }\n",
              "\n",
              "    .dataframe thead th {\n",
              "        text-align: right;\n",
              "    }\n",
              "</style>\n",
              "<table border=\"1\" class=\"dataframe\">\n",
              "  <thead>\n",
              "    <tr style=\"text-align: right;\">\n",
              "      <th></th>\n",
              "      <th>fixed acidity</th>\n",
              "      <th>volatile acidity</th>\n",
              "      <th>citric acid</th>\n",
              "      <th>residual sugar</th>\n",
              "      <th>chlorides</th>\n",
              "      <th>free sulfur dioxide</th>\n",
              "      <th>total sulfur dioxide</th>\n",
              "      <th>density</th>\n",
              "      <th>pH</th>\n",
              "      <th>sulphates</th>\n",
              "      <th>alcohol</th>\n",
              "      <th>quality</th>\n",
              "    </tr>\n",
              "  </thead>\n",
              "  <tbody>\n",
              "    <tr>\n",
              "      <th>count</th>\n",
              "      <td>1199.000000</td>\n",
              "      <td>1199.000000</td>\n",
              "      <td>1199.000000</td>\n",
              "      <td>1199.000000</td>\n",
              "      <td>1199.000000</td>\n",
              "      <td>1199.000000</td>\n",
              "      <td>1199.000000</td>\n",
              "      <td>1199.000000</td>\n",
              "      <td>1199.000000</td>\n",
              "      <td>1199.000000</td>\n",
              "      <td>1199.000000</td>\n",
              "      <td>1199.000000</td>\n",
              "    </tr>\n",
              "    <tr>\n",
              "      <th>mean</th>\n",
              "      <td>8.338032</td>\n",
              "      <td>0.530388</td>\n",
              "      <td>0.271034</td>\n",
              "      <td>2.557882</td>\n",
              "      <td>0.087227</td>\n",
              "      <td>16.132611</td>\n",
              "      <td>47.371977</td>\n",
              "      <td>0.996757</td>\n",
              "      <td>3.308874</td>\n",
              "      <td>0.658757</td>\n",
              "      <td>10.405922</td>\n",
              "      <td>5.642202</td>\n",
              "    </tr>\n",
              "    <tr>\n",
              "      <th>std</th>\n",
              "      <td>1.736475</td>\n",
              "      <td>0.183484</td>\n",
              "      <td>0.194574</td>\n",
              "      <td>1.477834</td>\n",
              "      <td>0.048135</td>\n",
              "      <td>10.616294</td>\n",
              "      <td>33.998178</td>\n",
              "      <td>0.001881</td>\n",
              "      <td>0.154309</td>\n",
              "      <td>0.176884</td>\n",
              "      <td>1.065632</td>\n",
              "      <td>0.815902</td>\n",
              "    </tr>\n",
              "    <tr>\n",
              "      <th>min</th>\n",
              "      <td>4.700000</td>\n",
              "      <td>0.120000</td>\n",
              "      <td>0.000000</td>\n",
              "      <td>0.900000</td>\n",
              "      <td>0.012000</td>\n",
              "      <td>1.000000</td>\n",
              "      <td>6.000000</td>\n",
              "      <td>0.990070</td>\n",
              "      <td>2.740000</td>\n",
              "      <td>0.370000</td>\n",
              "      <td>8.400000</td>\n",
              "      <td>3.000000</td>\n",
              "    </tr>\n",
              "    <tr>\n",
              "      <th>25%</th>\n",
              "      <td>7.100000</td>\n",
              "      <td>0.395000</td>\n",
              "      <td>0.090000</td>\n",
              "      <td>1.900000</td>\n",
              "      <td>0.070000</td>\n",
              "      <td>8.000000</td>\n",
              "      <td>22.000000</td>\n",
              "      <td>0.995620</td>\n",
              "      <td>3.210000</td>\n",
              "      <td>0.550000</td>\n",
              "      <td>9.500000</td>\n",
              "      <td>5.000000</td>\n",
              "    </tr>\n",
              "    <tr>\n",
              "      <th>50%</th>\n",
              "      <td>7.900000</td>\n",
              "      <td>0.520000</td>\n",
              "      <td>0.260000</td>\n",
              "      <td>2.200000</td>\n",
              "      <td>0.079000</td>\n",
              "      <td>14.000000</td>\n",
              "      <td>38.000000</td>\n",
              "      <td>0.996750</td>\n",
              "      <td>3.310000</td>\n",
              "      <td>0.620000</td>\n",
              "      <td>10.100000</td>\n",
              "      <td>6.000000</td>\n",
              "    </tr>\n",
              "    <tr>\n",
              "      <th>75%</th>\n",
              "      <td>9.250000</td>\n",
              "      <td>0.640000</td>\n",
              "      <td>0.420000</td>\n",
              "      <td>2.600000</td>\n",
              "      <td>0.090000</td>\n",
              "      <td>22.000000</td>\n",
              "      <td>63.500000</td>\n",
              "      <td>0.997845</td>\n",
              "      <td>3.400000</td>\n",
              "      <td>0.730000</td>\n",
              "      <td>11.000000</td>\n",
              "      <td>6.000000</td>\n",
              "    </tr>\n",
              "    <tr>\n",
              "      <th>max</th>\n",
              "      <td>15.900000</td>\n",
              "      <td>1.580000</td>\n",
              "      <td>1.000000</td>\n",
              "      <td>15.500000</td>\n",
              "      <td>0.611000</td>\n",
              "      <td>72.000000</td>\n",
              "      <td>289.000000</td>\n",
              "      <td>1.003690</td>\n",
              "      <td>4.010000</td>\n",
              "      <td>2.000000</td>\n",
              "      <td>14.900000</td>\n",
              "      <td>8.000000</td>\n",
              "    </tr>\n",
              "  </tbody>\n",
              "</table>\n",
              "</div>\n",
              "      <button class=\"colab-df-convert\" onclick=\"convertToInteractive('df-956bb31a-de38-44c3-8648-b71455cd2500')\"\n",
              "              title=\"Convert this dataframe to an interactive table.\"\n",
              "              style=\"display:none;\">\n",
              "        \n",
              "  <svg xmlns=\"http://www.w3.org/2000/svg\" height=\"24px\"viewBox=\"0 0 24 24\"\n",
              "       width=\"24px\">\n",
              "    <path d=\"M0 0h24v24H0V0z\" fill=\"none\"/>\n",
              "    <path d=\"M18.56 5.44l.94 2.06.94-2.06 2.06-.94-2.06-.94-.94-2.06-.94 2.06-2.06.94zm-11 1L8.5 8.5l.94-2.06 2.06-.94-2.06-.94L8.5 2.5l-.94 2.06-2.06.94zm10 10l.94 2.06.94-2.06 2.06-.94-2.06-.94-.94-2.06-.94 2.06-2.06.94z\"/><path d=\"M17.41 7.96l-1.37-1.37c-.4-.4-.92-.59-1.43-.59-.52 0-1.04.2-1.43.59L10.3 9.45l-7.72 7.72c-.78.78-.78 2.05 0 2.83L4 21.41c.39.39.9.59 1.41.59.51 0 1.02-.2 1.41-.59l7.78-7.78 2.81-2.81c.8-.78.8-2.07 0-2.86zM5.41 20L4 18.59l7.72-7.72 1.47 1.35L5.41 20z\"/>\n",
              "  </svg>\n",
              "      </button>\n",
              "      \n",
              "  <style>\n",
              "    .colab-df-container {\n",
              "      display:flex;\n",
              "      flex-wrap:wrap;\n",
              "      gap: 12px;\n",
              "    }\n",
              "\n",
              "    .colab-df-convert {\n",
              "      background-color: #E8F0FE;\n",
              "      border: none;\n",
              "      border-radius: 50%;\n",
              "      cursor: pointer;\n",
              "      display: none;\n",
              "      fill: #1967D2;\n",
              "      height: 32px;\n",
              "      padding: 0 0 0 0;\n",
              "      width: 32px;\n",
              "    }\n",
              "\n",
              "    .colab-df-convert:hover {\n",
              "      background-color: #E2EBFA;\n",
              "      box-shadow: 0px 1px 2px rgba(60, 64, 67, 0.3), 0px 1px 3px 1px rgba(60, 64, 67, 0.15);\n",
              "      fill: #174EA6;\n",
              "    }\n",
              "\n",
              "    [theme=dark] .colab-df-convert {\n",
              "      background-color: #3B4455;\n",
              "      fill: #D2E3FC;\n",
              "    }\n",
              "\n",
              "    [theme=dark] .colab-df-convert:hover {\n",
              "      background-color: #434B5C;\n",
              "      box-shadow: 0px 1px 3px 1px rgba(0, 0, 0, 0.15);\n",
              "      filter: drop-shadow(0px 1px 2px rgba(0, 0, 0, 0.3));\n",
              "      fill: #FFFFFF;\n",
              "    }\n",
              "  </style>\n",
              "\n",
              "      <script>\n",
              "        const buttonEl =\n",
              "          document.querySelector('#df-956bb31a-de38-44c3-8648-b71455cd2500 button.colab-df-convert');\n",
              "        buttonEl.style.display =\n",
              "          google.colab.kernel.accessAllowed ? 'block' : 'none';\n",
              "\n",
              "        async function convertToInteractive(key) {\n",
              "          const element = document.querySelector('#df-956bb31a-de38-44c3-8648-b71455cd2500');\n",
              "          const dataTable =\n",
              "            await google.colab.kernel.invokeFunction('convertToInteractive',\n",
              "                                                     [key], {});\n",
              "          if (!dataTable) return;\n",
              "\n",
              "          const docLinkHtml = 'Like what you see? Visit the ' +\n",
              "            '<a target=\"_blank\" href=https://colab.research.google.com/notebooks/data_table.ipynb>data table notebook</a>'\n",
              "            + ' to learn more about interactive tables.';\n",
              "          element.innerHTML = '';\n",
              "          dataTable['output_type'] = 'display_data';\n",
              "          await google.colab.output.renderOutput(dataTable, element);\n",
              "          const docLink = document.createElement('div');\n",
              "          docLink.innerHTML = docLinkHtml;\n",
              "          element.appendChild(docLink);\n",
              "        }\n",
              "      </script>\n",
              "    </div>\n",
              "  </div>\n",
              "  "
            ]
          },
          "metadata": {},
          "execution_count": 12
        }
      ],
      "source": [
        "train.describe()"
      ]
    },
    {
      "cell_type": "markdown",
      "metadata": {
        "id": "fk-CKzQ9Y5C2"
      },
      "source": [
        "## Popping target variable"
      ]
    },
    {
      "cell_type": "code",
      "execution_count": 13,
      "metadata": {
        "colab": {
          "base_uri": "https://localhost:8080/"
        },
        "id": "hGrYdTun-Xxh",
        "outputId": "a1a978cf-6351-42ac-a5a4-187049df885f"
      },
      "outputs": [
        {
          "output_type": "execute_result",
          "data": {
            "text/plain": [
              "0       5\n",
              "1       5\n",
              "2       5\n",
              "3       6\n",
              "4       5\n",
              "       ..\n",
              "1194    5\n",
              "1195    5\n",
              "1196    6\n",
              "1197    6\n",
              "1198    5\n",
              "Name: quality, Length: 1199, dtype: int64"
            ]
          },
          "metadata": {},
          "execution_count": 13
        }
      ],
      "source": [
        "y = train.pop('quality')\n",
        "y"
      ]
    },
    {
      "cell_type": "markdown",
      "metadata": {
        "id": "eDu6PxNUJyhF"
      },
      "source": [
        "## Plotting the target variable"
      ]
    },
    {
      "cell_type": "code",
      "execution_count": 14,
      "metadata": {
        "colab": {
          "base_uri": "https://localhost:8080/",
          "height": 564
        },
        "id": "q0lZcvDh_DdB",
        "outputId": "db66a46a-1b2a-4cb9-bf19-6a92f76096ff"
      },
      "outputs": [
        {
          "output_type": "execute_result",
          "data": {
            "text/plain": [
              "<matplotlib.axes._subplots.AxesSubplot at 0x7f1d65d81520>"
            ]
          },
          "metadata": {},
          "execution_count": 14
        },
        {
          "output_type": "display_data",
          "data": {
            "text/plain": [
              "<Figure size 1224x792 with 1 Axes>"
            ],
            "image/png": "[encoded data removed]"
          },
          "metadata": {}
        }
      ],
      "source": [
        "sns.histplot(y)"
      ]
    },
    {
      "cell_type": "markdown",
      "metadata": {
        "id": "Qj-8INJ8_hwM"
      },
      "source": [
        "We see that most of the quality of the wines are on 5 and 6, so if we consider this as a Classification Problem, this is an imbalanced learning. <br>\n",
        "Solution : Using SMOTE to balance the classification, or using weighted class imbalance in Tree Algorithm"
      ]
    },
    {
      "cell_type": "code",
      "source": [
        "train.columns"
      ],
      "metadata": {
        "colab": {
          "base_uri": "https://localhost:8080/"
        },
        "id": "K1VqSWwvEzI1",
        "outputId": "268deac9-122c-48c7-ef85-16458963dfcd"
      },
      "execution_count": 21,
      "outputs": [
        {
          "output_type": "execute_result",
          "data": {
            "text/plain": [
              "Index(['fixed acidity', 'volatile acidity', 'citric acid', 'residual sugar',\n",
              "       'chlorides', 'free sulfur dioxide', 'total sulfur dioxide', 'density',\n",
              "       'pH', 'sulphates', 'alcohol'],\n",
              "      dtype='object')"
            ]
          },
          "metadata": {},
          "execution_count": 21
        }
      ]
    },
    {
      "cell_type": "markdown",
      "metadata": {
        "id": "uKuXGtlYJ1XQ"
      },
      "source": [
        "## Visualizing the distribution of dependent variables"
      ]
    },
    {
      "cell_type": "code",
      "execution_count": 34,
      "metadata": {
        "colab": {
          "base_uri": "https://localhost:8080/",
          "height": 1000
        },
        "id": "HkJCtwSl_GzA",
        "outputId": "e214115b-aae2-4a67-8d71-1eb549846229"
      },
      "outputs": [
        {
          "output_type": "stream",
          "name": "stderr",
          "text": [
            "/usr/local/lib/python3.8/dist-packages/seaborn/distributions.py:2619: FutureWarning: `distplot` is a deprecated function and will be removed in a future version. Please adapt your code to use either `displot` (a figure-level function with similar flexibility) or `histplot` (an axes-level function for histograms).\n",
            "  warnings.warn(msg, FutureWarning)\n",
            "/usr/local/lib/python3.8/dist-packages/seaborn/distributions.py:2619: FutureWarning: `distplot` is a deprecated function and will be removed in a future version. Please adapt your code to use either `displot` (a figure-level function with similar flexibility) or `histplot` (an axes-level function for histograms).\n",
            "  warnings.warn(msg, FutureWarning)\n",
            "/usr/local/lib/python3.8/dist-packages/seaborn/distributions.py:2619: FutureWarning: `distplot` is a deprecated function and will be removed in a future version. Please adapt your code to use either `displot` (a figure-level function with similar flexibility) or `histplot` (an axes-level function for histograms).\n",
            "  warnings.warn(msg, FutureWarning)\n",
            "/usr/local/lib/python3.8/dist-packages/seaborn/distributions.py:2619: FutureWarning: `distplot` is a deprecated function and will be removed in a future version. Please adapt your code to use either `displot` (a figure-level function with similar flexibility) or `histplot` (an axes-level function for histograms).\n",
            "  warnings.warn(msg, FutureWarning)\n",
            "/usr/local/lib/python3.8/dist-packages/seaborn/distributions.py:2619: FutureWarning: `distplot` is a deprecated function and will be removed in a future version. Please adapt your code to use either `displot` (a figure-level function with similar flexibility) or `histplot` (an axes-level function for histograms).\n",
            "  warnings.warn(msg, FutureWarning)\n",
            "/usr/local/lib/python3.8/dist-packages/seaborn/distributions.py:2619: FutureWarning: `distplot` is a deprecated function and will be removed in a future version. Please adapt your code to use either `displot` (a figure-level function with similar flexibility) or `histplot` (an axes-level function for histograms).\n",
            "  warnings.warn(msg, FutureWarning)\n",
            "/usr/local/lib/python3.8/dist-packages/seaborn/distributions.py:2619: FutureWarning: `distplot` is a deprecated function and will be removed in a future version. Please adapt your code to use either `displot` (a figure-level function with similar flexibility) or `histplot` (an axes-level function for histograms).\n",
            "  warnings.warn(msg, FutureWarning)\n",
            "/usr/local/lib/python3.8/dist-packages/seaborn/distributions.py:2619: FutureWarning: `distplot` is a deprecated function and will be removed in a future version. Please adapt your code to use either `displot` (a figure-level function with similar flexibility) or `histplot` (an axes-level function for histograms).\n",
            "  warnings.warn(msg, FutureWarning)\n",
            "/usr/local/lib/python3.8/dist-packages/seaborn/distributions.py:2619: FutureWarning: `distplot` is a deprecated function and will be removed in a future version. Please adapt your code to use either `displot` (a figure-level function with similar flexibility) or `histplot` (an axes-level function for histograms).\n",
            "  warnings.warn(msg, FutureWarning)\n",
            "/usr/local/lib/python3.8/dist-packages/seaborn/distributions.py:2619: FutureWarning: `distplot` is a deprecated function and will be removed in a future version. Please adapt your code to use either `displot` (a figure-level function with similar flexibility) or `histplot` (an axes-level function for histograms).\n",
            "  warnings.warn(msg, FutureWarning)\n",
            "/usr/local/lib/python3.8/dist-packages/seaborn/distributions.py:2619: FutureWarning: `distplot` is a deprecated function and will be removed in a future version. Please adapt your code to use either `displot` (a figure-level function with similar flexibility) or `histplot` (an axes-level function for histograms).\n",
            "  warnings.warn(msg, FutureWarning)\n"
          ]
        },
        {
          "output_type": "display_data",
          "data": {
            "text/plain": [
              "<Figure size 1440x1224 with 12 Axes>"
            ],
            "image/png": "[encoded data removed]"
          },
          "metadata": {}
        }
      ],
      "source": [
        "f, axes = plt.subplots(3, 4, figsize = (20, 17))\n",
        "for col, ax in zip(train.columns, axes.ravel()) :\n",
        "    # plt.subplot(3,4,ax)\n",
        "    _ = sns.distplot(train[col], ax=ax)\n",
        "    ax.set_title('')\n",
        "    ax.set_xlabel(col)\n",
        "plt.show()"
      ]
    },
    {
      "cell_type": "markdown",
      "metadata": {
        "id": "qNuRwrX2D6jH"
      },
      "source": [
        "We see most of the data are skewed distributed. <br>\n",
        "Solution : Taking a log from the feature or scaling it"
      ]
    },
    {
      "cell_type": "markdown",
      "metadata": {
        "id": "y1FDxk0eJ-Hm"
      },
      "source": [
        "## Correlation\n",
        "We'll find correlation between each independent variables and independent variables to dependent variable"
      ]
    },
    {
      "cell_type": "code",
      "execution_count": 27,
      "metadata": {
        "colab": {
          "base_uri": "https://localhost:8080/",
          "height": 626
        },
        "id": "uLJbF2aHDE0Y",
        "outputId": "9d647a4e-ef63-4908-dbf5-c9180d718ad9"
      },
      "outputs": [
        {
          "output_type": "display_data",
          "data": {
            "text/plain": [
              "<Figure size 1224x792 with 2 Axes>"
            ],
            "image/png": "[encoded data removed]"
          },
          "metadata": {}
        }
      ],
      "source": [
        "# Independent variables\n",
        "_ = sns.heatmap(train.corr(), annot = True)"
      ]
    },
    {
      "cell_type": "markdown",
      "metadata": {
        "id": "SY8GFJwWLk3m"
      },
      "source": [
        "This is the correlation of the dependent variables. We see that there are correlative dependent variables which can lead to multicorrelation and bring bad to the prediction. <br>\n",
        "Solution : Using PCA or using the decision tree algorithm."
      ]
    },
    {
      "cell_type": "code",
      "execution_count": 17,
      "metadata": {
        "colab": {
          "base_uri": "https://localhost:8080/",
          "height": 707
        },
        "id": "0yDXjMrWJ9PO",
        "outputId": "caa3d261-d5b9-4e81-983d-e656175ae0d7"
      },
      "outputs": [
        {
          "output_type": "stream",
          "name": "stdout",
          "text": [
            "alcohol                 0.462611\n",
            "sulphates               0.247010\n",
            "citric acid             0.242519\n",
            "fixed acidity           0.134515\n",
            "residual sugar          0.012275\n",
            "pH                     -0.072022\n",
            "free sulfur dioxide    -0.081731\n",
            "chlorides              -0.123183\n",
            "density                -0.166300\n",
            "total sulfur dioxide   -0.189712\n",
            "volatile acidity       -0.411626\n",
            "dtype: float64\n"
          ]
        },
        {
          "output_type": "display_data",
          "data": {
            "text/plain": [
              "<Figure size 1224x792 with 1 Axes>"
            ],
            "image/png": "[encoded data removed]"
          },
          "metadata": {}
        }
      ],
      "source": [
        "# Independent variables to dependent variable\n",
        "print(train.corrwith(y).sort_values(ascending = False))\n",
        "_ = train.corrwith(y).sort_values(ascending = False).plot.barh()"
      ]
    },
    {
      "cell_type": "code",
      "execution_count": 18,
      "metadata": {
        "colab": {
          "base_uri": "https://localhost:8080/",
          "height": 725
        },
        "id": "s74WAZgORarR",
        "outputId": "7514201d-c80f-4dee-a513-072f0ef9e201"
      },
      "outputs": [
        {
          "output_type": "stream",
          "name": "stdout",
          "text": [
            "alcohol                 0.462611\n",
            "volatile acidity        0.411626\n",
            "sulphates               0.247010\n",
            "citric acid             0.242519\n",
            "total sulfur dioxide    0.189712\n",
            "density                 0.166300\n",
            "fixed acidity           0.134515\n",
            "chlorides               0.123183\n",
            "free sulfur dioxide     0.081731\n",
            "pH                      0.072022\n",
            "residual sugar          0.012275\n",
            "dtype: float64\n"
          ]
        },
        {
          "output_type": "execute_result",
          "data": {
            "text/plain": [
              "<matplotlib.axes._subplots.AxesSubplot at 0x7f1d60dfb250>"
            ]
          },
          "metadata": {},
          "execution_count": 18
        },
        {
          "output_type": "display_data",
          "data": {
            "text/plain": [
              "<Figure size 1224x792 with 1 Axes>"
            ],
            "image/png": "[encoded data removed]"
          },
          "metadata": {}
        }
      ],
      "source": [
        "print(train.corrwith(y).abs().sort_values(ascending = False))\n",
        "train.corrwith(y).abs().sort_values(ascending = False).plot.barh()"
      ]
    },
    {
      "cell_type": "code",
      "execution_count": 19,
      "metadata": {
        "colab": {
          "base_uri": "https://localhost:8080/",
          "height": 725
        },
        "id": "szOQSm3gNSVP",
        "outputId": "0f7ffc36-452c-40aa-e32a-eefdb55cde7e"
      },
      "outputs": [
        {
          "output_type": "stream",
          "name": "stdout",
          "text": [
            "alcohol                 0.169508\n",
            "volatile acidity        0.132157\n",
            "sulphates               0.121469\n",
            "citric acid             0.093815\n",
            "total sulfur dioxide    0.086702\n",
            "density                 0.066426\n",
            "fixed acidity           0.038815\n",
            "free sulfur dioxide     0.020430\n",
            "pH                      0.018621\n",
            "chlorides               0.015081\n",
            "residual sugar          0.000000\n",
            "dtype: float64\n"
          ]
        },
        {
          "output_type": "execute_result",
          "data": {
            "text/plain": [
              "<matplotlib.axes._subplots.AxesSubplot at 0x7f1d60d8e340>"
            ]
          },
          "metadata": {},
          "execution_count": 19
        },
        {
          "output_type": "display_data",
          "data": {
            "text/plain": [
              "<Figure size 1224x792 with 1 Axes>"
            ],
            "image/png": "[encoded data removed]"
          },
          "metadata": {}
        }
      ],
      "source": [
        "# There's also another way to find a correlation between the independent variables and dependent variable using \"Mutual Info\"\n",
        "mi_regress = mutual_info_regression(train, y, random_state = 0)\n",
        "mi_regress = pd.Series(\n",
        "    mi_regress,\n",
        "    index = train.columns\n",
        ").sort_values(ascending = False)\n",
        "print(mi_regress)\n",
        "mi_regress.plot.barh()"
      ]
    },
    {
      "cell_type": "code",
      "execution_count": 20,
      "metadata": {
        "colab": {
          "base_uri": "https://localhost:8080/",
          "height": 725
        },
        "id": "YCwpIZLcQoKe",
        "outputId": "d3c233ce-3733-4d4e-b282-a6dd62441a94"
      },
      "outputs": [
        {
          "output_type": "stream",
          "name": "stdout",
          "text": [
            "alcohol                 0.169089\n",
            "volatile acidity        0.146767\n",
            "sulphates               0.100429\n",
            "citric acid             0.088276\n",
            "total sulfur dioxide    0.080701\n",
            "density                 0.066164\n",
            "fixed acidity           0.060876\n",
            "residual sugar          0.034742\n",
            "free sulfur dioxide     0.032757\n",
            "pH                      0.020538\n",
            "chlorides               0.001960\n",
            "dtype: float64\n"
          ]
        },
        {
          "output_type": "execute_result",
          "data": {
            "text/plain": [
              "<matplotlib.axes._subplots.AxesSubplot at 0x7f1d60cebfa0>"
            ]
          },
          "metadata": {},
          "execution_count": 20
        },
        {
          "output_type": "display_data",
          "data": {
            "text/plain": [
              "<Figure size 1224x792 with 1 Axes>"
            ],
            "image/png": "[encoded data removed]"
          },
          "metadata": {}
        }
      ],
      "source": [
        "# We also try using the mutual_info_classif, cause the problem could be considered by classification and regression\n",
        "mi_classif = mutual_info_classif(train, y, random_state = 0)\n",
        "mi_classif = pd.Series(\n",
        "    mi_classif,\n",
        "    index = train.columns\n",
        ").sort_values(ascending = False)\n",
        "print(mi_classif)\n",
        "mi_classif.plot.barh()"
      ]
    },
    {
      "cell_type": "markdown",
      "metadata": {
        "id": "xGkfQERES341"
      },
      "source": [
        "We see that from 3 means of finding correlation betwaeen independent variables and dependent, they all say the same in orders. <br>\n",
        "So, let's start making the model"
      ]
    },
    {
      "cell_type": "markdown",
      "metadata": {
        "id": "RdwtoqUnX7iQ"
      },
      "source": [
        "# Modelling"
      ]
    },
    {
      "cell_type": "markdown",
      "metadata": {
        "id": "N3tl4A3YYM3x"
      },
      "source": [
        "## Splitting the data\n",
        "We'll first split the data into two part, train and validation data."
      ]
    },
    {
      "cell_type": "code",
      "execution_count": 36,
      "metadata": {
        "id": "bkAvs-baXuq1"
      },
      "outputs": [],
      "source": [
        "xtrain, xval, ytrain, yval = train_test_split(train, y, random_state = 0, stratify = y)"
      ]
    },
    {
      "cell_type": "code",
      "execution_count": 37,
      "metadata": {
        "id": "rE7RN6XZYtr8"
      },
      "outputs": [],
      "source": [
        "xtrain = xtrain.reset_index(drop = True)\n",
        "xval = xval.reset_index(drop = True)"
      ]
    },
    {
      "cell_type": "code",
      "execution_count": 38,
      "metadata": {
        "colab": {
          "base_uri": "https://localhost:8080/",
          "height": 909
        },
        "id": "2a3l7Nb5bBbl",
        "outputId": "c8e3febf-91ed-41c9-847f-91206fef0d31"
      },
      "outputs": [
        {
          "output_type": "display_data",
          "data": {
            "text/plain": [
              "     fixed acidity  volatile acidity  citric acid  residual sugar  chlorides  \\\n",
              "0              8.7             0.780         0.51             1.7      0.415   \n",
              "1              6.6             0.855         0.02             2.4      0.062   \n",
              "2              7.0             0.690         0.08             1.8      0.097   \n",
              "3              8.2             0.200         0.43             2.5      0.076   \n",
              "4             15.5             0.645         0.49             4.2      0.095   \n",
              "..             ...               ...          ...             ...        ...   \n",
              "894            8.8             0.270         0.46             2.1      0.095   \n",
              "895           11.3             0.620         0.67             5.2      0.086   \n",
              "896           10.0             0.260         0.54             1.9      0.083   \n",
              "897            8.0             1.180         0.21             1.9      0.083   \n",
              "898           12.1             0.400         0.52             2.0      0.092   \n",
              "\n",
              "     free sulfur dioxide  total sulfur dioxide  density    pH  sulphates  \\\n",
              "0                   12.0                  66.0  0.99623  3.00       1.17   \n",
              "1                   15.0                  23.0  0.99627  3.54       0.60   \n",
              "2                   22.0                  89.0  0.99590  3.34       0.54   \n",
              "3                   31.0                  51.0  0.99672  3.53       0.81   \n",
              "4                   10.0                  23.0  1.00315  2.92       0.74   \n",
              "..                   ...                   ...      ...   ...        ...   \n",
              "894                 20.0                  29.0  0.99488  3.26       0.56   \n",
              "895                  6.0                  19.0  0.99880  3.22       0.69   \n",
              "896                 42.0                  74.0  0.99451  2.98       0.63   \n",
              "897                 14.0                  41.0  0.99532  3.34       0.47   \n",
              "898                 15.0                  54.0  1.00000  3.03       0.66   \n",
              "\n",
              "     alcohol  \n",
              "0        9.2  \n",
              "1       11.0  \n",
              "2        9.2  \n",
              "3       10.4  \n",
              "4       11.1  \n",
              "..       ...  \n",
              "894     11.3  \n",
              "895     13.4  \n",
              "896     11.8  \n",
              "897     10.5  \n",
              "898     10.2  \n",
              "\n",
              "[899 rows x 11 columns]"
            ],
            "text/html": [
              "\n",
              "  <div id=\"df-2a1ce6ef-76ad-4f17-ad01-7d3d8cef1f57\">\n",
              "    <div class=\"colab-df-container\">\n",
              "      <div>\n",
              "<style scoped>\n",
              "    .dataframe tbody tr th:only-of-type {\n",
              "        vertical-align: middle;\n",
              "    }\n",
              "\n",
              "    .dataframe tbody tr th {\n",
              "        vertical-align: top;\n",
              "    }\n",
              "\n",
              "    .dataframe thead th {\n",
              "        text-align: right;\n",
              "    }\n",
              "</style>\n",
              "<table border=\"1\" class=\"dataframe\">\n",
              "  <thead>\n",
              "    <tr style=\"text-align: right;\">\n",
              "      <th></th>\n",
              "      <th>fixed acidity</th>\n",
              "      <th>volatile acidity</th>\n",
              "      <th>citric acid</th>\n",
              "      <th>residual sugar</th>\n",
              "      <th>chlorides</th>\n",
              "      <th>free sulfur dioxide</th>\n",
              "      <th>total sulfur dioxide</th>\n",
              "      <th>density</th>\n",
              "      <th>pH</th>\n",
              "      <th>sulphates</th>\n",
              "      <th>alcohol</th>\n",
              "    </tr>\n",
              "  </thead>\n",
              "  <tbody>\n",
              "    <tr>\n",
              "      <th>0</th>\n",
              "      <td>8.7</td>\n",
              "      <td>0.780</td>\n",
              "      <td>0.51</td>\n",
              "      <td>1.7</td>\n",
              "      <td>0.415</td>\n",
              "      <td>12.0</td>\n",
              "      <td>66.0</td>\n",
              "      <td>0.99623</td>\n",
              "      <td>3.00</td>\n",
              "      <td>1.17</td>\n",
              "      <td>9.2</td>\n",
              "    </tr>\n",
              "    <tr>\n",
              "      <th>1</th>\n",
              "      <td>6.6</td>\n",
              "      <td>0.855</td>\n",
              "      <td>0.02</td>\n",
              "      <td>2.4</td>\n",
              "      <td>0.062</td>\n",
              "      <td>15.0</td>\n",
              "      <td>23.0</td>\n",
              "      <td>0.99627</td>\n",
              "      <td>3.54</td>\n",
              "      <td>0.60</td>\n",
              "      <td>11.0</td>\n",
              "    </tr>\n",
              "    <tr>\n",
              "      <th>2</th>\n",
              "      <td>7.0</td>\n",
              "      <td>0.690</td>\n",
              "      <td>0.08</td>\n",
              "      <td>1.8</td>\n",
              "      <td>0.097</td>\n",
              "      <td>22.0</td>\n",
              "      <td>89.0</td>\n",
              "      <td>0.99590</td>\n",
              "      <td>3.34</td>\n",
              "      <td>0.54</td>\n",
              "      <td>9.2</td>\n",
              "    </tr>\n",
              "    <tr>\n",
              "      <th>3</th>\n",
              "      <td>8.2</td>\n",
              "      <td>0.200</td>\n",
              "      <td>0.43</td>\n",
              "      <td>2.5</td>\n",
              "      <td>0.076</td>\n",
              "      <td>31.0</td>\n",
              "      <td>51.0</td>\n",
              "      <td>0.99672</td>\n",
              "      <td>3.53</td>\n",
              "      <td>0.81</td>\n",
              "      <td>10.4</td>\n",
              "    </tr>\n",
              "    <tr>\n",
              "      <th>4</th>\n",
              "      <td>15.5</td>\n",
              "      <td>0.645</td>\n",
              "      <td>0.49</td>\n",
              "      <td>4.2</td>\n",
              "      <td>0.095</td>\n",
              "      <td>10.0</td>\n",
              "      <td>23.0</td>\n",
              "      <td>1.00315</td>\n",
              "      <td>2.92</td>\n",
              "      <td>0.74</td>\n",
              "      <td>11.1</td>\n",
              "    </tr>\n",
              "    <tr>\n",
              "      <th>...</th>\n",
              "      <td>...</td>\n",
              "      <td>...</td>\n",
              "      <td>...</td>\n",
              "      <td>...</td>\n",
              "      <td>...</td>\n",
              "      <td>...</td>\n",
              "      <td>...</td>\n",
              "      <td>...</td>\n",
              "      <td>...</td>\n",
              "      <td>...</td>\n",
              "      <td>...</td>\n",
              "    </tr>\n",
              "    <tr>\n",
              "      <th>894</th>\n",
              "      <td>8.8</td>\n",
              "      <td>0.270</td>\n",
              "      <td>0.46</td>\n",
              "      <td>2.1</td>\n",
              "      <td>0.095</td>\n",
              "      <td>20.0</td>\n",
              "      <td>29.0</td>\n",
              "      <td>0.99488</td>\n",
              "      <td>3.26</td>\n",
              "      <td>0.56</td>\n",
              "      <td>11.3</td>\n",
              "    </tr>\n",
              "    <tr>\n",
              "      <th>895</th>\n",
              "      <td>11.3</td>\n",
              "      <td>0.620</td>\n",
              "      <td>0.67</td>\n",
              "      <td>5.2</td>\n",
              "      <td>0.086</td>\n",
              "      <td>6.0</td>\n",
              "      <td>19.0</td>\n",
              "      <td>0.99880</td>\n",
              "      <td>3.22</td>\n",
              "      <td>0.69</td>\n",
              "      <td>13.4</td>\n",
              "    </tr>\n",
              "    <tr>\n",
              "      <th>896</th>\n",
              "      <td>10.0</td>\n",
              "      <td>0.260</td>\n",
              "      <td>0.54</td>\n",
              "      <td>1.9</td>\n",
              "      <td>0.083</td>\n",
              "      <td>42.0</td>\n",
              "      <td>74.0</td>\n",
              "      <td>0.99451</td>\n",
              "      <td>2.98</td>\n",
              "      <td>0.63</td>\n",
              "      <td>11.8</td>\n",
              "    </tr>\n",
              "    <tr>\n",
              "      <th>897</th>\n",
              "      <td>8.0</td>\n",
              "      <td>1.180</td>\n",
              "      <td>0.21</td>\n",
              "      <td>1.9</td>\n",
              "      <td>0.083</td>\n",
              "      <td>14.0</td>\n",
              "      <td>41.0</td>\n",
              "      <td>0.99532</td>\n",
              "      <td>3.34</td>\n",
              "      <td>0.47</td>\n",
              "      <td>10.5</td>\n",
              "    </tr>\n",
              "    <tr>\n",
              "      <th>898</th>\n",
              "      <td>12.1</td>\n",
              "      <td>0.400</td>\n",
              "      <td>0.52</td>\n",
              "      <td>2.0</td>\n",
              "      <td>0.092</td>\n",
              "      <td>15.0</td>\n",
              "      <td>54.0</td>\n",
              "      <td>1.00000</td>\n",
              "      <td>3.03</td>\n",
              "      <td>0.66</td>\n",
              "      <td>10.2</td>\n",
              "    </tr>\n",
              "  </tbody>\n",
              "</table>\n",
              "<p>899 rows × 11 columns</p>\n",
              "</div>\n",
              "      <button class=\"colab-df-convert\" onclick=\"convertToInteractive('df-2a1ce6ef-76ad-4f17-ad01-7d3d8cef1f57')\"\n",
              "              title=\"Convert this dataframe to an interactive table.\"\n",
              "              style=\"display:none;\">\n",
              "        \n",
              "  <svg xmlns=\"http://www.w3.org/2000/svg\" height=\"24px\"viewBox=\"0 0 24 24\"\n",
              "       width=\"24px\">\n",
              "    <path d=\"M0 0h24v24H0V0z\" fill=\"none\"/>\n",
              "    <path d=\"M18.56 5.44l.94 2.06.94-2.06 2.06-.94-2.06-.94-.94-2.06-.94 2.06-2.06.94zm-11 1L8.5 8.5l.94-2.06 2.06-.94-2.06-.94L8.5 2.5l-.94 2.06-2.06.94zm10 10l.94 2.06.94-2.06 2.06-.94-2.06-.94-.94-2.06-.94 2.06-2.06.94z\"/><path d=\"M17.41 7.96l-1.37-1.37c-.4-.4-.92-.59-1.43-.59-.52 0-1.04.2-1.43.59L10.3 9.45l-7.72 7.72c-.78.78-.78 2.05 0 2.83L4 21.41c.39.39.9.59 1.41.59.51 0 1.02-.2 1.41-.59l7.78-7.78 2.81-2.81c.8-.78.8-2.07 0-2.86zM5.41 20L4 18.59l7.72-7.72 1.47 1.35L5.41 20z\"/>\n",
              "  </svg>\n",
              "      </button>\n",
              "      \n",
              "  <style>\n",
              "    .colab-df-container {\n",
              "      display:flex;\n",
              "      flex-wrap:wrap;\n",
              "      gap: 12px;\n",
              "    }\n",
              "\n",
              "    .colab-df-convert {\n",
              "      background-color: #E8F0FE;\n",
              "      border: none;\n",
              "      border-radius: 50%;\n",
              "      cursor: pointer;\n",
              "      display: none;\n",
              "      fill: #1967D2;\n",
              "      height: 32px;\n",
              "      padding: 0 0 0 0;\n",
              "      width: 32px;\n",
              "    }\n",
              "\n",
              "    .colab-df-convert:hover {\n",
              "      background-color: #E2EBFA;\n",
              "      box-shadow: 0px 1px 2px rgba(60, 64, 67, 0.3), 0px 1px 3px 1px rgba(60, 64, 67, 0.15);\n",
              "      fill: #174EA6;\n",
              "    }\n",
              "\n",
              "    [theme=dark] .colab-df-convert {\n",
              "      background-color: #3B4455;\n",
              "      fill: #D2E3FC;\n",
              "    }\n",
              "\n",
              "    [theme=dark] .colab-df-convert:hover {\n",
              "      background-color: #434B5C;\n",
              "      box-shadow: 0px 1px 3px 1px rgba(0, 0, 0, 0.15);\n",
              "      filter: drop-shadow(0px 1px 2px rgba(0, 0, 0, 0.3));\n",
              "      fill: #FFFFFF;\n",
              "    }\n",
              "  </style>\n",
              "\n",
              "      <script>\n",
              "        const buttonEl =\n",
              "          document.querySelector('#df-2a1ce6ef-76ad-4f17-ad01-7d3d8cef1f57 button.colab-df-convert');\n",
              "        buttonEl.style.display =\n",
              "          google.colab.kernel.accessAllowed ? 'block' : 'none';\n",
              "\n",
              "        async function convertToInteractive(key) {\n",
              "          const element = document.querySelector('#df-2a1ce6ef-76ad-4f17-ad01-7d3d8cef1f57');\n",
              "          const dataTable =\n",
              "            await google.colab.kernel.invokeFunction('convertToInteractive',\n",
              "                                                     [key], {});\n",
              "          if (!dataTable) return;\n",
              "\n",
              "          const docLinkHtml = 'Like what you see? Visit the ' +\n",
              "            '<a target=\"_blank\" href=https://colab.research.google.com/notebooks/data_table.ipynb>data table notebook</a>'\n",
              "            + ' to learn more about interactive tables.';\n",
              "          element.innerHTML = '';\n",
              "          dataTable['output_type'] = 'display_data';\n",
              "          await google.colab.output.renderOutput(dataTable, element);\n",
              "          const docLink = document.createElement('div');\n",
              "          docLink.innerHTML = docLinkHtml;\n",
              "          element.appendChild(docLink);\n",
              "        }\n",
              "      </script>\n",
              "    </div>\n",
              "  </div>\n",
              "  "
            ]
          },
          "metadata": {}
        },
        {
          "output_type": "display_data",
          "data": {
            "text/plain": [
              "     fixed acidity  volatile acidity  citric acid  residual sugar  chlorides  \\\n",
              "0              5.2             0.340         0.00             1.8      0.050   \n",
              "1              6.9             0.630         0.01             2.4      0.076   \n",
              "2              7.7             0.965         0.10             2.1      0.112   \n",
              "3              7.5             0.710         0.00             1.6      0.092   \n",
              "4             14.0             0.410         0.63             3.8      0.089   \n",
              "..             ...               ...          ...             ...        ...   \n",
              "295            7.0             0.570         0.02             2.0      0.072   \n",
              "296            7.5             1.115         0.10             3.1      0.086   \n",
              "297           12.4             0.400         0.51             2.0      0.059   \n",
              "298            7.5             0.510         0.02             1.7      0.084   \n",
              "299            7.8             0.645         0.00             2.0      0.082   \n",
              "\n",
              "     free sulfur dioxide  total sulfur dioxide  density    pH  sulphates  \\\n",
              "0                   27.0                  63.0  0.99160  3.68       0.79   \n",
              "1                   14.0                  39.0  0.99522  3.34       0.53   \n",
              "2                   11.0                  22.0  0.99630  3.26       0.50   \n",
              "3                   22.0                  31.0  0.99635  3.38       0.58   \n",
              "4                    6.0                  47.0  1.00140  3.01       0.81   \n",
              "..                   ...                   ...      ...   ...        ...   \n",
              "295                 17.0                  26.0  0.99575  3.36       0.61   \n",
              "296                  5.0                  12.0  0.99580  3.54       0.60   \n",
              "297                  6.0                  24.0  0.99940  3.04       0.60   \n",
              "298                 13.0                  31.0  0.99538  3.36       0.54   \n",
              "299                  8.0                  16.0  0.99640  3.38       0.59   \n",
              "\n",
              "     alcohol  \n",
              "0       14.0  \n",
              "1       10.8  \n",
              "2        9.5  \n",
              "3       10.0  \n",
              "4       10.8  \n",
              "..       ...  \n",
              "295     10.2  \n",
              "296     11.2  \n",
              "297      9.3  \n",
              "298     10.5  \n",
              "299      9.8  \n",
              "\n",
              "[300 rows x 11 columns]"
            ],
            "text/html": [
              "\n",
              "  <div id=\"df-c70209ef-4871-4ec7-b7d0-11a35ebd37e1\">\n",
              "    <div class=\"colab-df-container\">\n",
              "      <div>\n",
              "<style scoped>\n",
              "    .dataframe tbody tr th:only-of-type {\n",
              "        vertical-align: middle;\n",
              "    }\n",
              "\n",
              "    .dataframe tbody tr th {\n",
              "        vertical-align: top;\n",
              "    }\n",
              "\n",
              "    .dataframe thead th {\n",
              "        text-align: right;\n",
              "    }\n",
              "</style>\n",
              "<table border=\"1\" class=\"dataframe\">\n",
              "  <thead>\n",
              "    <tr style=\"text-align: right;\">\n",
              "      <th></th>\n",
              "      <th>fixed acidity</th>\n",
              "      <th>volatile acidity</th>\n",
              "      <th>citric acid</th>\n",
              "      <th>residual sugar</th>\n",
              "      <th>chlorides</th>\n",
              "      <th>free sulfur dioxide</th>\n",
              "      <th>total sulfur dioxide</th>\n",
              "      <th>density</th>\n",
              "      <th>pH</th>\n",
              "      <th>sulphates</th>\n",
              "      <th>alcohol</th>\n",
              "    </tr>\n",
              "  </thead>\n",
              "  <tbody>\n",
              "    <tr>\n",
              "      <th>0</th>\n",
              "      <td>5.2</td>\n",
              "      <td>0.340</td>\n",
              "      <td>0.00</td>\n",
              "      <td>1.8</td>\n",
              "      <td>0.050</td>\n",
              "      <td>27.0</td>\n",
              "      <td>63.0</td>\n",
              "      <td>0.99160</td>\n",
              "      <td>3.68</td>\n",
              "      <td>0.79</td>\n",
              "      <td>14.0</td>\n",
              "    </tr>\n",
              "    <tr>\n",
              "      <th>1</th>\n",
              "      <td>6.9</td>\n",
              "      <td>0.630</td>\n",
              "      <td>0.01</td>\n",
              "      <td>2.4</td>\n",
              "      <td>0.076</td>\n",
              "      <td>14.0</td>\n",
              "      <td>39.0</td>\n",
              "      <td>0.99522</td>\n",
              "      <td>3.34</td>\n",
              "      <td>0.53</td>\n",
              "      <td>10.8</td>\n",
              "    </tr>\n",
              "    <tr>\n",
              "      <th>2</th>\n",
              "      <td>7.7</td>\n",
              "      <td>0.965</td>\n",
              "      <td>0.10</td>\n",
              "      <td>2.1</td>\n",
              "      <td>0.112</td>\n",
              "      <td>11.0</td>\n",
              "      <td>22.0</td>\n",
              "      <td>0.99630</td>\n",
              "      <td>3.26</td>\n",
              "      <td>0.50</td>\n",
              "      <td>9.5</td>\n",
              "    </tr>\n",
              "    <tr>\n",
              "      <th>3</th>\n",
              "      <td>7.5</td>\n",
              "      <td>0.710</td>\n",
              "      <td>0.00</td>\n",
              "      <td>1.6</td>\n",
              "      <td>0.092</td>\n",
              "      <td>22.0</td>\n",
              "      <td>31.0</td>\n",
              "      <td>0.99635</td>\n",
              "      <td>3.38</td>\n",
              "      <td>0.58</td>\n",
              "      <td>10.0</td>\n",
              "    </tr>\n",
              "    <tr>\n",
              "      <th>4</th>\n",
              "      <td>14.0</td>\n",
              "      <td>0.410</td>\n",
              "      <td>0.63</td>\n",
              "      <td>3.8</td>\n",
              "      <td>0.089</td>\n",
              "      <td>6.0</td>\n",
              "      <td>47.0</td>\n",
              "      <td>1.00140</td>\n",
              "      <td>3.01</td>\n",
              "      <td>0.81</td>\n",
              "      <td>10.8</td>\n",
              "    </tr>\n",
              "    <tr>\n",
              "      <th>...</th>\n",
              "      <td>...</td>\n",
              "      <td>...</td>\n",
              "      <td>...</td>\n",
              "      <td>...</td>\n",
              "      <td>...</td>\n",
              "      <td>...</td>\n",
              "      <td>...</td>\n",
              "      <td>...</td>\n",
              "      <td>...</td>\n",
              "      <td>...</td>\n",
              "      <td>...</td>\n",
              "    </tr>\n",
              "    <tr>\n",
              "      <th>295</th>\n",
              "      <td>7.0</td>\n",
              "      <td>0.570</td>\n",
              "      <td>0.02</td>\n",
              "      <td>2.0</td>\n",
              "      <td>0.072</td>\n",
              "      <td>17.0</td>\n",
              "      <td>26.0</td>\n",
              "      <td>0.99575</td>\n",
              "      <td>3.36</td>\n",
              "      <td>0.61</td>\n",
              "      <td>10.2</td>\n",
              "    </tr>\n",
              "    <tr>\n",
              "      <th>296</th>\n",
              "      <td>7.5</td>\n",
              "      <td>1.115</td>\n",
              "      <td>0.10</td>\n",
              "      <td>3.1</td>\n",
              "      <td>0.086</td>\n",
              "      <td>5.0</td>\n",
              "      <td>12.0</td>\n",
              "      <td>0.99580</td>\n",
              "      <td>3.54</td>\n",
              "      <td>0.60</td>\n",
              "      <td>11.2</td>\n",
              "    </tr>\n",
              "    <tr>\n",
              "      <th>297</th>\n",
              "      <td>12.4</td>\n",
              "      <td>0.400</td>\n",
              "      <td>0.51</td>\n",
              "      <td>2.0</td>\n",
              "      <td>0.059</td>\n",
              "      <td>6.0</td>\n",
              "      <td>24.0</td>\n",
              "      <td>0.99940</td>\n",
              "      <td>3.04</td>\n",
              "      <td>0.60</td>\n",
              "      <td>9.3</td>\n",
              "    </tr>\n",
              "    <tr>\n",
              "      <th>298</th>\n",
              "      <td>7.5</td>\n",
              "      <td>0.510</td>\n",
              "      <td>0.02</td>\n",
              "      <td>1.7</td>\n",
              "      <td>0.084</td>\n",
              "      <td>13.0</td>\n",
              "      <td>31.0</td>\n",
              "      <td>0.99538</td>\n",
              "      <td>3.36</td>\n",
              "      <td>0.54</td>\n",
              "      <td>10.5</td>\n",
              "    </tr>\n",
              "    <tr>\n",
              "      <th>299</th>\n",
              "      <td>7.8</td>\n",
              "      <td>0.645</td>\n",
              "      <td>0.00</td>\n",
              "      <td>2.0</td>\n",
              "      <td>0.082</td>\n",
              "      <td>8.0</td>\n",
              "      <td>16.0</td>\n",
              "      <td>0.99640</td>\n",
              "      <td>3.38</td>\n",
              "      <td>0.59</td>\n",
              "      <td>9.8</td>\n",
              "    </tr>\n",
              "  </tbody>\n",
              "</table>\n",
              "<p>300 rows × 11 columns</p>\n",
              "</div>\n",
              "      <button class=\"colab-df-convert\" onclick=\"convertToInteractive('df-c70209ef-4871-4ec7-b7d0-11a35ebd37e1')\"\n",
              "              title=\"Convert this dataframe to an interactive table.\"\n",
              "              style=\"display:none;\">\n",
              "        \n",
              "  <svg xmlns=\"http://www.w3.org/2000/svg\" height=\"24px\"viewBox=\"0 0 24 24\"\n",
              "       width=\"24px\">\n",
              "    <path d=\"M0 0h24v24H0V0z\" fill=\"none\"/>\n",
              "    <path d=\"M18.56 5.44l.94 2.06.94-2.06 2.06-.94-2.06-.94-.94-2.06-.94 2.06-2.06.94zm-11 1L8.5 8.5l.94-2.06 2.06-.94-2.06-.94L8.5 2.5l-.94 2.06-2.06.94zm10 10l.94 2.06.94-2.06 2.06-.94-2.06-.94-.94-2.06-.94 2.06-2.06.94z\"/><path d=\"M17.41 7.96l-1.37-1.37c-.4-.4-.92-.59-1.43-.59-.52 0-1.04.2-1.43.59L10.3 9.45l-7.72 7.72c-.78.78-.78 2.05 0 2.83L4 21.41c.39.39.9.59 1.41.59.51 0 1.02-.2 1.41-.59l7.78-7.78 2.81-2.81c.8-.78.8-2.07 0-2.86zM5.41 20L4 18.59l7.72-7.72 1.47 1.35L5.41 20z\"/>\n",
              "  </svg>\n",
              "      </button>\n",
              "      \n",
              "  <style>\n",
              "    .colab-df-container {\n",
              "      display:flex;\n",
              "      flex-wrap:wrap;\n",
              "      gap: 12px;\n",
              "    }\n",
              "\n",
              "    .colab-df-convert {\n",
              "      background-color: #E8F0FE;\n",
              "      border: none;\n",
              "      border-radius: 50%;\n",
              "      cursor: pointer;\n",
              "      display: none;\n",
              "      fill: #1967D2;\n",
              "      height: 32px;\n",
              "      padding: 0 0 0 0;\n",
              "      width: 32px;\n",
              "    }\n",
              "\n",
              "    .colab-df-convert:hover {\n",
              "      background-color: #E2EBFA;\n",
              "      box-shadow: 0px 1px 2px rgba(60, 64, 67, 0.3), 0px 1px 3px 1px rgba(60, 64, 67, 0.15);\n",
              "      fill: #174EA6;\n",
              "    }\n",
              "\n",
              "    [theme=dark] .colab-df-convert {\n",
              "      background-color: #3B4455;\n",
              "      fill: #D2E3FC;\n",
              "    }\n",
              "\n",
              "    [theme=dark] .colab-df-convert:hover {\n",
              "      background-color: #434B5C;\n",
              "      box-shadow: 0px 1px 3px 1px rgba(0, 0, 0, 0.15);\n",
              "      filter: drop-shadow(0px 1px 2px rgba(0, 0, 0, 0.3));\n",
              "      fill: #FFFFFF;\n",
              "    }\n",
              "  </style>\n",
              "\n",
              "      <script>\n",
              "        const buttonEl =\n",
              "          document.querySelector('#df-c70209ef-4871-4ec7-b7d0-11a35ebd37e1 button.colab-df-convert');\n",
              "        buttonEl.style.display =\n",
              "          google.colab.kernel.accessAllowed ? 'block' : 'none';\n",
              "\n",
              "        async function convertToInteractive(key) {\n",
              "          const element = document.querySelector('#df-c70209ef-4871-4ec7-b7d0-11a35ebd37e1');\n",
              "          const dataTable =\n",
              "            await google.colab.kernel.invokeFunction('convertToInteractive',\n",
              "                                                     [key], {});\n",
              "          if (!dataTable) return;\n",
              "\n",
              "          const docLinkHtml = 'Like what you see? Visit the ' +\n",
              "            '<a target=\"_blank\" href=https://colab.research.google.com/notebooks/data_table.ipynb>data table notebook</a>'\n",
              "            + ' to learn more about interactive tables.';\n",
              "          element.innerHTML = '';\n",
              "          dataTable['output_type'] = 'display_data';\n",
              "          await google.colab.output.renderOutput(dataTable, element);\n",
              "          const docLink = document.createElement('div');\n",
              "          docLink.innerHTML = docLinkHtml;\n",
              "          element.appendChild(docLink);\n",
              "        }\n",
              "      </script>\n",
              "    </div>\n",
              "  </div>\n",
              "  "
            ]
          },
          "metadata": {}
        }
      ],
      "source": [
        "display(xtrain, xval)"
      ]
    },
    {
      "cell_type": "markdown",
      "metadata": {
        "id": "NpQMf8AabQSF"
      },
      "source": [
        "## Instantiate the Model\n",
        "We have 4 model that can be our baseline, we'll instantiate and finetune them and see which one is the best."
      ]
    },
    {
      "cell_type": "markdown",
      "metadata": {
        "id": "nPWVCwKYl74G"
      },
      "source": [
        "etc = Extra Tree Classifier <br>\n",
        "etr = Extra Tree Regressor <br>\n",
        "dtc = Decision Tree Classifier <br>\n",
        "dtr = Decision Tree Regressor <br>\n",
        "\n",
        "etsc = Extra Trees Classifier <br>\n",
        "etsr = Extra Trees Regressor <br>\n",
        "rfc = Random Forest Classifier <br>\n",
        "rfr = Random Forest Regressor <br>"
      ]
    },
    {
      "cell_type": "markdown",
      "metadata": {
        "id": "mPKBhfwQmc6e"
      },
      "source": [
        "## Fine-tune the model\n",
        "We'll be using the Grid Search CV to finetune the model. Grid Search CV will try every possible combination that the user gives."
      ]
    },
    {
      "cell_type": "code",
      "execution_count": 39,
      "metadata": {
        "colab": {
          "base_uri": "https://localhost:8080/",
          "height": 300
        },
        "id": "VfwdTRiqZtFU",
        "outputId": "a458941c-4df9-4472-c1c8-bccf2172d787"
      },
      "outputs": [
        {
          "output_type": "execute_result",
          "data": {
            "text/plain": [
              "     mae_validation corr_validation mae_test corr_test\n",
              "ETC             NaN             NaN      NaN       NaN\n",
              "ETR             NaN             NaN      NaN       NaN\n",
              "DTC             NaN             NaN      NaN       NaN\n",
              "DTR             NaN             NaN      NaN       NaN\n",
              "ETSC            NaN             NaN      NaN       NaN\n",
              "ETSR            NaN             NaN      NaN       NaN\n",
              "RFC             NaN             NaN      NaN       NaN\n",
              "RFR             NaN             NaN      NaN       NaN"
            ],
            "text/html": [
              "\n",
              "  <div id=\"df-fc4837a3-60dd-4999-b7a9-f2d0b5c067a8\">\n",
              "    <div class=\"colab-df-container\">\n",
              "      <div>\n",
              "<style scoped>\n",
              "    .dataframe tbody tr th:only-of-type {\n",
              "        vertical-align: middle;\n",
              "    }\n",
              "\n",
              "    .dataframe tbody tr th {\n",
              "        vertical-align: top;\n",
              "    }\n",
              "\n",
              "    .dataframe thead th {\n",
              "        text-align: right;\n",
              "    }\n",
              "</style>\n",
              "<table border=\"1\" class=\"dataframe\">\n",
              "  <thead>\n",
              "    <tr style=\"text-align: right;\">\n",
              "      <th></th>\n",
              "      <th>mae_validation</th>\n",
              "      <th>corr_validation</th>\n",
              "      <th>mae_test</th>\n",
              "      <th>corr_test</th>\n",
              "    </tr>\n",
              "  </thead>\n",
              "  <tbody>\n",
              "    <tr>\n",
              "      <th>ETC</th>\n",
              "      <td>NaN</td>\n",
              "      <td>NaN</td>\n",
              "      <td>NaN</td>\n",
              "      <td>NaN</td>\n",
              "    </tr>\n",
              "    <tr>\n",
              "      <th>ETR</th>\n",
              "      <td>NaN</td>\n",
              "      <td>NaN</td>\n",
              "      <td>NaN</td>\n",
              "      <td>NaN</td>\n",
              "    </tr>\n",
              "    <tr>\n",
              "      <th>DTC</th>\n",
              "      <td>NaN</td>\n",
              "      <td>NaN</td>\n",
              "      <td>NaN</td>\n",
              "      <td>NaN</td>\n",
              "    </tr>\n",
              "    <tr>\n",
              "      <th>DTR</th>\n",
              "      <td>NaN</td>\n",
              "      <td>NaN</td>\n",
              "      <td>NaN</td>\n",
              "      <td>NaN</td>\n",
              "    </tr>\n",
              "    <tr>\n",
              "      <th>ETSC</th>\n",
              "      <td>NaN</td>\n",
              "      <td>NaN</td>\n",
              "      <td>NaN</td>\n",
              "      <td>NaN</td>\n",
              "    </tr>\n",
              "    <tr>\n",
              "      <th>ETSR</th>\n",
              "      <td>NaN</td>\n",
              "      <td>NaN</td>\n",
              "      <td>NaN</td>\n",
              "      <td>NaN</td>\n",
              "    </tr>\n",
              "    <tr>\n",
              "      <th>RFC</th>\n",
              "      <td>NaN</td>\n",
              "      <td>NaN</td>\n",
              "      <td>NaN</td>\n",
              "      <td>NaN</td>\n",
              "    </tr>\n",
              "    <tr>\n",
              "      <th>RFR</th>\n",
              "      <td>NaN</td>\n",
              "      <td>NaN</td>\n",
              "      <td>NaN</td>\n",
              "      <td>NaN</td>\n",
              "    </tr>\n",
              "  </tbody>\n",
              "</table>\n",
              "</div>\n",
              "      <button class=\"colab-df-convert\" onclick=\"convertToInteractive('df-fc4837a3-60dd-4999-b7a9-f2d0b5c067a8')\"\n",
              "              title=\"Convert this dataframe to an interactive table.\"\n",
              "              style=\"display:none;\">\n",
              "        \n",
              "  <svg xmlns=\"http://www.w3.org/2000/svg\" height=\"24px\"viewBox=\"0 0 24 24\"\n",
              "       width=\"24px\">\n",
              "    <path d=\"M0 0h24v24H0V0z\" fill=\"none\"/>\n",
              "    <path d=\"M18.56 5.44l.94 2.06.94-2.06 2.06-.94-2.06-.94-.94-2.06-.94 2.06-2.06.94zm-11 1L8.5 8.5l.94-2.06 2.06-.94-2.06-.94L8.5 2.5l-.94 2.06-2.06.94zm10 10l.94 2.06.94-2.06 2.06-.94-2.06-.94-.94-2.06-.94 2.06-2.06.94z\"/><path d=\"M17.41 7.96l-1.37-1.37c-.4-.4-.92-.59-1.43-.59-.52 0-1.04.2-1.43.59L10.3 9.45l-7.72 7.72c-.78.78-.78 2.05 0 2.83L4 21.41c.39.39.9.59 1.41.59.51 0 1.02-.2 1.41-.59l7.78-7.78 2.81-2.81c.8-.78.8-2.07 0-2.86zM5.41 20L4 18.59l7.72-7.72 1.47 1.35L5.41 20z\"/>\n",
              "  </svg>\n",
              "      </button>\n",
              "      \n",
              "  <style>\n",
              "    .colab-df-container {\n",
              "      display:flex;\n",
              "      flex-wrap:wrap;\n",
              "      gap: 12px;\n",
              "    }\n",
              "\n",
              "    .colab-df-convert {\n",
              "      background-color: #E8F0FE;\n",
              "      border: none;\n",
              "      border-radius: 50%;\n",
              "      cursor: pointer;\n",
              "      display: none;\n",
              "      fill: #1967D2;\n",
              "      height: 32px;\n",
              "      padding: 0 0 0 0;\n",
              "      width: 32px;\n",
              "    }\n",
              "\n",
              "    .colab-df-convert:hover {\n",
              "      background-color: #E2EBFA;\n",
              "      box-shadow: 0px 1px 2px rgba(60, 64, 67, 0.3), 0px 1px 3px 1px rgba(60, 64, 67, 0.15);\n",
              "      fill: #174EA6;\n",
              "    }\n",
              "\n",
              "    [theme=dark] .colab-df-convert {\n",
              "      background-color: #3B4455;\n",
              "      fill: #D2E3FC;\n",
              "    }\n",
              "\n",
              "    [theme=dark] .colab-df-convert:hover {\n",
              "      background-color: #434B5C;\n",
              "      box-shadow: 0px 1px 3px 1px rgba(0, 0, 0, 0.15);\n",
              "      filter: drop-shadow(0px 1px 2px rgba(0, 0, 0, 0.3));\n",
              "      fill: #FFFFFF;\n",
              "    }\n",
              "  </style>\n",
              "\n",
              "      <script>\n",
              "        const buttonEl =\n",
              "          document.querySelector('#df-fc4837a3-60dd-4999-b7a9-f2d0b5c067a8 button.colab-df-convert');\n",
              "        buttonEl.style.display =\n",
              "          google.colab.kernel.accessAllowed ? 'block' : 'none';\n",
              "\n",
              "        async function convertToInteractive(key) {\n",
              "          const element = document.querySelector('#df-fc4837a3-60dd-4999-b7a9-f2d0b5c067a8');\n",
              "          const dataTable =\n",
              "            await google.colab.kernel.invokeFunction('convertToInteractive',\n",
              "                                                     [key], {});\n",
              "          if (!dataTable) return;\n",
              "\n",
              "          const docLinkHtml = 'Like what you see? Visit the ' +\n",
              "            '<a target=\"_blank\" href=https://colab.research.google.com/notebooks/data_table.ipynb>data table notebook</a>'\n",
              "            + ' to learn more about interactive tables.';\n",
              "          element.innerHTML = '';\n",
              "          dataTable['output_type'] = 'display_data';\n",
              "          await google.colab.output.renderOutput(dataTable, element);\n",
              "          const docLink = document.createElement('div');\n",
              "          docLink.innerHTML = docLinkHtml;\n",
              "          element.appendChild(docLink);\n",
              "        }\n",
              "      </script>\n",
              "    </div>\n",
              "  </div>\n",
              "  "
            ]
          },
          "metadata": {},
          "execution_count": 39
        }
      ],
      "source": [
        "scoring = pd.DataFrame(\n",
        "    index = ['ETC', 'ETR', 'DTC', 'DTR', 'ETSC', 'ETSR', 'RFC', 'RFR'],\n",
        "    columns = ['mae_validation', 'corr_validation', 'mae_test', 'corr_test']\n",
        ")\n",
        "scoring"
      ]
    },
    {
      "cell_type": "markdown",
      "metadata": {
        "id": "2gSGCUih1-2a"
      },
      "source": [
        "### Extra Tree Classifier"
      ]
    },
    {
      "cell_type": "code",
      "execution_count": 40,
      "metadata": {
        "colab": {
          "base_uri": "https://localhost:8080/"
        },
        "id": "hC2wp_-Edix5",
        "outputId": "b33820bf-2d4f-4e2b-9761-e5517683b1bf"
      },
      "outputs": [
        {
          "output_type": "stream",
          "name": "stdout",
          "text": [
            "Fitting 5 folds for each of 120 candidates, totalling 600 fits\n"
          ]
        },
        {
          "output_type": "execute_result",
          "data": {
            "text/plain": [
              "{'criterion': 'gini',\n",
              " 'max_depth': 5,\n",
              " 'max_features': 'auto',\n",
              " 'splitter': 'best'}"
            ]
          },
          "metadata": {},
          "execution_count": 40
        }
      ],
      "source": [
        "etc_param = {\n",
        "    'criterion' : ['gini', 'entropy'],\n",
        "    'splitter' : ['best', 'random'],\n",
        "    'max_depth' : [None, 1, 2, 3, 4, 5, 6, 7, 8, 9],\n",
        "    'max_features' : ['auto', 'sqrt', 'log2'],\n",
        "}\n",
        "etc = ExtraTreeClassifier(random_state = 0)\n",
        "cv_etc = GridSearchCV(\n",
        "    etc, etc_param, n_jobs = -1, cv = 5, verbose = 2, scoring = 'neg_mean_absolute_error'\n",
        ")\n",
        "cv_etc.fit(train, y)\n",
        "cv_etc.best_params_"
      ]
    },
    {
      "cell_type": "code",
      "execution_count": 41,
      "metadata": {
        "id": "cespfnGk3Q9J"
      },
      "outputs": [],
      "source": [
        "etc_best_params = cv_etc.best_params_"
      ]
    },
    {
      "cell_type": "code",
      "execution_count": 42,
      "metadata": {
        "colab": {
          "base_uri": "https://localhost:8080/"
        },
        "id": "JqjpZ7r_tCOV",
        "outputId": "64dd7fb1-d5c5-4a61-fc95-11a5ee511445"
      },
      "outputs": [
        {
          "output_type": "execute_result",
          "data": {
            "text/plain": [
              "array([8, 6, 5, 5, 6, 5, 6, 6, 5, 6, 5, 6, 5, 5, 5, 5, 6, 6, 5, 6, 6, 6,\n",
              "       6, 5, 6, 5, 5, 5, 5, 5, 5, 5, 6, 6, 7, 6, 5, 5, 5, 5, 5, 6, 5, 5,\n",
              "       5, 5, 5, 5, 6, 6, 5, 5, 5, 6, 5, 5, 5, 5, 5, 5, 6, 6, 6, 6, 6, 5,\n",
              "       6, 5, 6, 5, 5, 5, 6, 7, 6, 6, 5, 6, 5, 6, 5, 6, 5, 5, 5, 5, 6, 6,\n",
              "       6, 6, 5, 6, 5, 6, 5, 5, 5, 5, 6, 6, 5, 5, 6, 5, 6, 5, 6, 5, 5, 6,\n",
              "       5, 6, 6, 5, 6, 5, 6, 6, 5, 5, 6, 6, 6, 6, 6, 5, 5, 6, 5, 6, 6, 6,\n",
              "       5, 6, 6, 5, 6, 6, 5, 5, 5, 5, 5, 5, 6, 5, 6, 6, 5, 6, 5, 6, 5, 6,\n",
              "       5, 6, 5, 6, 6, 5, 5, 6, 5, 6, 6, 6, 6, 6, 7, 7, 5, 5, 5, 5, 6, 5,\n",
              "       5, 5, 5, 6, 5, 5, 5, 5, 5, 5, 5, 6, 6, 7, 5, 7, 6, 5, 5, 6, 6, 6,\n",
              "       5, 6, 6, 6, 5, 5, 5, 5, 6, 5, 5, 5, 6, 5, 5, 5, 5, 6, 5, 6, 5, 6,\n",
              "       5, 5, 5, 6, 5, 5, 6, 6, 6, 6, 6, 5, 6, 5, 5, 5, 5, 5, 5, 5, 6, 5,\n",
              "       5, 5, 6, 5, 5, 6, 5, 5, 6, 5, 5, 5, 6, 5, 6, 5, 6, 5, 6, 6, 5, 5,\n",
              "       6, 5, 5, 5, 5, 5, 6, 6, 6, 6, 7, 6, 5, 5, 6, 5, 6, 6, 5, 6, 5, 6,\n",
              "       5, 5, 7, 5, 5, 6, 5, 6, 5, 5, 5, 5, 5, 5])"
            ]
          },
          "metadata": {},
          "execution_count": 42
        }
      ],
      "source": [
        "etc = ExtraTreeClassifier(\n",
        "    random_state = 0,\n",
        "    **etc_best_params,\n",
        ")\n",
        "etc.fit(xtrain, ytrain)\n",
        "yhat = etc.predict(xval)\n",
        "yhat"
      ]
    },
    {
      "cell_type": "code",
      "execution_count": 43,
      "metadata": {
        "colab": {
          "base_uri": "https://localhost:8080/"
        },
        "id": "qZiMzxVs4oPP",
        "outputId": "b39935be-f097-4473-e76f-d2a0bd1f9b63"
      },
      "outputs": [
        {
          "output_type": "stream",
          "name": "stdout",
          "text": [
            "Mean Absolute Error : 0.5133333333333333\n"
          ]
        }
      ],
      "source": [
        "mae_error = mean_absolute_error(yval, yhat)\n",
        "print(f'Mean Absolute Error : {mae_error}')"
      ]
    },
    {
      "cell_type": "markdown",
      "metadata": {
        "id": "-c-ERDpkAHhV"
      },
      "source": [
        "So, our Extra Tree Classifier algorithm's prediction scored Mean Absolute Error = 0.47 <br>\n",
        "This means that overall all of our prediction is 0.47 off from its true value."
      ]
    },
    {
      "cell_type": "code",
      "execution_count": 44,
      "metadata": {
        "colab": {
          "base_uri": "https://localhost:8080/"
        },
        "id": "2a_LZShYTgoj",
        "outputId": "ad454dc9-d474-4c8e-93c6-64e1ace8908e"
      },
      "outputs": [
        {
          "output_type": "stream",
          "name": "stdout",
          "text": [
            "Correlation between Predicted and Actual values : 0.4546757395762022\n"
          ]
        }
      ],
      "source": [
        "corr = np.corrcoef(yval, yhat)[0, 1]\n",
        "print(f'Correlation between Predicted and Actual values : {corr}')"
      ]
    },
    {
      "cell_type": "code",
      "execution_count": 45,
      "metadata": {
        "id": "iQCe7BnJbAQi"
      },
      "outputs": [],
      "source": [
        "scoring.loc['ETC', ['mae_validation', 'corr_validation']] = [mae_error, corr]"
      ]
    },
    {
      "cell_type": "markdown",
      "metadata": {
        "id": "cHSSGASwTrXx"
      },
      "source": [
        "Also, our predicted value has 0.454 correlation with the actual value."
      ]
    },
    {
      "cell_type": "markdown",
      "metadata": {
        "id": "81yDvkmsA7h9"
      },
      "source": [
        "### Extra Tree Regressor"
      ]
    },
    {
      "cell_type": "code",
      "execution_count": 46,
      "metadata": {
        "colab": {
          "base_uri": "https://localhost:8080/"
        },
        "id": "JwaFGjnMA-kf",
        "outputId": "acace98f-c8e9-41b3-a6e0-bddf1acfffb0"
      },
      "outputs": [
        {
          "output_type": "stream",
          "name": "stdout",
          "text": [
            "Fitting 5 folds for each of 240 candidates, totalling 1200 fits\n"
          ]
        },
        {
          "output_type": "execute_result",
          "data": {
            "text/plain": [
              "{'criterion': 'absolute_error',\n",
              " 'max_depth': 7,\n",
              " 'max_features': 'auto',\n",
              " 'splitter': 'best'}"
            ]
          },
          "metadata": {},
          "execution_count": 46
        }
      ],
      "source": [
        "etr_param = {\n",
        "    'criterion' : ['squared_error', 'friedman_mse', 'absolute_error', 'poisson'],\n",
        "    'splitter' : ['best', 'random'],\n",
        "    'max_depth' : [None, 1, 2, 3, 4, 5, 6, 7, 8, 9],\n",
        "    'max_features' : ['auto', 'sqrt', 'log2'],\n",
        "}\n",
        "etr = ExtraTreeRegressor(random_state = 0)\n",
        "cv_etr = GridSearchCV(\n",
        "    etr, etr_param, n_jobs = -1, cv = 5, verbose = 2, scoring = 'neg_mean_absolute_error'\n",
        ")\n",
        "cv_etr.fit(train, y)\n",
        "cv_etr.best_params_"
      ]
    },
    {
      "cell_type": "code",
      "execution_count": 47,
      "metadata": {
        "id": "iW_CXzxaDWgu"
      },
      "outputs": [],
      "source": [
        "etr_best_params = cv_etr.best_params_"
      ]
    },
    {
      "cell_type": "code",
      "execution_count": 48,
      "metadata": {
        "id": "MqXx4Li5DaPr",
        "colab": {
          "base_uri": "https://localhost:8080/"
        },
        "outputId": "501fb65c-7f0d-4eb8-be81-f20a7670e12e"
      },
      "outputs": [
        {
          "output_type": "execute_result",
          "data": {
            "text/plain": [
              "array([7, 6, 5, 5, 6, 6, 4, 6, 5, 7, 5, 6, 5, 3, 5, 5, 6, 5, 6, 5, 5, 6,\n",
              "       6, 3, 7, 6, 3, 5, 5, 5, 5, 5, 6, 6, 6, 6, 5, 5, 5, 6, 5, 6, 5, 4,\n",
              "       5, 5, 5, 5, 6, 6, 5, 5, 5, 5, 5, 5, 5, 5, 6, 5, 5, 7, 6, 6, 6, 5,\n",
              "       6, 5, 5, 5, 5, 6, 6, 6, 5, 5, 5, 6, 5, 6, 5, 5, 5, 3, 5, 6, 6, 6,\n",
              "       6, 6, 6, 6, 5, 6, 6, 6, 5, 6, 6, 5, 5, 6, 6, 5, 6, 5, 6, 6, 6, 6,\n",
              "       5, 6, 6, 5, 6, 5, 6, 6, 6, 5, 6, 6, 6, 6, 6, 5, 5, 7, 5, 6, 6, 6,\n",
              "       4, 6, 6, 6, 6, 5, 6, 6, 6, 6, 5, 6, 6, 5, 6, 6, 5, 5, 5, 6, 6, 6,\n",
              "       5, 6, 5, 6, 6, 5, 5, 6, 5, 6, 6, 5, 6, 6, 6, 7, 5, 6, 5, 6, 6, 5,\n",
              "       6, 6, 5, 6, 5, 5, 6, 5, 6, 6, 6, 6, 6, 6, 5, 6, 5, 5, 5, 6, 6, 5,\n",
              "       6, 6, 5, 6, 5, 5, 5, 6, 5, 5, 6, 6, 6, 6, 5, 6, 6, 6, 5, 6, 5, 5,\n",
              "       5, 5, 5, 6, 5, 6, 6, 6, 6, 6, 7, 5, 6, 5, 5, 5, 5, 6, 5, 5, 5, 5,\n",
              "       5, 6, 6, 5, 6, 6, 5, 6, 6, 5, 6, 5, 6, 6, 6, 5, 6, 5, 6, 6, 5, 6,\n",
              "       6, 5, 6, 6, 5, 5, 6, 5, 5, 6, 5, 6, 5, 5, 6, 5, 6, 7, 5, 6, 6, 6,\n",
              "       5, 6, 6, 5, 5, 6, 5, 6, 5, 6, 3, 6, 6, 5])"
            ]
          },
          "metadata": {},
          "execution_count": 48
        }
      ],
      "source": [
        "etr = ExtraTreeRegressor(\n",
        "    random_state = 0,\n",
        "    **etr_best_params,\n",
        ")\n",
        "etr.fit(xtrain, ytrain)\n",
        "yhat = etr.predict(xval).round().astype(int)\n",
        "yhat"
      ]
    },
    {
      "cell_type": "code",
      "execution_count": 49,
      "metadata": {
        "id": "5gcdk0c5Df-x",
        "colab": {
          "base_uri": "https://localhost:8080/"
        },
        "outputId": "d65f2909-4b06-4ab5-cb19-d52bd0364f09"
      },
      "outputs": [
        {
          "output_type": "stream",
          "name": "stdout",
          "text": [
            "Mean Absolute Error : 0.4666666666666667\n"
          ]
        }
      ],
      "source": [
        "mae_error = mean_absolute_error(yval, yhat)\n",
        "print(f'Mean Absolute Error : {mae_error}')"
      ]
    },
    {
      "cell_type": "code",
      "execution_count": 50,
      "metadata": {
        "id": "NHhHiF9FT98j",
        "colab": {
          "base_uri": "https://localhost:8080/"
        },
        "outputId": "24fab6c8-b280-4123-bd5a-0e8ce39b5988"
      },
      "outputs": [
        {
          "output_type": "stream",
          "name": "stdout",
          "text": [
            "Correlation between Predicted and Actual values : 0.5106084664101954\n"
          ]
        }
      ],
      "source": [
        "corr = np.corrcoef(yval, yhat)[0, 1]\n",
        "print(f'Correlation between Predicted and Actual values : {corr}')"
      ]
    },
    {
      "cell_type": "code",
      "execution_count": 51,
      "metadata": {
        "id": "V1wOWxyUbQql"
      },
      "outputs": [],
      "source": [
        "scoring.loc['ETR', ['mae_validation', 'corr_validation']] = [mae_error, corr]"
      ]
    },
    {
      "cell_type": "markdown",
      "metadata": {
        "id": "24wdKcCCEjRG"
      },
      "source": [
        "### Decision Tree Regressor"
      ]
    },
    {
      "cell_type": "code",
      "execution_count": 52,
      "metadata": {
        "id": "8FRPhG_UEmoz",
        "colab": {
          "base_uri": "https://localhost:8080/"
        },
        "outputId": "d282156c-1fe5-4cbb-ff18-25d8e9fcd271"
      },
      "outputs": [
        {
          "output_type": "stream",
          "name": "stdout",
          "text": [
            "Fitting 5 folds for each of 240 candidates, totalling 1200 fits\n"
          ]
        },
        {
          "output_type": "execute_result",
          "data": {
            "text/plain": [
              "{'criterion': 'absolute_error',\n",
              " 'max_depth': 7,\n",
              " 'max_features': 'auto',\n",
              " 'splitter': 'best'}"
            ]
          },
          "metadata": {},
          "execution_count": 52
        }
      ],
      "source": [
        "dtr_param = {\n",
        "    'criterion' : ['squared_error', 'friedman_mse', 'absolute_error', 'poisson'],\n",
        "    'splitter' : ['best', 'random'],\n",
        "    'max_depth' : [None, 1, 2, 3, 4, 5, 6, 7, 8, 9],\n",
        "    'max_features' : ['auto', 'sqrt', 'log2'],\n",
        "}\n",
        "dtr = DecisionTreeRegressor(random_state = 0)\n",
        "cv_dtr = GridSearchCV(\n",
        "    dtr, dtr_param, n_jobs = -1, cv = 5, verbose = 2, scoring = 'neg_mean_absolute_error'\n",
        ")\n",
        "cv_dtr.fit(train, y)\n",
        "cv_dtr.best_params_"
      ]
    },
    {
      "cell_type": "code",
      "execution_count": 53,
      "metadata": {
        "id": "pJ0g0GcmEzzl"
      },
      "outputs": [],
      "source": [
        "dtr_best_params = cv_dtr.best_params_"
      ]
    },
    {
      "cell_type": "code",
      "execution_count": 54,
      "metadata": {
        "id": "U3FhtA9uE9_l",
        "colab": {
          "base_uri": "https://localhost:8080/"
        },
        "outputId": "a116e14b-1165-4862-c637-050d074c5c32"
      },
      "outputs": [
        {
          "output_type": "execute_result",
          "data": {
            "text/plain": [
              "array([7, 6, 5, 5, 6, 6, 4, 6, 5, 7, 5, 6, 5, 3, 5, 5, 6, 5, 6, 5, 5, 6,\n",
              "       6, 3, 7, 6, 3, 5, 5, 5, 5, 5, 6, 6, 6, 6, 5, 5, 5, 6, 5, 6, 5, 4,\n",
              "       5, 5, 5, 5, 6, 6, 5, 5, 5, 5, 5, 5, 5, 5, 6, 5, 5, 7, 6, 6, 6, 5,\n",
              "       6, 5, 5, 5, 5, 6, 6, 6, 5, 5, 5, 6, 5, 6, 5, 5, 5, 3, 5, 6, 6, 6,\n",
              "       6, 6, 6, 6, 5, 6, 6, 6, 5, 6, 6, 5, 5, 6, 6, 5, 6, 5, 6, 6, 6, 6,\n",
              "       5, 6, 6, 5, 6, 5, 6, 6, 6, 5, 6, 6, 6, 6, 6, 5, 5, 7, 5, 6, 6, 6,\n",
              "       4, 6, 6, 6, 6, 5, 6, 6, 6, 6, 5, 6, 6, 5, 6, 6, 5, 5, 5, 6, 6, 6,\n",
              "       5, 6, 5, 6, 6, 5, 5, 6, 5, 6, 6, 5, 6, 6, 6, 7, 5, 6, 5, 6, 6, 5,\n",
              "       6, 6, 5, 6, 5, 5, 6, 5, 6, 6, 6, 6, 6, 6, 5, 6, 5, 5, 5, 6, 6, 5,\n",
              "       6, 6, 5, 6, 5, 5, 5, 6, 5, 5, 6, 6, 6, 6, 5, 6, 6, 6, 5, 6, 5, 5,\n",
              "       5, 5, 5, 6, 5, 6, 6, 6, 6, 6, 7, 5, 6, 5, 5, 5, 5, 6, 5, 5, 5, 5,\n",
              "       5, 6, 6, 5, 6, 6, 5, 6, 6, 5, 6, 5, 6, 6, 6, 5, 6, 5, 6, 6, 5, 6,\n",
              "       6, 5, 6, 6, 5, 5, 6, 5, 5, 6, 5, 6, 5, 5, 6, 5, 6, 7, 5, 6, 6, 6,\n",
              "       5, 6, 6, 5, 5, 6, 5, 6, 5, 6, 3, 6, 6, 5])"
            ]
          },
          "metadata": {},
          "execution_count": 54
        }
      ],
      "source": [
        "dtr = DecisionTreeRegressor(\n",
        "    random_state = 0,\n",
        "    **dtr_best_params,\n",
        ")\n",
        "dtr.fit(xtrain, ytrain)\n",
        "yhat = dtr.predict(xval).round().astype(int)\n",
        "yhat"
      ]
    },
    {
      "cell_type": "code",
      "execution_count": 55,
      "metadata": {
        "id": "p2MiUsZQFDba",
        "colab": {
          "base_uri": "https://localhost:8080/"
        },
        "outputId": "4c200a7b-f86e-4a19-d246-88c5036cc0d3"
      },
      "outputs": [
        {
          "output_type": "stream",
          "name": "stdout",
          "text": [
            "Mean Absolute Error : 0.4666666666666667\n"
          ]
        }
      ],
      "source": [
        "mae_error = mean_absolute_error(yval, yhat)\n",
        "print(f'Mean Absolute Error : {mae_error}')"
      ]
    },
    {
      "cell_type": "code",
      "execution_count": 56,
      "metadata": {
        "id": "weXaC8hRUBBj",
        "colab": {
          "base_uri": "https://localhost:8080/"
        },
        "outputId": "d69cd62d-33a6-4f85-b669-cfcc8da8e034"
      },
      "outputs": [
        {
          "output_type": "stream",
          "name": "stdout",
          "text": [
            "Correlation between Predicted and Actual values : 0.5106084664101954\n"
          ]
        }
      ],
      "source": [
        "corr = np.corrcoef(yval, yhat)[0, 1]\n",
        "print(f'Correlation between Predicted and Actual values : {corr}')"
      ]
    },
    {
      "cell_type": "code",
      "execution_count": 57,
      "metadata": {
        "id": "fFg7Rm0rbS9V"
      },
      "outputs": [],
      "source": [
        "scoring.loc['DTR', ['mae_validation', 'corr_validation']] = [mae_error, corr]"
      ]
    },
    {
      "cell_type": "markdown",
      "metadata": {
        "id": "mkCt2zVDF-xt"
      },
      "source": [
        "### Decision Tree Classifier"
      ]
    },
    {
      "cell_type": "code",
      "execution_count": 58,
      "metadata": {
        "id": "-ZjjxNPJFqsF",
        "colab": {
          "base_uri": "https://localhost:8080/"
        },
        "outputId": "388e57aa-c10e-4884-849b-83e0c885ca06"
      },
      "outputs": [
        {
          "output_type": "stream",
          "name": "stdout",
          "text": [
            "Fitting 5 folds for each of 120 candidates, totalling 600 fits\n"
          ]
        },
        {
          "output_type": "execute_result",
          "data": {
            "text/plain": [
              "{'criterion': 'gini',\n",
              " 'max_depth': 5,\n",
              " 'max_features': 'auto',\n",
              " 'splitter': 'best'}"
            ]
          },
          "metadata": {},
          "execution_count": 58
        }
      ],
      "source": [
        "dtc_param = {\n",
        "    'criterion' : ['gini', 'entropy'],\n",
        "    'splitter' : ['best', 'random'],\n",
        "    'max_depth' : [None, 1, 2, 3, 4, 5, 6, 7, 8, 9],\n",
        "    'max_features' : ['auto', 'sqrt', 'log2'],\n",
        "}\n",
        "dtc = DecisionTreeClassifier(random_state = 0)\n",
        "cv_dtc = GridSearchCV(\n",
        "    dtc, dtc_param, n_jobs = -1, cv = 5, verbose = 2, scoring = 'neg_mean_absolute_error'\n",
        ")\n",
        "cv_dtc.fit(train, y)\n",
        "cv_dtc.best_params_"
      ]
    },
    {
      "cell_type": "code",
      "execution_count": 59,
      "metadata": {
        "id": "osCRFL87GG3F"
      },
      "outputs": [],
      "source": [
        "dtc_best_params = cv_dtc.best_params_"
      ]
    },
    {
      "cell_type": "code",
      "execution_count": 60,
      "metadata": {
        "id": "RzxUJ98YGNT1",
        "colab": {
          "base_uri": "https://localhost:8080/"
        },
        "outputId": "d25b592c-b55f-4a49-f75c-41c60d8b5a75"
      },
      "outputs": [
        {
          "output_type": "execute_result",
          "data": {
            "text/plain": [
              "array([8, 6, 5, 5, 6, 5, 6, 6, 5, 6, 5, 6, 5, 5, 5, 5, 6, 6, 5, 6, 6, 6,\n",
              "       6, 5, 6, 5, 5, 5, 5, 5, 5, 5, 6, 6, 7, 6, 5, 5, 5, 5, 5, 6, 5, 5,\n",
              "       5, 5, 5, 5, 6, 6, 5, 5, 5, 6, 5, 5, 5, 5, 5, 5, 6, 6, 6, 6, 6, 5,\n",
              "       6, 5, 6, 5, 5, 5, 6, 7, 6, 6, 5, 6, 5, 6, 5, 6, 5, 5, 5, 5, 6, 6,\n",
              "       6, 6, 5, 6, 5, 6, 5, 5, 5, 5, 6, 6, 5, 5, 6, 5, 6, 5, 6, 5, 5, 6,\n",
              "       5, 6, 6, 5, 6, 5, 6, 6, 5, 5, 6, 6, 6, 6, 6, 5, 5, 6, 5, 6, 6, 6,\n",
              "       5, 6, 6, 5, 6, 6, 5, 5, 5, 5, 5, 5, 6, 5, 6, 6, 5, 6, 5, 6, 5, 6,\n",
              "       5, 6, 5, 6, 6, 5, 5, 6, 5, 6, 6, 6, 6, 6, 7, 7, 5, 5, 5, 5, 6, 5,\n",
              "       5, 5, 5, 6, 5, 5, 5, 5, 5, 5, 5, 6, 6, 7, 5, 7, 6, 5, 5, 6, 6, 6,\n",
              "       5, 6, 6, 6, 5, 5, 5, 5, 6, 5, 5, 5, 6, 5, 5, 5, 5, 6, 5, 6, 5, 6,\n",
              "       5, 5, 5, 6, 5, 5, 6, 6, 6, 6, 6, 5, 6, 5, 5, 5, 5, 5, 5, 5, 6, 5,\n",
              "       5, 5, 6, 5, 5, 6, 5, 5, 6, 5, 5, 5, 6, 5, 6, 5, 6, 5, 6, 6, 5, 5,\n",
              "       6, 5, 5, 5, 5, 5, 6, 6, 6, 6, 7, 6, 5, 5, 6, 5, 6, 6, 5, 6, 5, 6,\n",
              "       5, 5, 7, 5, 5, 6, 5, 6, 5, 5, 5, 5, 5, 5])"
            ]
          },
          "metadata": {},
          "execution_count": 60
        }
      ],
      "source": [
        "dtc = DecisionTreeClassifier(\n",
        "    random_state = 0,\n",
        "    **dtc_best_params,\n",
        ")\n",
        "dtc.fit(xtrain, ytrain)\n",
        "yhat = dtc.predict(xval).round().astype(int)\n",
        "yhat"
      ]
    },
    {
      "cell_type": "code",
      "execution_count": 61,
      "metadata": {
        "id": "tyCOLCIGGRgV",
        "colab": {
          "base_uri": "https://localhost:8080/"
        },
        "outputId": "183c3422-7b53-471a-ad2f-26d6341b8118"
      },
      "outputs": [
        {
          "output_type": "stream",
          "name": "stdout",
          "text": [
            "Mean Absolute Error : 0.5133333333333333\n"
          ]
        }
      ],
      "source": [
        "mae_error = mean_absolute_error(yval, yhat)\n",
        "print(f'Mean Absolute Error : {mae_error}')"
      ]
    },
    {
      "cell_type": "code",
      "execution_count": 62,
      "metadata": {
        "id": "D499pxweUDiL",
        "colab": {
          "base_uri": "https://localhost:8080/"
        },
        "outputId": "99c8a244-63f4-4574-a4a3-5d557ce95c9f"
      },
      "outputs": [
        {
          "output_type": "stream",
          "name": "stdout",
          "text": [
            "Correlation between Predicted and Actual values : 0.4546757395762022\n"
          ]
        }
      ],
      "source": [
        "corr = np.corrcoef(yval, yhat)[0, 1]\n",
        "print(f'Correlation between Predicted and Actual values : {corr}')"
      ]
    },
    {
      "cell_type": "code",
      "execution_count": 63,
      "metadata": {
        "id": "z4jBYeHjbVGP"
      },
      "outputs": [],
      "source": [
        "scoring.loc['DTC', ['mae_validation', 'corr_validation']] = [mae_error, corr]"
      ]
    },
    {
      "cell_type": "markdown",
      "metadata": {
        "id": "-O9zFbYqGbeg"
      },
      "source": [
        "### Extra Trees Classifier"
      ]
    },
    {
      "cell_type": "code",
      "execution_count": 64,
      "metadata": {
        "id": "q63KkhswHUoX"
      },
      "outputs": [],
      "source": [
        "etsc_best_params = {'n_estimators': 1000,\n",
        "                    'max_features': 'sqrt',\n",
        "                    'max_depth': None,\n",
        "                    'criterion': 'gini'}"
      ]
    },
    {
      "cell_type": "code",
      "execution_count": 65,
      "metadata": {
        "id": "5hYqwYj1JXks",
        "colab": {
          "base_uri": "https://localhost:8080/"
        },
        "outputId": "4ad2bded-b7e7-4c36-88e8-da2cf7674b80"
      },
      "outputs": [
        {
          "output_type": "execute_result",
          "data": {
            "text/plain": [
              "array([6, 6, 5, 5, 6, 5, 5, 6, 5, 6, 5, 6, 5, 5, 5, 6, 6, 5, 6, 6, 5, 5,\n",
              "       6, 5, 7, 5, 5, 5, 5, 5, 5, 5, 6, 6, 7, 6, 5, 5, 5, 5, 5, 6, 6, 5,\n",
              "       5, 5, 5, 5, 7, 5, 5, 5, 5, 6, 5, 5, 5, 5, 5, 5, 5, 7, 6, 6, 6, 5,\n",
              "       7, 6, 5, 5, 5, 6, 6, 6, 5, 5, 6, 6, 5, 6, 5, 5, 5, 5, 5, 5, 6, 6,\n",
              "       6, 5, 5, 6, 5, 6, 6, 5, 5, 5, 6, 5, 6, 5, 6, 5, 6, 5, 5, 6, 6, 6,\n",
              "       5, 5, 6, 5, 6, 6, 6, 6, 5, 6, 6, 7, 5, 7, 5, 5, 5, 7, 5, 6, 5, 7,\n",
              "       6, 6, 5, 6, 7, 6, 6, 5, 5, 6, 5, 5, 7, 5, 7, 6, 5, 6, 5, 6, 5, 7,\n",
              "       5, 6, 5, 5, 6, 5, 5, 6, 5, 6, 7, 5, 7, 6, 6, 7, 5, 6, 5, 5, 6, 6,\n",
              "       5, 6, 5, 5, 5, 5, 5, 5, 6, 5, 5, 6, 5, 7, 5, 7, 5, 6, 5, 7, 6, 5,\n",
              "       6, 6, 6, 6, 5, 5, 5, 6, 5, 5, 6, 6, 6, 6, 5, 6, 5, 7, 5, 6, 5, 7,\n",
              "       6, 6, 5, 6, 5, 6, 6, 6, 7, 6, 7, 6, 6, 5, 5, 5, 5, 6, 5, 5, 6, 5,\n",
              "       5, 6, 6, 5, 5, 7, 5, 5, 5, 5, 5, 5, 7, 6, 7, 5, 6, 5, 6, 6, 5, 6,\n",
              "       6, 5, 5, 6, 5, 5, 6, 5, 5, 6, 6, 6, 5, 5, 6, 5, 6, 7, 5, 6, 6, 6,\n",
              "       5, 5, 7, 5, 5, 6, 5, 6, 5, 6, 4, 6, 6, 5])"
            ]
          },
          "metadata": {},
          "execution_count": 65
        }
      ],
      "source": [
        "etsc = ExtraTreesClassifier(\n",
        "    random_state = 0,\n",
        "    **etsc_best_params,\n",
        ")\n",
        "etsc.fit(xtrain, ytrain)\n",
        "yhat = etsc.predict(xval)\n",
        "yhat"
      ]
    },
    {
      "cell_type": "code",
      "execution_count": 66,
      "metadata": {
        "id": "LmBPSfOJJcvU",
        "colab": {
          "base_uri": "https://localhost:8080/"
        },
        "outputId": "097fffab-42f0-4245-8beb-1c7aebee66dd"
      },
      "outputs": [
        {
          "output_type": "stream",
          "name": "stdout",
          "text": [
            "Mean Absolute Error : 0.31666666666666665\n"
          ]
        }
      ],
      "source": [
        "mae_error = mean_absolute_error(yval, yhat)\n",
        "print(f'Mean Absolute Error : {mae_error}')"
      ]
    },
    {
      "cell_type": "code",
      "execution_count": 67,
      "metadata": {
        "id": "2nlnbLxXUEhE",
        "colab": {
          "base_uri": "https://localhost:8080/"
        },
        "outputId": "3991e159-14dd-48c2-8743-4a57cf3d8fa7"
      },
      "outputs": [
        {
          "output_type": "stream",
          "name": "stdout",
          "text": [
            "Correlation between Predicted and Actual values : 0.6769898722875874\n"
          ]
        }
      ],
      "source": [
        "corr = np.corrcoef(yval, yhat)[0, 1]\n",
        "print(f'Correlation between Predicted and Actual values : {corr}')"
      ]
    },
    {
      "cell_type": "code",
      "execution_count": 68,
      "metadata": {
        "id": "WbI77zzYbZkd"
      },
      "outputs": [],
      "source": [
        "scoring.loc['ETSC', ['mae_validation', 'corr_validation']] = [mae_error, corr]"
      ]
    },
    {
      "cell_type": "markdown",
      "metadata": {
        "id": "_GnhaEU_Je5n"
      },
      "source": [
        "### Extra Trees Regressor"
      ]
    },
    {
      "cell_type": "code",
      "execution_count": 69,
      "metadata": {
        "id": "cnOTc_lUJw1U"
      },
      "outputs": [],
      "source": [
        "etsr_best_params = {'n_estimators': 1000,\n",
        "                    'max_features': 'auto',\n",
        "                    'max_depth': None,\n",
        "                    'criterion': 'squared_error'}"
      ]
    },
    {
      "cell_type": "code",
      "execution_count": 70,
      "metadata": {
        "id": "UXfpFcceJyxM",
        "colab": {
          "base_uri": "https://localhost:8080/"
        },
        "outputId": "0aaa0a13-de69-4d54-f3a7-b2f050730072"
      },
      "outputs": [
        {
          "output_type": "execute_result",
          "data": {
            "text/plain": [
              "array([6.53 , 5.672, 5.   , 5.293, 6.121, 5.538, 4.925, 6.111, 5.129,\n",
              "       6.44 , 4.933, 6.314, 5.035, 5.046, 5.299, 5.979, 5.543, 5.   ,\n",
              "       6.   , 5.933, 5.09 , 5.418, 5.396, 5.117, 7.   , 5.532, 4.835,\n",
              "       5.032, 5.477, 5.   , 5.   , 5.109, 5.614, 6.   , 6.878, 6.   ,\n",
              "       5.258, 5.129, 5.   , 5.   , 5.49 , 5.977, 6.   , 5.191, 5.096,\n",
              "       5.57 , 5.63 , 5.384, 6.851, 5.392, 5.331, 5.28 , 5.142, 6.   ,\n",
              "       5.028, 5.491, 5.072, 5.119, 5.69 , 5.055, 5.317, 7.   , 6.   ,\n",
              "       6.   , 5.969, 5.198, 6.558, 6.   , 5.   , 5.214, 5.019, 5.587,\n",
              "       6.193, 5.968, 5.342, 5.524, 5.52 , 6.055, 5.082, 6.093, 5.438,\n",
              "       5.124, 5.328, 4.56 , 5.492, 5.797, 6.248, 6.   , 6.132, 5.503,\n",
              "       5.52 , 5.733, 5.203, 6.   , 5.533, 5.646, 5.   , 5.   , 6.158,\n",
              "       5.   , 5.637, 5.456, 6.   , 4.963, 5.413, 5.022, 5.   , 5.798,\n",
              "       5.818, 5.785, 5.079, 5.   , 6.238, 5.   , 5.971, 6.   , 6.005,\n",
              "       6.   , 5.346, 5.748, 6.   , 6.583, 5.588, 7.   , 5.183, 5.282,\n",
              "       5.151, 6.992, 5.156, 6.272, 5.408, 6.717, 4.762, 5.708, 5.281,\n",
              "       6.699, 7.   , 6.156, 5.533, 4.79 , 5.414, 6.126, 5.194, 5.359,\n",
              "       6.782, 5.124, 6.643, 5.696, 5.511, 5.824, 5.247, 6.035, 5.321,\n",
              "       7.   , 4.882, 6.68 , 5.126, 5.392, 6.394, 5.313, 5.077, 5.937,\n",
              "       5.085, 6.278, 6.775, 5.2  , 7.   , 6.062, 5.968, 6.831, 5.314,\n",
              "       6.   , 5.053, 6.05 , 5.803, 5.492, 5.9  , 6.   , 4.708, 5.209,\n",
              "       5.058, 5.133, 5.619, 5.217, 5.676, 5.502, 5.317, 6.218, 5.202,\n",
              "       7.   , 5.   , 6.849, 5.625, 5.482, 4.876, 7.   , 5.611, 5.127,\n",
              "       6.075, 6.453, 6.   , 6.007, 5.   , 5.062, 5.505, 5.872, 5.498,\n",
              "       5.51 , 6.339, 5.92 , 6.   , 5.755, 5.125, 6.   , 6.05 , 6.832,\n",
              "       5.155, 5.761, 5.131, 7.   , 5.639, 6.   , 5.   , 6.012, 5.184,\n",
              "       5.689, 6.156, 5.699, 6.656, 6.24 , 7.   , 5.776, 6.   , 5.097,\n",
              "       5.416, 5.418, 5.535, 6.   , 5.055, 5.589, 5.009, 5.289, 5.375,\n",
              "       6.   , 6.558, 5.239, 5.382, 6.98 , 5.245, 5.746, 5.418, 5.   ,\n",
              "       5.   , 5.575, 6.605, 5.818, 6.51 , 5.   , 6.313, 5.   , 6.097,\n",
              "       5.803, 5.216, 6.   , 6.418, 5.424, 5.346, 5.866, 5.185, 5.36 ,\n",
              "       5.832, 5.453, 5.   , 6.097, 6.096, 6.448, 5.   , 5.042, 6.075,\n",
              "       5.15 , 5.701, 6.856, 5.058, 6.369, 5.646, 6.093, 5.16 , 5.068,\n",
              "       6.493, 5.134, 5.   , 6.259, 5.108, 6.176, 5.245, 5.888, 4.607,\n",
              "       5.574, 5.866, 5.407])"
            ]
          },
          "metadata": {},
          "execution_count": 70
        }
      ],
      "source": [
        "etsr = ExtraTreesRegressor(\n",
        "    random_state = 0,\n",
        "    **etsr_best_params,\n",
        ")\n",
        "etsr.fit(xtrain, ytrain)\n",
        "yhat = etsr.predict(xval)\n",
        "yhat"
      ]
    },
    {
      "cell_type": "code",
      "execution_count": 71,
      "metadata": {
        "id": "_b-79ye5J2xM",
        "colab": {
          "base_uri": "https://localhost:8080/"
        },
        "outputId": "a4a94f4b-e874-427d-ab41-f9b6948f09a1"
      },
      "outputs": [
        {
          "output_type": "stream",
          "name": "stdout",
          "text": [
            "Mean Absolute Error : 0.36812999999999996\n"
          ]
        }
      ],
      "source": [
        "mae_error = mean_absolute_error(yval, yhat)\n",
        "print(f'Mean Absolute Error : {mae_error}')"
      ]
    },
    {
      "cell_type": "code",
      "execution_count": 72,
      "metadata": {
        "id": "u2JwLeGmUGCF",
        "colab": {
          "base_uri": "https://localhost:8080/"
        },
        "outputId": "828c7f0a-9663-455f-aa04-6c687eb3a01a"
      },
      "outputs": [
        {
          "output_type": "stream",
          "name": "stdout",
          "text": [
            "Correlation between Predicted and Actual values : 0.753718408627215\n"
          ]
        }
      ],
      "source": [
        "corr = np.corrcoef(yval, yhat)[0, 1]\n",
        "print(f'Correlation between Predicted and Actual values : {corr}')"
      ]
    },
    {
      "cell_type": "code",
      "execution_count": 73,
      "metadata": {
        "id": "q6Qylxsmbb1g"
      },
      "outputs": [],
      "source": [
        "scoring.loc['ETSR', ['mae_validation', 'corr_validation']] = [mae_error, corr]"
      ]
    },
    {
      "cell_type": "markdown",
      "metadata": {
        "id": "8Yx02u60Kpwy"
      },
      "source": [
        "### Random Forest Regressor"
      ]
    },
    {
      "cell_type": "code",
      "execution_count": 74,
      "metadata": {
        "id": "qjrLdmawK0pj"
      },
      "outputs": [],
      "source": [
        "rfr_best_params = {'n_estimators': 200, \n",
        "                   'max_depth': None, \n",
        "                   'criterion': 'friedman_mse'}"
      ]
    },
    {
      "cell_type": "code",
      "execution_count": 75,
      "metadata": {
        "id": "3dp-gtsHK2d5",
        "colab": {
          "base_uri": "https://localhost:8080/"
        },
        "outputId": "3386b99d-ec3d-49d9-8461-0081f8ab0056"
      },
      "outputs": [
        {
          "output_type": "execute_result",
          "data": {
            "text/plain": [
              "array([6.515, 5.53 , 4.84 , 5.295, 6.13 , 5.65 , 4.645, 6.065, 5.255,\n",
              "       6.22 , 4.76 , 6.435, 4.98 , 4.975, 5.275, 5.58 , 5.455, 5.17 ,\n",
              "       5.74 , 5.78 , 5.055, 5.56 , 5.06 , 5.16 , 6.905, 5.485, 5.015,\n",
              "       5.01 , 5.65 , 5.02 , 5.045, 5.1  , 5.625, 6.17 , 6.83 , 5.98 ,\n",
              "       5.47 , 5.055, 5.035, 5.265, 5.52 , 5.97 , 5.96 , 5.015, 5.1  ,\n",
              "       5.62 , 5.605, 5.23 , 6.895, 5.52 , 5.295, 5.2  , 5.185, 5.935,\n",
              "       5.115, 5.435, 5.005, 5.115, 5.655, 5.065, 5.115, 6.565, 6.01 ,\n",
              "       5.95 , 6.03 , 5.35 , 6.385, 5.655, 5.07 , 5.44 , 4.965, 5.57 ,\n",
              "       6.17 , 5.885, 5.145, 5.47 , 5.39 , 6.105, 5.005, 6.21 , 5.26 ,\n",
              "       5.105, 5.285, 4.56 , 5.54 , 5.73 , 6.515, 6.02 , 6.205, 5.515,\n",
              "       5.675, 5.87 , 5.255, 5.615, 5.645, 5.52 , 5.13 , 5.29 , 6.105,\n",
              "       5.225, 5.6  , 5.2  , 5.98 , 5.07 , 5.48 , 5.   , 5.465, 5.825,\n",
              "       5.765, 5.745, 5.205, 5.26 , 6.21 , 5.035, 6.02 , 5.815, 6.265,\n",
              "       5.975, 5.49 , 5.64 , 6.165, 6.55 , 5.435, 6.98 , 5.335, 5.285,\n",
              "       5.17 , 6.63 , 5.315, 6.17 , 5.205, 6.89 , 4.785, 5.795, 5.355,\n",
              "       6.49 , 6.81 , 6.02 , 5.645, 5.155, 5.   , 6.265, 5.18 , 5.425,\n",
              "       6.87 , 5.055, 6.525, 5.72 , 5.61 , 5.95 , 5.415, 6.085, 5.32 ,\n",
              "       6.67 , 4.75 , 6.54 , 5.075, 5.52 , 6.29 , 5.315, 5.035, 5.66 ,\n",
              "       5.135, 6.44 , 6.785, 5.215, 6.805, 6.08 , 5.885, 6.83 , 5.295,\n",
              "       5.915, 5.06 , 5.875, 5.705, 5.605, 5.94 , 5.8  , 4.585, 5.28 ,\n",
              "       5.13 , 5.045, 5.8  , 5.25 , 5.58 , 5.465, 5.455, 6.19 , 5.08 ,\n",
              "       6.86 , 5.285, 6.845, 5.525, 5.655, 4.9  , 6.835, 5.68 , 5.045,\n",
              "       6.12 , 6.26 , 5.84 , 5.75 , 5.09 , 5.085, 5.54 , 5.565, 5.605,\n",
              "       5.355, 6.31 , 5.855, 6.04 , 5.845, 5.235, 5.845, 5.875, 6.83 ,\n",
              "       5.29 , 5.77 , 5.185, 6.25 , 5.53 , 5.83 , 5.19 , 5.99 , 4.965,\n",
              "       5.715, 6.135, 5.785, 6.59 , 6.395, 6.745, 5.675, 5.83 , 5.175,\n",
              "       5.36 , 5.465, 5.585, 5.715, 5.14 , 5.61 , 4.905, 5.35 , 5.455,\n",
              "       5.915, 6.44 , 5.13 , 5.33 , 6.91 , 5.135, 5.61 , 5.56 , 5.045,\n",
              "       5.075, 5.61 , 6.52 , 5.765, 6.51 , 5.05 , 6.29 , 5.135, 6.09 ,\n",
              "       5.71 , 5.32 , 5.875, 6.305, 5.465, 5.335, 5.855, 5.175, 5.255,\n",
              "       5.87 , 5.675, 5.19 , 6.23 , 6.125, 6.49 , 5.115, 5.08 , 6.105,\n",
              "       5.155, 5.71 , 6.88 , 5.055, 6.37 , 5.695, 6.085, 5.155, 5.025,\n",
              "       6.34 , 5.06 , 5.055, 6.405, 5.085, 6.275, 5.2  , 5.825, 4.655,\n",
              "       5.515, 5.855, 5.54 ])"
            ]
          },
          "metadata": {},
          "execution_count": 75
        }
      ],
      "source": [
        "rfr = RandomForestRegressor(\n",
        "    random_state = 0,\n",
        "    **rfr_best_params,\n",
        ")\n",
        "rfr.fit(xtrain, ytrain)\n",
        "yhat = rfr.predict(xval)\n",
        "yhat"
      ]
    },
    {
      "cell_type": "code",
      "execution_count": 76,
      "metadata": {
        "id": "oQgqALa1K6q3",
        "colab": {
          "base_uri": "https://localhost:8080/"
        },
        "outputId": "e09e28eb-b377-4466-caac-0207c1f4598f"
      },
      "outputs": [
        {
          "output_type": "stream",
          "name": "stdout",
          "text": [
            "Mean Absolute Error : 0.40101666666666663\n"
          ]
        }
      ],
      "source": [
        "mae_error = mean_absolute_error(yval, yhat)\n",
        "print(f'Mean Absolute Error : {mae_error}')"
      ]
    },
    {
      "cell_type": "code",
      "execution_count": 77,
      "metadata": {
        "id": "wUYAlwEcUHQa",
        "colab": {
          "base_uri": "https://localhost:8080/"
        },
        "outputId": "2a17c7e6-6535-4d57-96fc-aeafdf994cc1"
      },
      "outputs": [
        {
          "output_type": "stream",
          "name": "stdout",
          "text": [
            "Correlation between Predicted and Actual values : 0.7504365513704621\n"
          ]
        }
      ],
      "source": [
        "corr = np.corrcoef(yval, yhat)[0, 1]\n",
        "print(f'Correlation between Predicted and Actual values : {corr}')"
      ]
    },
    {
      "cell_type": "code",
      "execution_count": 78,
      "metadata": {
        "id": "UGPIOFfObd_b"
      },
      "outputs": [],
      "source": [
        "scoring.loc['RFR', ['mae_validation', 'corr_validation']] = [mae_error, corr]"
      ]
    },
    {
      "cell_type": "markdown",
      "metadata": {
        "id": "VUjtLGtlK7EL"
      },
      "source": [
        "### Random Forest Classifier"
      ]
    },
    {
      "cell_type": "code",
      "execution_count": 79,
      "metadata": {
        "id": "1T1AJBbRLV8k"
      },
      "outputs": [],
      "source": [
        "rfc_best_params = {'n_estimators': 1000, 'max_depth': None, 'criterion': 'entropy'}"
      ]
    },
    {
      "cell_type": "code",
      "execution_count": 80,
      "metadata": {
        "id": "nJG5zjc4LXqk",
        "colab": {
          "base_uri": "https://localhost:8080/"
        },
        "outputId": "928ed80d-0e07-48a5-f096-ffe5b3614153"
      },
      "outputs": [
        {
          "output_type": "execute_result",
          "data": {
            "text/plain": [
              "array([6, 6, 5, 5, 7, 6, 5, 6, 5, 6, 5, 6, 5, 5, 5, 6, 5, 5, 6, 6, 5, 6,\n",
              "       5, 5, 7, 6, 5, 5, 6, 5, 5, 5, 6, 6, 7, 6, 5, 5, 5, 5, 5, 6, 6, 5,\n",
              "       5, 5, 6, 5, 7, 6, 5, 5, 5, 6, 5, 6, 5, 5, 5, 5, 5, 7, 6, 6, 6, 5,\n",
              "       7, 6, 5, 5, 5, 6, 6, 6, 5, 6, 5, 6, 5, 6, 5, 5, 5, 5, 5, 6, 7, 6,\n",
              "       6, 5, 6, 6, 5, 6, 6, 5, 5, 5, 6, 5, 6, 5, 6, 5, 6, 5, 5, 6, 6, 6,\n",
              "       5, 5, 6, 5, 6, 6, 6, 6, 5, 6, 6, 6, 5, 7, 5, 5, 5, 7, 5, 6, 5, 7,\n",
              "       6, 6, 5, 6, 7, 6, 6, 5, 5, 6, 5, 5, 7, 5, 7, 6, 6, 6, 5, 6, 5, 7,\n",
              "       5, 6, 5, 6, 6, 5, 5, 6, 5, 7, 7, 5, 7, 6, 6, 7, 5, 6, 5, 6, 6, 5,\n",
              "       5, 6, 5, 5, 5, 5, 6, 5, 6, 5, 5, 6, 5, 7, 5, 7, 5, 6, 5, 7, 6, 5,\n",
              "       6, 6, 6, 6, 5, 5, 5, 6, 5, 5, 6, 6, 6, 6, 5, 6, 6, 7, 5, 6, 5, 7,\n",
              "       6, 6, 5, 6, 5, 6, 6, 6, 7, 6, 7, 6, 6, 5, 5, 5, 5, 6, 5, 6, 6, 5,\n",
              "       5, 6, 6, 5, 5, 7, 5, 6, 6, 5, 5, 5, 7, 6, 7, 5, 6, 5, 6, 6, 5, 6,\n",
              "       6, 5, 5, 6, 5, 5, 6, 5, 5, 6, 6, 6, 5, 5, 6, 5, 6, 7, 5, 6, 6, 6,\n",
              "       5, 5, 7, 5, 5, 6, 5, 6, 5, 6, 5, 5, 6, 5])"
            ]
          },
          "metadata": {},
          "execution_count": 80
        }
      ],
      "source": [
        "rfc = RandomForestClassifier(\n",
        "    random_state = 0,\n",
        "    **rfc_best_params,\n",
        ")\n",
        "rfc.fit(xtrain, ytrain)\n",
        "yhat = rfc.predict(xval)\n",
        "yhat"
      ]
    },
    {
      "cell_type": "code",
      "execution_count": 81,
      "metadata": {
        "id": "7rBp26DDLgJ7",
        "colab": {
          "base_uri": "https://localhost:8080/"
        },
        "outputId": "8eb5aebf-65b1-4136-c3ca-5a8cf25253dd"
      },
      "outputs": [
        {
          "output_type": "stream",
          "name": "stdout",
          "text": [
            "Mean Absolute Error : 0.33\n"
          ]
        }
      ],
      "source": [
        "mae_error = mean_absolute_error(yval, yhat)\n",
        "print(f'Mean Absolute Error : {mae_error}')"
      ]
    },
    {
      "cell_type": "code",
      "execution_count": 82,
      "metadata": {
        "id": "Aa2Pvx8VUHzy",
        "colab": {
          "base_uri": "https://localhost:8080/"
        },
        "outputId": "704f2472-ed33-438f-8e71-5da1eac6116d"
      },
      "outputs": [
        {
          "output_type": "stream",
          "name": "stdout",
          "text": [
            "Correlation between Predicted and Actual values : 0.6721270338237415\n"
          ]
        }
      ],
      "source": [
        "corr = np.corrcoef(yval, yhat)[0, 1]\n",
        "print(f'Correlation between Predicted and Actual values : {corr}')"
      ]
    },
    {
      "cell_type": "code",
      "execution_count": 83,
      "metadata": {
        "id": "SkTREtiaZf0Y"
      },
      "outputs": [],
      "source": [
        "scoring.loc['RFC', ['mae_validation', 'corr_validation']] = [mae_error, corr]"
      ]
    },
    {
      "cell_type": "markdown",
      "metadata": {
        "id": "Ctbgpye3f9Ow"
      },
      "source": [
        "# Evaluation"
      ]
    },
    {
      "cell_type": "markdown",
      "metadata": {
        "id": "MRhfJRpogCWA"
      },
      "source": [
        "## Checking the score"
      ]
    },
    {
      "cell_type": "code",
      "execution_count": null,
      "metadata": {
        "id": "OHsCC9xQfEZR"
      },
      "outputs": [],
      "source": [
        "scoring"
      ]
    },
    {
      "cell_type": "code",
      "execution_count": null,
      "metadata": {
        "id": "egKk9ybqfE3B"
      },
      "outputs": [],
      "source": [
        "scoring.sort_values('corr_validation', ascending = False)"
      ]
    },
    {
      "cell_type": "markdown",
      "metadata": {
        "id": "TrNMtbg3vOjx"
      },
      "source": [
        "According to calculation, Extra Trees Regressor scores the most amongst the other. The best score we can make in validation until now is 0.303 (MAE) and 0.696 (Correlation). <br>\n",
        "We'll see their score in test set as well."
      ]
    },
    {
      "cell_type": "markdown",
      "metadata": {
        "id": "V3JyGd4PwBEP"
      },
      "source": [
        "## Test Data Review"
      ]
    },
    {
      "cell_type": "code",
      "execution_count": null,
      "metadata": {
        "id": "xHxoIvVSvjQq"
      },
      "outputs": [],
      "source": [
        "test"
      ]
    },
    {
      "cell_type": "markdown",
      "metadata": {
        "id": "7UWPVEK6wCq5"
      },
      "source": [
        "## Extra Trees Regression Prediction"
      ]
    },
    {
      "cell_type": "code",
      "execution_count": null,
      "metadata": {
        "id": "jkoPZC8Gvqmi"
      },
      "outputs": [],
      "source": [
        "ypred_etsr = etsr.predict(test)\n",
        "ypred_etsr"
      ]
    },
    {
      "cell_type": "code",
      "execution_count": null,
      "metadata": {
        "id": "YXAipW8hv1UH"
      },
      "outputs": [],
      "source": [
        "mae_error = mean_absolute_error(ytest, ypred_etsr)\n",
        "print(f'Mean Absolute Error : {mae_error}')"
      ]
    },
    {
      "cell_type": "code",
      "execution_count": null,
      "metadata": {
        "id": "p0mqoWLwwJd2"
      },
      "outputs": [],
      "source": [
        "corr = np.corrcoef(ytest, ypred_etsr)[0, 1]\n",
        "print(f'Correlation between Predicted and Actual value : {corr}')"
      ]
    },
    {
      "cell_type": "code",
      "execution_count": null,
      "metadata": {
        "id": "7FyoF-NiwXuQ"
      },
      "outputs": [],
      "source": [
        "scoring.loc['ETSR', ['mae_test', 'corr_test']] = [mae_error, corr]"
      ]
    },
    {
      "cell_type": "markdown",
      "metadata": {
        "id": "AL8F3lwVwfH5"
      },
      "source": [
        "## Random Forest Regressor Prediction"
      ]
    },
    {
      "cell_type": "code",
      "execution_count": null,
      "metadata": {
        "id": "DRWyRnHWwefH"
      },
      "outputs": [],
      "source": [
        "ypred_rfr = rfr.predict(test)\n",
        "ypred_rfr"
      ]
    },
    {
      "cell_type": "code",
      "execution_count": null,
      "metadata": {
        "id": "Xm6qvdbpwkMH"
      },
      "outputs": [],
      "source": [
        "mae_error = mean_absolute_error(ytest, ypred_rfr)\n",
        "print(f'Mean Absolute Error : {mae_error}')"
      ]
    },
    {
      "cell_type": "code",
      "execution_count": null,
      "metadata": {
        "id": "RqBUgY8xyF2K"
      },
      "outputs": [],
      "source": [
        "corr = np.corrcoef(ytest, ypred_rfr)[0, 1]\n",
        "print(f'Correlation between Predicted and Actual value : {corr}')"
      ]
    },
    {
      "cell_type": "code",
      "execution_count": null,
      "metadata": {
        "id": "u3V_wC8kyJPa"
      },
      "outputs": [],
      "source": [
        "scoring.loc['RFR', ['mae_test', 'corr_test']] = [mae_error, corr]"
      ]
    },
    {
      "cell_type": "markdown",
      "metadata": {
        "id": "ONmyzS4_yLhN"
      },
      "source": [
        "## Extra Trees Classification Prediction"
      ]
    },
    {
      "cell_type": "code",
      "execution_count": null,
      "metadata": {
        "id": "0XL-Qjl2yPu-"
      },
      "outputs": [],
      "source": [
        "ypred_etsc = etsc.predict(test)\n",
        "ypred_etsc"
      ]
    },
    {
      "cell_type": "code",
      "execution_count": null,
      "metadata": {
        "id": "HdsUHbNNydjs"
      },
      "outputs": [],
      "source": [
        "mae_error = mean_absolute_error(ytest, ypred_etsc)\n",
        "print(f'Mean Absolute Error : {mae_error}')"
      ]
    },
    {
      "cell_type": "code",
      "execution_count": null,
      "metadata": {
        "id": "HQxDr8SOyhad"
      },
      "outputs": [],
      "source": [
        "corr = np.corrcoef(ytest, ypred_etsc)[0, 1]\n",
        "print(f'Correlation between Predicted and Actual value : {corr}')"
      ]
    },
    {
      "cell_type": "code",
      "execution_count": null,
      "metadata": {
        "id": "UJNjGzs3ykQB"
      },
      "outputs": [],
      "source": [
        "scoring.loc['ETSC', ['mae_test', 'corr_test']] = [mae_error, corr]"
      ]
    },
    {
      "cell_type": "markdown",
      "metadata": {
        "id": "LTZyhuOLylup"
      },
      "source": [
        "## Random Forest Classification Prediction"
      ]
    },
    {
      "cell_type": "code",
      "execution_count": null,
      "metadata": {
        "id": "k_8h0Apfy_w2"
      },
      "outputs": [],
      "source": [
        "ypred_rfc = rfc.predict(test)\n",
        "ypred_rfc"
      ]
    },
    {
      "cell_type": "code",
      "execution_count": null,
      "metadata": {
        "id": "1b6iHSWqzFkD"
      },
      "outputs": [],
      "source": [
        "mae_error = mean_absolute_error(ytest, ypred_rfc)\n",
        "print(f'Mean Absolute Error : {mae_error}')"
      ]
    },
    {
      "cell_type": "code",
      "execution_count": null,
      "metadata": {
        "id": "G_DJ3QHqzMRA"
      },
      "outputs": [],
      "source": [
        "corr = np.corrcoef(ytest, ypred_rfc)[0, 1]\n",
        "print(f'Correlation between Predicted and Actual value : {corr}')"
      ]
    },
    {
      "cell_type": "code",
      "execution_count": null,
      "metadata": {
        "id": "cxiMl_dszSWT"
      },
      "outputs": [],
      "source": [
        "scoring.loc['RFC', ['mae_test', 'corr_test']] = [mae_error, corr]"
      ]
    },
    {
      "cell_type": "markdown",
      "metadata": {
        "id": "R6U7Ca84ypZU"
      },
      "source": [
        "## Extra Tree Regression "
      ]
    },
    {
      "cell_type": "code",
      "execution_count": null,
      "metadata": {
        "id": "vfBeW6ghzd3n"
      },
      "outputs": [],
      "source": [
        "ypred_etr = etr.predict(test)\n",
        "ypred_etr"
      ]
    },
    {
      "cell_type": "code",
      "execution_count": null,
      "metadata": {
        "id": "-NYPoE45zgtw"
      },
      "outputs": [],
      "source": [
        "mae_error = mean_absolute_error(ytest, ypred_etr)\n",
        "print(f'Mean Absolute Error : {mae_error}')"
      ]
    },
    {
      "cell_type": "code",
      "execution_count": null,
      "metadata": {
        "id": "IgFZA4wMzmGv"
      },
      "outputs": [],
      "source": [
        "corr = np.corrcoef(ytest, ypred_etr)[0, 1]\n",
        "print(f'Correlation between Predicted and Actual value : {corr}')"
      ]
    },
    {
      "cell_type": "code",
      "execution_count": null,
      "metadata": {
        "id": "dFWZtVb_zrjn"
      },
      "outputs": [],
      "source": [
        "scoring.loc['ETR', ['mae_test', 'corr_test']] = [mae_error, corr]"
      ]
    },
    {
      "cell_type": "markdown",
      "metadata": {
        "id": "EEc9thsuytor"
      },
      "source": [
        "## Decision Tree Regression"
      ]
    },
    {
      "cell_type": "code",
      "execution_count": null,
      "metadata": {
        "id": "eBB2viqbzzTM"
      },
      "outputs": [],
      "source": [
        "ypred_dtr = dtr.predict(test)\n",
        "ypred_dtr"
      ]
    },
    {
      "cell_type": "code",
      "execution_count": null,
      "metadata": {
        "id": "iMb3VSKpzzTN"
      },
      "outputs": [],
      "source": [
        "mae_error = mean_absolute_error(ytest, ypred_dtr)\n",
        "print(f'Mean Absolute Error : {mae_error}')"
      ]
    },
    {
      "cell_type": "code",
      "execution_count": null,
      "metadata": {
        "id": "kLkM2f09zzTN"
      },
      "outputs": [],
      "source": [
        "corr = np.corrcoef(ytest, ypred_dtr)[0, 1]\n",
        "print(f'Correlation between Predicted and Actual value : {corr}')"
      ]
    },
    {
      "cell_type": "code",
      "execution_count": null,
      "metadata": {
        "id": "kiY6SQ01zzTO"
      },
      "outputs": [],
      "source": [
        "scoring.loc['DTR', ['mae_test', 'corr_test']] = [mae_error, corr]"
      ]
    },
    {
      "cell_type": "markdown",
      "metadata": {
        "id": "ROtYk894ywh1"
      },
      "source": [
        "## Extra Tree Classification"
      ]
    },
    {
      "cell_type": "code",
      "execution_count": null,
      "metadata": {
        "id": "-p02s7Gtz4l3"
      },
      "outputs": [],
      "source": [
        "ypred_etc = etc.predict(test)\n",
        "ypred_etc"
      ]
    },
    {
      "cell_type": "code",
      "execution_count": null,
      "metadata": {
        "id": "5P22CAXyz4l4"
      },
      "outputs": [],
      "source": [
        "mae_error = mean_absolute_error(ytest, ypred_etc)\n",
        "print(f'Mean Absolute Error : {mae_error}')"
      ]
    },
    {
      "cell_type": "code",
      "execution_count": null,
      "metadata": {
        "id": "BZlgq9SAz4l4"
      },
      "outputs": [],
      "source": [
        "corr = np.corrcoef(ytest, ypred_etc)[0, 1]\n",
        "print(f'Correlation between Predicted and Actual value : {corr}')"
      ]
    },
    {
      "cell_type": "code",
      "execution_count": null,
      "metadata": {
        "id": "PoPwnfD8z4l4"
      },
      "outputs": [],
      "source": [
        "scoring.loc['ETC', ['mae_test', 'corr_test']] = [mae_error, corr]"
      ]
    },
    {
      "cell_type": "markdown",
      "metadata": {
        "id": "eUx99lc3y18S"
      },
      "source": [
        "## Decision Tree Classification"
      ]
    },
    {
      "cell_type": "code",
      "execution_count": null,
      "metadata": {
        "id": "_4QUoDkTz8ZI"
      },
      "outputs": [],
      "source": [
        "ypred_dtc = dtc.predict(test)\n",
        "ypred_dtc"
      ]
    },
    {
      "cell_type": "code",
      "execution_count": null,
      "metadata": {
        "id": "3MNdo3YAz8ZI"
      },
      "outputs": [],
      "source": [
        "mae_error = mean_absolute_error(ytest, ypred_dtc)\n",
        "print(f'Mean Absolute Error : {mae_error}')"
      ]
    },
    {
      "cell_type": "code",
      "execution_count": null,
      "metadata": {
        "id": "qCAT-U26z8ZI"
      },
      "outputs": [],
      "source": [
        "corr = np.corrcoef(ytest, ypred_dtc)[0, 1]\n",
        "print(f'Correlation between Predicted and Actual value : {corr}')"
      ]
    },
    {
      "cell_type": "code",
      "execution_count": null,
      "metadata": {
        "id": "nPRHt87oz8ZI"
      },
      "outputs": [],
      "source": [
        "scoring.loc['DTC', ['mae_test', 'corr_test']] = [mae_error, corr]"
      ]
    },
    {
      "cell_type": "markdown",
      "metadata": {
        "id": "IEhoUJyC0RAF"
      },
      "source": [
        "# Test Set Evaluation"
      ]
    },
    {
      "cell_type": "code",
      "execution_count": null,
      "metadata": {
        "id": "hLFgUxEe0SJm"
      },
      "outputs": [],
      "source": [
        "display(scoring)"
      ]
    },
    {
      "cell_type": "code",
      "source": [
        "scoring.sort_values('corr_validation', ascending = False)"
      ],
      "metadata": {
        "id": "rIl3TND0mhkg"
      },
      "execution_count": null,
      "outputs": []
    },
    {
      "cell_type": "code",
      "source": [
        "scoring['mae_mean'] = scoring[['mae_validation', 'mae_test']].mean(axis = 1)\n",
        "scoring['corr_mean'] = scoring[['corr_validation', 'corr_test']].mean(axis = 1)"
      ],
      "metadata": {
        "id": "3424csqpsRrb"
      },
      "execution_count": null,
      "outputs": []
    },
    {
      "cell_type": "code",
      "source": [
        "display(scoring.sort_values('mae_mean', ascending = True))"
      ],
      "metadata": {
        "id": "80iUBJuRsv0t"
      },
      "execution_count": null,
      "outputs": []
    },
    {
      "cell_type": "code",
      "source": [
        "display(scoring.sort_values('corr_mean', ascending = False))"
      ],
      "metadata": {
        "id": "NV9AMQdGswPN"
      },
      "execution_count": null,
      "outputs": []
    },
    {
      "cell_type": "code",
      "source": [
        "scoring[['corr_validation', 'corr_test', 'corr_mean']].sort_values('corr_mean', ascending = False).plot.bar()"
      ],
      "metadata": {
        "id": "M9wh6m1bs3RW"
      },
      "execution_count": null,
      "outputs": []
    },
    {
      "cell_type": "code",
      "source": [
        "scoring[['mae_validation', 'mae_test', 'mae_mean']].sort_values('mae_mean', ascending = True).plot.bar()"
      ],
      "metadata": {
        "id": "cX1_61l5tZ09"
      },
      "execution_count": null,
      "outputs": []
    },
    {
      "cell_type": "markdown",
      "source": [
        "# Seeing through the model\n",
        "We want to know how the model decides each variable as its priority / to get  the result. <br>\n",
        "There are 8 models, we'll use the top 3 to see the result."
      ],
      "metadata": {
        "id": "HU9dN6dh7dhM"
      }
    },
    {
      "cell_type": "markdown",
      "source": [
        "## According to Extra Trees Regressor"
      ],
      "metadata": {
        "id": "kgAz6os9_iVR"
      }
    },
    {
      "cell_type": "code",
      "source": [
        "perm_etsr = PermutationImportance(etsr, random_state = 0).fit(xval, yval)\n",
        "eli5.show_weights(perm_etsr, feature_names = xval.columns.tolist())"
      ],
      "metadata": {
        "id": "fJzD7q2Y8Err"
      },
      "execution_count": null,
      "outputs": []
    },
    {
      "cell_type": "code",
      "source": [
        "etsr_feature_importance = pd.Series(\n",
        "    etsr.feature_importances_,\n",
        "    index = xval.columns.tolist()\n",
        ").sort_values(ascending = False)\n",
        "etsr_feature_importance"
      ],
      "metadata": {
        "id": "pWXeyINV9nVd"
      },
      "execution_count": null,
      "outputs": []
    },
    {
      "cell_type": "code",
      "source": [
        "plt.rcParams['figure.figsize'] = (9, 9)\n",
        "from sklearn import tree\n",
        "from sklearn.tree import _tree\n",
        "import graphviz\n",
        "\n",
        "tree_etsr = tree.export_graphviz(etsr.estimators_[0], out_file = None, feature_names = xval.columns.tolist())\n",
        "graphviz.Source(tree_etsr)"
      ],
      "metadata": {
        "id": "u3uVPcWa-Oy9"
      },
      "execution_count": null,
      "outputs": []
    },
    {
      "cell_type": "code",
      "source": [
        "#for i in range(10) :\n",
        "#    path = f'/content/drive/MyDrive/ML Project /Red Wine Quality/Decision Function Trees/Extra Tree - {i}'\n",
        "#    tree.export_graphviz(etsr.estimators_[i], out_file = path + '.dot', feature_names = xval.columns.tolist())\n",
        "#    (graph, ) = pydot.graph_from_dot_file(path + '.dot')\n",
        "#    graph.write_png(path + '.png')\n",
        "#    os.remove(path + '.dot')"
      ],
      "metadata": {
        "id": "39qCroy-h3kN"
      },
      "execution_count": null,
      "outputs": []
    },
    {
      "cell_type": "code",
      "source": [
        "print(tree.export_text(etsr.estimators_[0], feature_names = xval.columns.tolist(), max_depth = 15))"
      ],
      "metadata": {
        "id": "uV-aivpOE5Ds"
      },
      "execution_count": null,
      "outputs": []
    },
    {
      "cell_type": "code",
      "source": [
        "print(tree.export_text(etsr.estimators_[1], feature_names = xval.columns.tolist(), spacing = 2))"
      ],
      "metadata": {
        "id": "LtUH4kmUQ7ss"
      },
      "execution_count": null,
      "outputs": []
    },
    {
      "cell_type": "code",
      "source": [
        "for i in range(10) :\n",
        "    text = tree.export_text(etsr.estimators_[i], feature_names = xval.columns.tolist(), max_depth = 20, spacing = 3)\n",
        "    with open(f'/content/drive/MyDrive/ML Project /Red Wine Quality/Decision Function Trees/Extra Tree - {i}.txt', 'w') as f :\n",
        "        f.write(text)\n",
        "    print(f'Extra Tree {i} Completed')"
      ],
      "metadata": {
        "id": "1N8FNww3J-jB"
      },
      "execution_count": null,
      "outputs": []
    },
    {
      "cell_type": "code",
      "source": [
        "def get_rules(tree, feature_names, class_names):\n",
        "    tree_ = tree.tree_\n",
        "    feature_name = [\n",
        "        feature_names[i] if i != _tree.TREE_UNDEFINED else \"undefined!\"\n",
        "        for i in tree_.feature\n",
        "    ]\n",
        "\n",
        "    paths = []\n",
        "    path = []\n",
        "    \n",
        "    def recurse(node, path, paths):\n",
        "        \n",
        "        if tree_.feature[node] != _tree.TREE_UNDEFINED:\n",
        "            name = feature_name[node]\n",
        "            threshold = tree_.threshold[node]\n",
        "            p1, p2 = list(path), list(path)\n",
        "            p1 += [f\"({name} <= {np.round(threshold, 3)})\"]\n",
        "            recurse(tree_.children_left[node], p1, paths)\n",
        "            p2 += [f\"({name} > {np.round(threshold, 3)})\"]\n",
        "            recurse(tree_.children_right[node], p2, paths)\n",
        "        else:\n",
        "            path += [(tree_.value[node], tree_.n_node_samples[node])]\n",
        "            paths += [path]\n",
        "            \n",
        "    recurse(0, path, paths)\n",
        "\n",
        "    # sort by samples count\n",
        "    samples_count = [p[-1][1] for p in paths]\n",
        "    ii = list(np.argsort(samples_count))\n",
        "    paths = [paths[i] for i in reversed(ii)]\n",
        "    \n",
        "    rules = []\n",
        "    for path in paths:\n",
        "        rule = \"if \"\n",
        "        \n",
        "        for p in path[:-1]:\n",
        "            if rule != \"if \":\n",
        "                rule += \" and \"\n",
        "            rule += str(p)\n",
        "        rule += \" then \"\n",
        "        if class_names is None:\n",
        "            rule += \"response: \"+str(np.round(path[-1][0][0][0],3))\n",
        "        else:\n",
        "            classes = path[-1][0][0]\n",
        "            l = np.argmax(classes)\n",
        "            rule += f\"class: {class_names[l]} (proba: {np.round(100.0*classes[l]/np.sum(classes),2)}%)\"\n",
        "        rule += f\" | based on {path[-1][1]:,} samples\"\n",
        "        rules += [rule]\n",
        "        \n",
        "    return rules"
      ],
      "metadata": {
        "id": "Hdr5XhCsNfYv"
      },
      "execution_count": null,
      "outputs": []
    },
    {
      "cell_type": "code",
      "source": [
        "rules = get_rules(etsr.estimators_[0], xval.columns.tolist(), None)\n",
        "for rule in rules:\n",
        "  print(rule)"
      ],
      "metadata": {
        "id": "kXbhtzpSNgJO"
      },
      "execution_count": null,
      "outputs": []
    },
    {
      "cell_type": "markdown",
      "source": [
        "## According to Random Forest Regressor"
      ],
      "metadata": {
        "id": "38tbQ1c8_l0Z"
      }
    },
    {
      "cell_type": "code",
      "source": [
        "perm_rfr = PermutationImportance(rfr, random_state = 0).fit(xval, yval)\n",
        "eli5.show_weights(perm_rfr, feature_names = xval.columns.tolist())"
      ],
      "metadata": {
        "id": "EHNjGcNv_ovF"
      },
      "execution_count": null,
      "outputs": []
    },
    {
      "cell_type": "code",
      "source": [
        "rfr_feature_importance = pd.Series(\n",
        "    rfr.feature_importances_,\n",
        "    index = xval.columns.tolist()\n",
        ").sort_values(ascending = False)\n",
        "rfr_feature_importance"
      ],
      "metadata": {
        "id": "X8Q1jv5o_o67"
      },
      "execution_count": null,
      "outputs": []
    },
    {
      "cell_type": "code",
      "source": [
        "plt.rcParams['figure.figsize'] = (9, 9)\n",
        "from sklearn import tree\n",
        "import graphviz\n",
        "\n",
        "tree_rfr = tree.export_graphviz(rfr.estimators_[1], out_file = None, feature_names = xval.columns.tolist())\n",
        "graphviz.Source(tree_rfr)"
      ],
      "metadata": {
        "id": "xI82U75f_pFK"
      },
      "execution_count": null,
      "outputs": []
    },
    {
      "cell_type": "code",
      "source": [
        "for i in range(10) :\n",
        "    path = f'/content/drive/MyDrive/ML Project /Red Wine Quality/Decision Function Trees/Random Forest - {i}.txt'\n",
        "    text = tree.export_text(rfr.estimators_[i], feature_names = xval.columns.tolist(), max_depth = 15)\n",
        "    with open(path, 'w') as f :\n",
        "        f.write(text)\n",
        "    print(f'Random Forest {i} Completed')"
      ],
      "metadata": {
        "id": "vZ8pFKMVi17F"
      },
      "execution_count": null,
      "outputs": []
    },
    {
      "cell_type": "markdown",
      "source": [
        "## According to Extra Tree Regressor"
      ],
      "metadata": {
        "id": "XYO59dV7AmG8"
      }
    },
    {
      "cell_type": "code",
      "source": [
        "perm_etr = PermutationImportance(etr, random_state = 0).fit(xval, yval)\n",
        "eli5.show_weights(perm_etr, feature_names = xval.columns.tolist())"
      ],
      "metadata": {
        "id": "f1xSBaanAxGi"
      },
      "execution_count": null,
      "outputs": []
    },
    {
      "cell_type": "code",
      "source": [
        "etr_feature_importance = pd.Series(\n",
        "    etr.feature_importances_,\n",
        "    index = xval.columns.tolist()\n",
        ").sort_values(ascending = False)\n",
        "etr_feature_importance"
      ],
      "metadata": {
        "id": "0U_Mb8r_AxYy"
      },
      "execution_count": null,
      "outputs": []
    },
    {
      "cell_type": "code",
      "source": [
        "plt.rcParams['figure.figsize'] = (9, 9)\n",
        "from sklearn import tree\n",
        "import graphviz\n",
        "\n",
        "tree_etr = tree.export_graphviz(etr, out_file = None, feature_names = xval.columns.tolist())\n",
        "graphviz.Source(tree_etr)"
      ],
      "metadata": {
        "id": "m5X-0DSEAxfC"
      },
      "execution_count": null,
      "outputs": []
    },
    {
      "cell_type": "code",
      "source": [
        "path = f'/content/drive/MyDrive/ML Project /Red Wine Quality/Decision Function Trees/Extra Tree.txt'\n",
        "text = tree.export_text(etr, feature_names = xval.columns.tolist(), max_depth = 15)\n",
        "with open(path, 'w') as f :\n",
        "    f.write(text)"
      ],
      "metadata": {
        "id": "eeBWBvBHjFs3"
      },
      "execution_count": null,
      "outputs": []
    },
    {
      "cell_type": "markdown",
      "source": [
        "# Pruning the Tree"
      ],
      "metadata": {
        "id": "gWz9Y7miSsNE"
      }
    },
    {
      "cell_type": "markdown",
      "source": [
        "# Conclusion"
      ],
      "metadata": {
        "id": "UUMq4_6cuGOd"
      }
    },
    {
      "cell_type": "markdown",
      "source": [
        "After we're looking through 8 different models, we can see that by using the Extra Trees Regressor, we get the best score overall. Lowest MAE and highest correlation. But this is still the baseline, we still haven't explored any other technique that we can use to get the best score and correlation between our predicted values and actual values. This is intentionally made just like this so we can take our step one-by-one."
      ],
      "metadata": {
        "id": "Ujv4nWoHuQDa"
      }
    },
    {
      "cell_type": "markdown",
      "source": [
        "# Saving model into file"
      ],
      "metadata": {
        "id": "4AMlPWZmvmgu"
      }
    },
    {
      "cell_type": "code",
      "source": [
        "import joblib"
      ],
      "metadata": {
        "id": "BG7cbHqZvlSI"
      },
      "execution_count": null,
      "outputs": []
    },
    {
      "cell_type": "markdown",
      "source": [
        "Best candidate model : <br>\n",
        "Extra Trees Regressor <br>\n",
        "Random Forest Regressor <br>\n",
        "Extra Tree Regressor"
      ],
      "metadata": {
        "id": "KpqP_LxNwhO1"
      }
    },
    {
      "cell_type": "code",
      "source": [
        "path = '/content/drive/MyDrive/ML Project /Red Wine Quality/Model/'\n",
        "joblib.dump(etr, f'{path}extra_tree.sav')\n",
        "joblib.dump(rfr, f'{path}random_forest.sav')\n",
        "joblib.dump(etsr, f'{path}extra_trees.sav')"
      ],
      "metadata": {
        "id": "9shc_iX4vln3",
        "colab": {
          "base_uri": "https://localhost:8080/"
        },
        "outputId": "aba75cc9-6b77-480d-f08d-21bc3fdcf5d9"
      },
      "execution_count": null,
      "outputs": [
        {
          "output_type": "execute_result",
          "data": {
            "text/plain": [
              "['/content/drive/MyDrive/ML Project /Red Wine Quality/Model/extra_trees.sav']"
            ]
          },
          "metadata": {},
          "execution_count": 126
        }
      ]
    }
  ],
  "metadata": {
    "colab": {
      "provenance": []
    },
    "kernelspec": {
      "display_name": "Python 3",
      "name": "python3"
    },
    "language_info": {
      "name": "python"
    }
  },
  "nbformat": 4,
  "nbformat_minor": 0
}